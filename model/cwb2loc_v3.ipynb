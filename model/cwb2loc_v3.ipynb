{
 "cells": [
  {
   "cell_type": "code",
   "execution_count": 1,
   "metadata": {},
   "outputs": [
    {
     "name": "stderr",
     "output_type": "stream",
     "text": [
      "/home/davidteng/anaconda3/envs/wsd/lib/python3.9/site-packages/tqdm/auto.py:21: TqdmWarning: IProgress not found. Please update jupyter and ipywidgets. See https://ipywidgets.readthedocs.io/en/stable/user_install.html\n",
      "  from .autonotebook import tqdm as notebook_tqdm\n"
     ]
    }
   ],
   "source": [
    "import json, torch\n",
    "import lightning  as L\n",
    "from torch.utils.data import Dataset, DataLoader\n",
    "from transformers import AutoTokenizer\n",
    "from torch.nn import functional as F\n",
    "import csv\n",
    "from collections import defaultdict\n",
    "import torch.nn as nn\n",
    "import torch.optim as optim\n",
    "from sklearn.preprocessing import StandardScaler\n",
    "import numpy as np\n",
    "import pickle\n",
    "from scipy.interpolate import interp1d\n",
    "import random"
   ]
  },
  {
   "cell_type": "code",
   "execution_count": 2,
   "metadata": {},
   "outputs": [
    {
     "name": "stdout",
     "output_type": "stream",
     "text": [
      "Using GPU: True\n",
      "cuda:0\n"
     ]
    }
   ],
   "source": [
    "print(f\"Using GPU: {torch.cuda.is_available()}\")\n",
    "device = torch.device(\"cuda:0\" if torch.cuda.is_available() else \"cpu\")\n",
    "print(device)\n",
    "import os\n",
    "os.environ[\"TOKENIZERS_PARALLELISM\"] = \"false\""
   ]
  },
  {
   "cell_type": "markdown",
   "metadata": {},
   "source": [
    "#### load training data"
   ]
  },
  {
   "cell_type": "code",
   "execution_count": 3,
   "metadata": {},
   "outputs": [
    {
     "name": "stdout",
     "output_type": "stream",
     "text": [
      "123.47\n"
     ]
    }
   ],
   "source": [
    "train_data_paths = [f\"../36_TrainingData/L{loc}_Train.csv\" for loc in range(1, 17+1)]\n",
    "add_ids = [2,4,7,8,9,10,12]\n",
    "add_train_data_paths = [f\"../36_TrainingData_Additional_V2/L{loc}_Train_2.csv\" for loc in add_ids]\n",
    "\n",
    "train_data_dict = defaultdict(lambda: defaultdict(lambda: defaultdict(lambda: defaultdict(lambda: defaultdict(list)))))\n",
    "\n",
    "for csv_path in train_data_paths:\n",
    "    with open(csv_path, 'r', encoding='utf-8') as csv_file:\n",
    "        reader = csv.reader(csv_file)\n",
    "        header = next(reader)  # 跳過標題列\n",
    "        for row in reader:\n",
    "            # 解析數據並存入字典\n",
    "            loc = row[0]\n",
    "            date = row[1][:10]\n",
    "            month = date[5:7]\n",
    "            day = date[8:10]\n",
    "            time = row[1][11:16]\n",
    "            hour = time[:2]\n",
    "            minute = time[-2:]\n",
    "            train_data_dict[int(loc)][int(month)][int(day)][int(hour)][int(minute)] = float(row[-1])\n",
    "for csv_path in add_train_data_paths:\n",
    "    with open(csv_path, 'r', encoding='utf-8') as csv_file:\n",
    "        reader = csv.reader(csv_file)\n",
    "        header = next(reader)  # 跳過標題列\n",
    "        for row in reader:\n",
    "            # 解析數據並存入字典\n",
    "            loc = row[0]\n",
    "            date = row[1][:10]\n",
    "            month = date[5:7]\n",
    "            day = date[8:10]\n",
    "            time = row[1][11:16]\n",
    "            hour = time[:2]\n",
    "            minute = time[-2:]\n",
    "            train_data_dict[int(loc)][int(month)][int(day)][int(hour)][int(minute)] = float(row[-1])\n",
    "print((train_data_dict[1][2][2][9][0]))"
   ]
  },
  {
   "cell_type": "markdown",
   "metadata": {},
   "source": [
    "#### load cwb data"
   ]
  },
  {
   "cell_type": "code",
   "execution_count": 4,
   "metadata": {},
   "outputs": [
    {
     "name": "stdout",
     "output_type": "stream",
     "text": [
      "0.5\n",
      "[]\n"
     ]
    }
   ],
   "source": [
    "from collections import defaultdict\n",
    "import numpy as np\n",
    "import csv\n",
    "from scipy.interpolate import interp1d\n",
    "\n",
    "# 定义月份和特征\n",
    "months = ['01','02','03','04','05','06','07','08', '09', '10']\n",
    "features = ['rain', 'raintime', 'solarpower', 'suntime', 'temp', 'uv']\n",
    "\n",
    "# 初始化 cwb_data_dict，四层嵌套：特征 -> 月份 -> 天数 -> 时间索引\n",
    "# 时间索引初始为小时（0-23），插值后为分钟（0-1439）\n",
    "cwb_data_dict = defaultdict(lambda: defaultdict(lambda: defaultdict(lambda: defaultdict(float))))\n",
    "\n",
    "# 读取气象数据\n",
    "for month in months:\n",
    "    for feature in features:\n",
    "        csv_path = f'../cwbdata/{month}/{feature}-{month}.csv'\n",
    "        try:\n",
    "            with open(csv_path, 'r', encoding='utf-8') as csv_file:\n",
    "                reader = csv.reader(csv_file)\n",
    "                for row in reader:\n",
    "                    if row[0].isdigit():\n",
    "                        day = int(row[0])\n",
    "                        for hour_index, value in enumerate(row[1:], start=0):\n",
    "                            if hour_index < 24:\n",
    "                                try:\n",
    "                                    cwb_data_dict[feature][int(month)][day][hour_index] = float(value)\n",
    "                                except (ValueError, TypeError):\n",
    "                                    cwb_data_dict[feature][int(month)][day][hour_index] = None  # 标记为无效值\n",
    "        except FileNotFoundError:\n",
    "            print(f\"文件未找到: {csv_path}\")\n",
    "\n",
    "# 初始化插值后的数据字典\n",
    "cwb_data_interp_dict = defaultdict(lambda: defaultdict(lambda: defaultdict(lambda: defaultdict(list))))\n",
    "\n",
    "def interpolate_minute_data(hourly_values):\n",
    "    \"\"\"\n",
    "    对一天的24小时数据进行每分钟插值，返回1440分钟的浮点数列表。\n",
    "    使用三次样条插值，并确保插值后的值不为负。\n",
    "    \"\"\"\n",
    "    # 已知的分钟位置（每小时的第30分钟）\n",
    "    known_minutes = np.array([h * 60 + 30 for h in range(24)])\n",
    "    known_values = np.array(hourly_values)\n",
    "    \n",
    "    # 创建所有分钟的索引\n",
    "    all_minutes = np.arange(1440)\n",
    "    \n",
    "    # 处理缺失值后进行插值\n",
    "    # 使用三次样条插值\n",
    "    try:\n",
    "        # 创建插值函数\n",
    "        spline = interp1d(known_minutes, known_values, kind='cubic', fill_value=\"extrapolate\")\n",
    "        interpolated = spline(all_minutes)\n",
    "    except Exception as e:\n",
    "        print(f\"插值失败: {e}\")\n",
    "        interpolated = np.zeros(1440)\n",
    "    \n",
    "    # 确保插值后的值不为负\n",
    "    interpolated = np.clip(interpolated, a_min=0, a_max=None)\n",
    "    \n",
    "    return interpolated.tolist()\n",
    "\n",
    "# 处理每个特征、每个月、每天的数据\n",
    "for feature in features:\n",
    "    for month in range(1, 11):  # months '01' to '10' correspond to 1 to 10\n",
    "        for day in cwb_data_dict[feature][month]:\n",
    "            # 获取24小时的值\n",
    "            hourly_values = [cwb_data_dict[feature][month][day].get(hour, None) for hour in range(24)]\n",
    "            \n",
    "            # 填充 None 值\n",
    "            for hour in range(24):\n",
    "                if hourly_values[hour] is None:\n",
    "                    # 查找前一个有效值\n",
    "                    prev = None\n",
    "                    for h in range(hour - 1, -1, -1):\n",
    "                        if hourly_values[h] is not None:\n",
    "                            prev = hourly_values[h]\n",
    "                            break\n",
    "                    # 查找后一个有效值\n",
    "                    next_val = None\n",
    "                    for h in range(hour + 1, 24):\n",
    "                        if hourly_values[h] is not None:\n",
    "                            next_val = hourly_values[h]\n",
    "                            break\n",
    "                    # 计算平均值\n",
    "                    if prev is not None and next_val is not None:\n",
    "                        hourly_values[hour] = (prev + next_val) / 2\n",
    "                    elif prev is not None:\n",
    "                        hourly_values[hour] = prev\n",
    "                    elif next_val is not None:\n",
    "                        hourly_values[hour] = next_val\n",
    "                    else:\n",
    "                        hourly_values[hour] = 0.0  # 无有效值，填充0.0\n",
    "            \n",
    "            # 进行插值\n",
    "            interpolated_minutes = interpolate_minute_data(hourly_values)\n",
    "            \n",
    "            # 将1440分钟的数据分成24个小时，每小时60分钟\n",
    "            for hour in range(24):\n",
    "                start_min = hour * 60\n",
    "                end_min = start_min + 60\n",
    "                # cwb_data_interp_dict[feature][month][day][hour] = interpolated_minutes[start_min:end_min]\n",
    "                cwb_data_interp_dict[feature][month][day][hour] = [cwb_data_dict[feature][month][day][hour]] * 60\n",
    "\n",
    "# 确保插值后的数据没有 None\n",
    "for feature in features:\n",
    "    for month in range(1, 11):\n",
    "        for day in cwb_data_interp_dict[feature][month]:\n",
    "            for hour in range(24):\n",
    "                minute_data = cwb_data_interp_dict[feature][month][day][hour]\n",
    "                if any([x is None for x in minute_data]):\n",
    "                    # 进一步处理可能的 None（理论上已处理完毕）\n",
    "                    cwb_data_interp_dict[feature][month][day][hour] = [0.0 if x is None else x for x in minute_data]\n",
    "\n",
    "# 打印一个示例\n",
    "print(cwb_data_dict['suntime'][1][2][7])  # 1月1日的1点的rain数据，60个浮点数\n",
    "print(cwb_data_interp_dict['pressure'][1][2][6])  # 1月1日的1点的rain数据，60个浮点数\n"
   ]
  },
  {
   "cell_type": "code",
   "execution_count": 5,
   "metadata": {},
   "outputs": [
    {
     "data": {
      "image/png": "[encoded data removed]",
      "text/plain": [
       "<Figure size 1600x800 with 1 Axes>"
      ]
     },
     "metadata": {},
     "output_type": "display_data"
    }
   ],
   "source": [
    "import matplotlib.pyplot as plt\n",
    "\n",
    "# 选择一个示例日期和特征\n",
    "sample_feature = 'suntime'  # 特征名称\n",
    "sample_month = 1         # 月份\n",
    "sample_day = 2           # 日期\n",
    "\n",
    "# 获取原始小时值（0:30到23:30的值）\n",
    "original_hours = [h * 60 + 30 for h in range(24)]\n",
    "original_values = [cwb_data_dict[sample_feature][sample_month][sample_day].get(h, None) for h in range(24)]\n",
    "\n",
    "# 获取插值后的分钟值\n",
    "interpolated_minutes = []\n",
    "for hour in range(24):\n",
    "    interpolated_minutes.extend(cwb_data_interp_dict[sample_feature][sample_month][sample_day][hour])\n",
    "\n",
    "# 创建分钟时间轴\n",
    "minutes = np.arange(1440)\n",
    "\n",
    "# 绘制插值结果\n",
    "plt.figure(figsize=(16, 8))\n",
    "plt.plot(original_hours, original_values, 'o', label='Original Data (Hourly)', markersize=8)\n",
    "plt.plot(minutes, interpolated_minutes, '-', label='Interpolated Data (Per Minute)', linewidth=1)\n",
    "plt.title(f'Interpolation for {sample_feature} on {sample_month}/{sample_day}', fontsize=16)\n",
    "plt.xlabel('Minute of Day', fontsize=12)\n",
    "plt.ylabel(f'{sample_feature} Value', fontsize=12)\n",
    "plt.legend(fontsize=12)\n",
    "plt.grid(alpha=0.3)\n",
    "plt.show()\n"
   ]
  },
  {
   "cell_type": "markdown",
   "metadata": {},
   "source": [
    "#### preprocess data"
   ]
  },
  {
   "cell_type": "code",
   "execution_count": 6,
   "metadata": {},
   "outputs": [],
   "source": [
    "class Cwb2LocDataset(Dataset):\n",
    "    def __init__(self, train_data_dict, cwb_data_interp_dict, features, start_time = [6, 30], end_time = [17, 19]):\n",
    "        self.x = []\n",
    "        self.y = []\n",
    "\n",
    "        def extract_features(cwb_data_interp_dict, features, location, month, day, hour, minute):\n",
    "            try:\n",
    "                newx = [cwb_data_interp_dict[feature][month][day][hour][minute] for feature in features]\n",
    "                newx.append(int(location))  # 添加 location 作为特征\n",
    "                # newx.append(int(hour))\n",
    "                # newx.append(int(minute))\n",
    "            except Exception as e:\n",
    "                print(f\"Error at {location}-{month}-{day} {hour}:{minute}: {e}\")\n",
    "                newx = [0.0] * (len(features) + 1)\n",
    "            return newx\n",
    "        def calculate_max_len(start_time, end_time):\n",
    "            \"\"\"\n",
    "            根据 start_time 和 end_time 计算每 10 分钟一组的最大长度 max_len。\n",
    "            \"\"\"\n",
    "            # 计算起始时间和结束时间的总分钟数\n",
    "            start_minutes = start_time[0] * 60 + start_time[1]\n",
    "            end_minutes = end_time[0] * 60 + end_time[1]\n",
    "            \n",
    "            # 确保时间范围有效\n",
    "            if end_minutes <= start_minutes:\n",
    "                raise ValueError(\"End time must be greater than start time\")\n",
    "            \n",
    "            # 总分钟数\n",
    "            total_minutes = end_minutes - start_minutes + 1  # 包含边界的分钟数\n",
    "\n",
    "            # 计算每 10 分钟为一组的组数\n",
    "            max_len = total_minutes // 10\n",
    "            if total_minutes % 10 != 0:\n",
    "                raise ValueError(\"The given time range does not align perfectly with 10-minute intervals\")\n",
    "            return max_len\n",
    "\n",
    "        # start_time = [6, 21]  # 起始时间 6:21\n",
    "        # end_time = [17, 20]  # 结束时间 17:20\n",
    "        testdatanum = 0\n",
    "        brokedatanum = 0\n",
    "        max_len = calculate_max_len(start_time, end_time)\n",
    "        for location in train_data_dict:\n",
    "            for month in train_data_dict[location]:\n",
    "                for day in train_data_dict[location][month]:\n",
    "                    train_date_x = []\n",
    "                    train_date_y = []\n",
    "                    missing_list = []\n",
    "                    \n",
    "                    for hour in range(start_time[0], end_time[0] + 1):\n",
    "                        minute_start = start_time[1] if hour == start_time[0] else 0\n",
    "                        minute_end = end_time[1]+1 if hour == end_time[0] else 60\n",
    "\n",
    "                        for start_minute in range(minute_start, minute_end, 10):  # 每10分钟一组\n",
    "                            group_x = []\n",
    "                            group_y = []\n",
    "                            valid_data_count = 0\n",
    "\n",
    "                            for minute in range(start_minute, start_minute + 10):\n",
    "                                if minute >= minute_end:\n",
    "                                    break\n",
    "                                # 提取特征数据\n",
    "                                newx = extract_features(cwb_data_interp_dict, features, location, month, day, hour, minute)\n",
    "                                # 提取目标数据\n",
    "                                newy = train_data_dict[location][month][day][hour].get(minute, None)\n",
    "\n",
    "                                if newy is not None and newy != []:\n",
    "                                    group_x.append(newx)\n",
    "                                    group_y.append(newy)\n",
    "                                    valid_data_count += 1\n",
    "\n",
    "                            if valid_data_count > 0:\n",
    "                                # 计算该时间段的平均值\n",
    "                                averaged_x = np.mean(group_x, axis=0).tolist()\n",
    "                                train_date_x.append(averaged_x)\n",
    "                                averaged_y = np.mean(group_y, axis=0).tolist()\n",
    "                                train_date_y.append([averaged_y])  # 增加一个维度\n",
    "\n",
    "                            else:\n",
    "                                # 如果整段时间缺失，抛出错误\n",
    "                                missing_list.append(f\"Missing data for time segment: loc{location} {month}/{day} {hour}:{start_minute}-{start_minute + 9}\")\n",
    "                                pass\n",
    "\n",
    "                    # 校验时间段长度\n",
    "                    if len(train_date_x) == max_len:\n",
    "                        self.x.append(train_date_x)\n",
    "                        self.y.append(train_date_y)\n",
    "                    else:\n",
    "                        if len(train_date_x) >= 55:\n",
    "                            # print(f\"loc{location}_{month}/{day} 数据长度错误: {len(train_date_x)}/{max_len}\")\n",
    "                            # for miss in missing_list:\n",
    "                            #     print(miss)\n",
    "                            pass\n",
    "                        if len(train_date_x) == 15:\n",
    "                            testdatanum += 1\n",
    "                        else:\n",
    "                            brokedatanum += 1\n",
    "                        # if len(invalid_list) <= 100:\n",
    "                        #     for inv in invalid_list:\n",
    "                        #         print(inv)\n",
    "\n",
    "        print(f'test?: {testdatanum}')\n",
    "        print(f'broke?: {brokedatanum}')\n",
    "        \n",
    "        # 数据检查\n",
    "        for sample_x in self.x:\n",
    "            assert len(sample_x) == max_len, f\"Sample X length {len(sample_x)} != {max_len}\"\n",
    "        for sample_y in self.y:\n",
    "            assert len(sample_y) == max_len, f\"Sample Y length {len(sample_y)} != {max_len}\"\n",
    "        \n",
    "        # 转为 NumPy 数组\n",
    "        self.x = np.array(self.x, dtype=np.float32)\n",
    "        # self.y = np.array(self.y, dtype=np.float32)\n",
    "        self.y = np.array(self.y, dtype=np.float32).reshape(-1, max_len, 1)  # 增加一个维度\n",
    "\n",
    "\n",
    "        # 数据标准化\n",
    "        self.x_scaler = StandardScaler()\n",
    "        self.y_scaler = StandardScaler()\n",
    "\n",
    "        # 标准化数据\n",
    "        self.x_scaler.fit(self.x.reshape(-1, self.x.shape[-1]))\n",
    "        self.y_scaler.fit(self.y.reshape(-1, self.y.shape[-1]))\n",
    "\n",
    "        self.x = self.x_scaler.transform(self.x.reshape(-1, self.x.shape[-1])).reshape(self.x.shape)\n",
    "        self.y = self.y_scaler.transform(self.y.reshape(-1, self.y.shape[-1])).reshape(self.y.shape)\n",
    "\n",
    "\n",
    "        # 保存标准化器\n",
    "        with open(f'./scalar_v3/x_scaler-{ID}.pkl', 'wb') as f:\n",
    "            pickle.dump(self.x_scaler, f)\n",
    "        with open(f'./scalar_v3/y_scaler-{ID}.pkl', 'wb') as f:\n",
    "            pickle.dump(self.y_scaler, f)\n",
    "\n",
    "    def __getitem__(self, index):\n",
    "        return torch.tensor(self.x[index], dtype=torch.float32), torch.tensor(self.y[index], dtype=torch.float32)\n",
    "\n",
    "\n",
    "    def __len__(self):\n",
    "        return len(self.x)\n",
    "\n",
    "\n",
    "        "
   ]
  },
  {
   "cell_type": "code",
   "execution_count": 7,
   "metadata": {},
   "outputs": [],
   "source": [
    "# test = Cwb2LocDataset(\n",
    "#     train_data_dict,\n",
    "#     cwb_data_interp_dict,\n",
    "#     features=features\n",
    "# )\n",
    "# print((test[1]))"
   ]
  },
  {
   "cell_type": "markdown",
   "metadata": {},
   "source": [
    "#### cut data"
   ]
  },
  {
   "cell_type": "code",
   "execution_count": 8,
   "metadata": {},
   "outputs": [],
   "source": [
    "class Cwb2LocDataModule(L.LightningDataModule):\n",
    "    def __init__(self, train_data_dict, cwb_data_dict, features, batch_size=16, train_split=0.9, start_time = [6, 30], end_time = [17, 19]):\n",
    "        super().__init__()\n",
    "        self.train_data_dict = train_data_dict\n",
    "        self.cwb_data_dict = cwb_data_dict\n",
    "        self.batch_size = batch_size\n",
    "        self.train_split = train_split\n",
    "        self.features = features\n",
    "        self.start_time = start_time\n",
    "        self.end_time = end_time\n",
    "\n",
    "    def setup(self, stage=None):\n",
    "        dataset = Cwb2LocDataset(self.train_data_dict, self.cwb_data_dict, self.features, self.start_time, self.end_time)\n",
    "        train_size = int(len(dataset) * self.train_split)\n",
    "        val_size = len(dataset) - train_size\n",
    "        \n",
    "        # 设置随机种子\n",
    "        torch.manual_seed(42)  # 确保 PyTorch 随机性可重复\n",
    "        random.seed(42)        # 确保 Python 随机性可重复\n",
    "        np.random.seed(42)     # 确保 NumPy 随机性可重复\n",
    "        \n",
    "        self.train_dataset, self.val_dataset = torch.utils.data.random_split(dataset, [train_size, val_size])\n",
    "\n",
    "    def train_dataloader(self):\n",
    "        return DataLoader(self.train_dataset, batch_size=self.batch_size, shuffle=True)\n",
    "\n",
    "    def val_dataloader(self):\n",
    "        return DataLoader(self.val_dataset, batch_size=self.batch_size)"
   ]
  },
  {
   "cell_type": "code",
   "execution_count": 9,
   "metadata": {},
   "outputs": [],
   "source": [
    "# test_datamodule = Cwb2LocDataModule(train_data_dict, cwb_data_interp_dict, features)\n",
    "# test_datamodule.setup()\n",
    "# train_loader = test_datamodule.train_dataloader()\n",
    "# val_loader = test_datamodule.val_dataloader()\n",
    "\n",
    "# print(f\"Train batches: {len(train_loader)}\")\n",
    "# print(f\"Validation batches: {len(val_loader)}\")\n",
    "\n",
    "# # 測試加載數據\n",
    "# for batch in train_loader:\n",
    "#     x, y = batch\n",
    "#     print(f\"Train batch features shape: {x.shape}\")\n",
    "#     print(f\"Train batch labels shape: {y.shape}\")\n",
    "#     break\n",
    "\n",
    "# for batch in val_loader:\n",
    "#     x, y = batch\n",
    "#     print(f\"Validation batch features shape: {x.shape}\")\n",
    "#     print(f\"Validation batch labels shape: {y.shape}\")\n",
    "#     break"
   ]
  },
  {
   "cell_type": "code",
   "execution_count": 10,
   "metadata": {},
   "outputs": [],
   "source": [
    "class Cwb2LocModel(L.LightningModule):\n",
    "    def __init__(self, input_dim=7, hidden_dim=128, num_layers=2, output_dim=1, learning_rate=1e-3, delta=1.0):\n",
    "        super(Cwb2LocModel, self).__init__()\n",
    "        self.save_hyperparameters()\n",
    "\n",
    "        self.hidden_dim = hidden_dim\n",
    "        self.num_layers = num_layers\n",
    "        self.delta = delta  # 動態設置 delta\n",
    "\n",
    "        # 定義 LSTM 層\n",
    "        self.lstm = nn.LSTM(input_dim, hidden_dim, num_layers, batch_first=True, dropout=0.15, bidirectional=True)\n",
    "\n",
    "        # 定義全連接層\n",
    "        # self.fc1 = nn.Linear(hidden_dim * 2, hidden_dim // 4)\n",
    "        # self.fc2 = nn.Linear(hidden_dim // 4, input_dim)\n",
    "        # self.fc3 = nn.Linear(input_dim, 1)\n",
    "        \n",
    "        self.fc = nn.Sequential(\n",
    "            nn.Linear(hidden_dim * 2, hidden_dim // 4),\n",
    "            nn.ReLU(),\n",
    "            nn.Dropout(0.1),\n",
    "            nn.Linear(hidden_dim // 4, input_dim),\n",
    "            nn.ReLU(),\n",
    "            nn.Dropout(0.1),\n",
    "            nn.Linear(input_dim, 1),\n",
    "        )\n",
    "\n",
    "\n",
    "        # 定義損失函數（Huber Loss）\n",
    "        # self.criterion = nn.HuberLoss(delta=self.delta)\n",
    "        # self.criterion = nn.MSELoss()\n",
    "        self.criterion = nn.L1Loss()\n",
    "        # self.criterion = log_cosh_loss\n",
    "\n",
    "    def log_cosh_loss(y_pred, y_true):\n",
    "        loss = torch.mean(torch.log(torch.cosh(y_pred - y_true)))\n",
    "        return loss\n",
    "\n",
    "    def forward(self, x):\n",
    "        # 初始化隱藏狀態和細胞狀態\n",
    "        h0 = torch.zeros(self.num_layers * 2, x.size(0), self.hidden_dim).to(self.device)\n",
    "        c0 = torch.zeros(self.num_layers * 2, x.size(0), self.hidden_dim).to(self.device)\n",
    "        # residual = x\n",
    "        \n",
    "        # 前向傳播 LSTM\n",
    "        out, _ = self.lstm(x, (h0, c0))\n",
    "\n",
    "        # 通過全連接層得到最終輸出\n",
    "        # out = self.fc1(out)\n",
    "        # out = F.relu(out)\n",
    "        # out = self.fc2(out)\n",
    "        # out += residual\n",
    "        # out = self.fc3(out)\n",
    "        out = self.fc(out)\n",
    "        \n",
    "        return out\n",
    "\n",
    "    def training_step(self, batch, batch_idx):\n",
    "        x, y = batch\n",
    "        y_hat = self.forward(x)\n",
    "        loss = self.criterion(y_hat, y)  # 使用 Huber Loss\n",
    "        self.log('train_loss', loss, on_step=True, on_epoch=True, prog_bar=True, logger=True)\n",
    "        return loss\n",
    "\n",
    "    def validation_step(self, batch, batch_idx):\n",
    "        x, y = batch\n",
    "        y_hat = self.forward(x)\n",
    "        loss = self.criterion(y_hat, y)  # 使用 Huber Loss\n",
    "        self.log('val_loss', loss, on_step=False, on_epoch=True, prog_bar=True, logger=True)\n",
    "        return loss\n",
    "\n",
    "    def configure_optimizers(self):\n",
    "        optimizer = optim.AdamW(\n",
    "            self.parameters(),\n",
    "            lr=self.hparams.learning_rate,  # 初始学习率\n",
    "            weight_decay=1e-2               # 权重衰减\n",
    "        )\n",
    "        \n",
    "        # 定义调度器\n",
    "        scheduler = optim.lr_scheduler.ReduceLROnPlateau(\n",
    "            optimizer,\n",
    "            mode='min',             # 目标是最小化验证损失\n",
    "            factor=0.8,             # 学习率每次调整的倍率\n",
    "            patience=20,            # 验证损失未改善的 epoch 数\n",
    "            threshold=1e-4,         # 改善的阈值\n",
    "            cooldown=5,             # 调整后等待的冷却时间\n",
    "            min_lr=1e-6,            # 学习率的下限\n",
    "            verbose=True            # 打印学习率变化信息\n",
    "        )\n",
    "        \n",
    "        return {\n",
    "            \"optimizer\": optimizer,\n",
    "            \"lr_scheduler\": {\n",
    "                \"scheduler\": scheduler,\n",
    "                \"monitor\": \"val_loss\",  # 监控的指标\n",
    "                \"frequency\": 1          # 每个 epoch 检查一次\n",
    "            }\n",
    "        }\n",
    "\n"
   ]
  },
  {
   "cell_type": "code",
   "execution_count": 11,
   "metadata": {},
   "outputs": [],
   "source": [
    "batch_size = 16\n",
    "learning_rate=1e-3\n",
    "# loc = 2\n",
    "hidden_dim = 128\n",
    "lstm_layers = 2\n",
    "ID = 'N'\n",
    "data_module = Cwb2LocDataModule(train_data_dict, cwb_data_interp_dict, features, batch_size)\n",
    "model = Cwb2LocModel(\n",
    "    input_dim=7,\n",
    "    hidden_dim=hidden_dim,\n",
    "    num_layers=lstm_layers,\n",
    "    output_dim=1,\n",
    "    learning_rate=learning_rate\n",
    ")\n",
    "wandb_name = f'{ID}-f6_b{batch_size}_h{hidden_dim}_ll{lstm_layers}_lr{learning_rate}_雙向_mae_p32_3fc_no插值_noRELU_dropout0.1'\n",
    "# dirpath=f'./saved_models/{loc}/{wandb_name}'\n",
    "# dirpath=f'./saved_models/{loc}'\n",
    "dirpath=f'./saved_models_v3'"
   ]
  },
  {
   "cell_type": "code",
   "execution_count": 12,
   "metadata": {},
   "outputs": [],
   "source": [
    "from lightning.pytorch.loggers import WandbLogger\n",
    "from lightning.pytorch.callbacks import LearningRateMonitor, ModelCheckpoint, EarlyStopping\n",
    "logger = WandbLogger(\n",
    "    project='aicup_power_v3', \n",
    "    name=wandb_name,\n",
    "    save_dir=None,\n",
    "    offline=False,\n",
    "    log_model=False,  # 不保存模型\n",
    "    save_code=False   # 不保存代碼快照\n",
    ")\n",
    "callbacks = [\n",
    "    LearningRateMonitor(),\n",
    "    ModelCheckpoint(\n",
    "        monitor='val_loss',\n",
    "        mode='min',\n",
    "        auto_insert_metric_name=False,\n",
    "        dirpath=dirpath,\n",
    "        filename=f'best-checkpoint-{ID}',\n",
    "        save_top_k=1,\n",
    "    ),\n",
    "    EarlyStopping(\n",
    "        monitor='val_loss',   # 監控的指標\n",
    "        patience=100,           # 如果 3 個 epoch 驗證損失沒有改善，則停止訓練\n",
    "        verbose=True,\n",
    "        mode='min'            # 損失越小越好\n",
    "    )\n",
    "]"
   ]
  },
  {
   "cell_type": "code",
   "execution_count": 13,
   "metadata": {},
   "outputs": [
    {
     "name": "stderr",
     "output_type": "stream",
     "text": [
      "Trainer will use only 1 of 2 GPUs because it is running inside an interactive / notebook environment. You may try to set `Trainer(devices=2)` but please note that multi-GPU inside interactive / notebook environments is considered experimental and unstable. Your mileage may vary.\n",
      "GPU available: True (cuda), used: True\n",
      "TPU available: False, using: 0 TPU cores\n",
      "HPU available: False, using: 0 HPUs\n",
      "`Trainer(val_check_interval=1.0)` was configured so validation will run at the end of the training epoch..\n"
     ]
    }
   ],
   "source": [
    "trainer = L.Trainer(\n",
    "    precision=32,\n",
    "    gradient_clip_val=1.0,\n",
    "    accumulate_grad_batches=1,\n",
    "    max_epochs=10000,\n",
    "    val_check_interval=1.0,\n",
    "    logger=logger,\n",
    "    callbacks=callbacks,\n",
    "    enable_progress_bar=True\n",
    ")"
   ]
  },
  {
   "cell_type": "code",
   "execution_count": 14,
   "metadata": {},
   "outputs": [
    {
     "name": "stderr",
     "output_type": "stream",
     "text": [
      "You are using a CUDA device ('NVIDIA GeForce RTX 3090') that has Tensor Cores. To properly utilize them, you should set `torch.set_float32_matmul_precision('medium' | 'high')` which will trade-off precision for performance. For more details, read https://pytorch.org/docs/stable/generated/torch.set_float32_matmul_precision.html#torch.set_float32_matmul_precision\n",
      "\u001b[34m\u001b[1mwandb\u001b[0m: Using wandb-core as the SDK backend. Please refer to https://wandb.me/wandb-core for more information.\n",
      "\u001b[34m\u001b[1mwandb\u001b[0m: Currently logged in as: \u001b[33mdavid___teng\u001b[0m (\u001b[33mdavid___teng-national-central-university\u001b[0m). Use \u001b[1m`wandb login --relogin`\u001b[0m to force relogin\n"
     ]
    },
    {
     "data": {
      "text/html": [
       "Tracking run with wandb version 0.18.3"
      ],
      "text/plain": [
       "<IPython.core.display.HTML object>"
      ]
     },
     "metadata": {},
     "output_type": "display_data"
    },
    {
     "data": {
      "text/html": [
       "Run data is saved locally in <code>/home/davidteng/aicup/electric/code/wandb/run-20241128_213253-jli2zqqr</code>"
      ],
      "text/plain": [
       "<IPython.core.display.HTML object>"
      ]
     },
     "metadata": {},
     "output_type": "display_data"
    },
    {
     "data": {
      "text/html": [
       "Syncing run <strong><a href='https://wandb.ai/david___teng-national-central-university/aicup_power_v3/runs/jli2zqqr' target=\"_blank\">N-f6_b16_h128_ll2_lr0.001_雙向_mae_p32_3fc_no插值_noRELU_dropout0.1</a></strong> to <a href='https://wandb.ai/david___teng-national-central-university/aicup_power_v3' target=\"_blank\">Weights & Biases</a> (<a href='https://wandb.me/run' target=\"_blank\">docs</a>)<br/>"
      ],
      "text/plain": [
       "<IPython.core.display.HTML object>"
      ]
     },
     "metadata": {},
     "output_type": "display_data"
    },
    {
     "data": {
      "text/html": [
       " View project at <a href='https://wandb.ai/david___teng-national-central-university/aicup_power_v3' target=\"_blank\">https://wandb.ai/david___teng-national-central-university/aicup_power_v3</a>"
      ],
      "text/plain": [
       "<IPython.core.display.HTML object>"
      ]
     },
     "metadata": {},
     "output_type": "display_data"
    },
    {
     "data": {
      "text/html": [
       " View run at <a href='https://wandb.ai/david___teng-national-central-university/aicup_power_v3/runs/jli2zqqr' target=\"_blank\">https://wandb.ai/david___teng-national-central-university/aicup_power_v3/runs/jli2zqqr</a>"
      ],
      "text/plain": [
       "<IPython.core.display.HTML object>"
      ]
     },
     "metadata": {},
     "output_type": "display_data"
    },
    {
     "name": "stdout",
     "output_type": "stream",
     "text": [
      "test?: 225\n",
      "broke?: 390\n"
     ]
    },
    {
     "name": "stderr",
     "output_type": "stream",
     "text": [
      "/home/davidteng/anaconda3/envs/wsd/lib/python3.9/site-packages/lightning/pytorch/callbacks/model_checkpoint.py:654: Checkpoint directory /home/davidteng/aicup/electric/code/saved_models_v3 exists and is not empty.\n",
      "LOCAL_RANK: 0 - CUDA_VISIBLE_DEVICES: [0,1]\n",
      "/home/davidteng/anaconda3/envs/wsd/lib/python3.9/site-packages/torch/optim/lr_scheduler.py:60: UserWarning: The verbose parameter is deprecated. Please use get_last_lr() to access the learning rate.\n",
      "  warnings.warn(\n",
      "\n",
      "  | Name      | Type       | Params | Mode \n",
      "-------------------------------------------------\n",
      "0 | lstm      | LSTM       | 535 K  | train\n",
      "1 | fc        | Sequential | 8.5 K  | train\n",
      "2 | criterion | L1Loss     | 0      | train\n",
      "-------------------------------------------------\n",
      "544 K     Trainable params\n",
      "0         Non-trainable params\n",
      "544 K     Total params\n",
      "2.176     Total estimated model params size (MB)\n",
      "10        Modules in train mode\n",
      "0         Modules in eval mode\n"
     ]
    },
    {
     "name": "stdout",
     "output_type": "stream",
     "text": [
      "Sanity Checking DataLoader 0:   0%|          | 0/2 [00:00<?, ?it/s]"
     ]
    },
    {
     "name": "stderr",
     "output_type": "stream",
     "text": [
      "/home/davidteng/anaconda3/envs/wsd/lib/python3.9/site-packages/lightning/pytorch/trainer/connectors/data_connector.py:424: The 'val_dataloader' does not have many workers which may be a bottleneck. Consider increasing the value of the `num_workers` argument` to `num_workers=27` in the `DataLoader` to improve performance.\n"
     ]
    },
    {
     "name": "stdout",
     "output_type": "stream",
     "text": [
      "                                                                           "
     ]
    },
    {
     "name": "stderr",
     "output_type": "stream",
     "text": [
      "/home/davidteng/anaconda3/envs/wsd/lib/python3.9/site-packages/lightning/pytorch/trainer/connectors/data_connector.py:424: The 'train_dataloader' does not have many workers which may be a bottleneck. Consider increasing the value of the `num_workers` argument` to `num_workers=27` in the `DataLoader` to improve performance.\n"
     ]
    },
    {
     "name": "stdout",
     "output_type": "stream",
     "text": [
      "Epoch 0: 100%|██████████| 86/86 [00:01<00:00, 50.52it/s, v_num=zqqr, train_loss_step=0.431, val_loss=0.406, train_loss_epoch=0.491]"
     ]
    },
    {
     "name": "stderr",
     "output_type": "stream",
     "text": [
      "Metric val_loss improved. New best score: 0.406\n"
     ]
    },
    {
     "name": "stdout",
     "output_type": "stream",
     "text": [
      "Epoch 1: 100%|██████████| 86/86 [00:01<00:00, 54.07it/s, v_num=zqqr, train_loss_step=0.286, val_loss=0.381, train_loss_epoch=0.406]"
     ]
    },
    {
     "name": "stderr",
     "output_type": "stream",
     "text": [
      "Metric val_loss improved by 0.025 >= min_delta = 0.0. New best score: 0.381\n"
     ]
    },
    {
     "name": "stdout",
     "output_type": "stream",
     "text": [
      "Epoch 2: 100%|██████████| 86/86 [00:01<00:00, 54.71it/s, v_num=zqqr, train_loss_step=0.389, val_loss=0.369, train_loss_epoch=0.390]"
     ]
    },
    {
     "name": "stderr",
     "output_type": "stream",
     "text": [
      "Metric val_loss improved by 0.012 >= min_delta = 0.0. New best score: 0.369\n"
     ]
    },
    {
     "name": "stdout",
     "output_type": "stream",
     "text": [
      "Epoch 3: 100%|██████████| 86/86 [00:01<00:00, 54.29it/s, v_num=zqqr, train_loss_step=0.414, val_loss=0.353, train_loss_epoch=0.378]"
     ]
    },
    {
     "name": "stderr",
     "output_type": "stream",
     "text": [
      "Metric val_loss improved by 0.015 >= min_delta = 0.0. New best score: 0.353\n"
     ]
    },
    {
     "name": "stdout",
     "output_type": "stream",
     "text": [
      "Epoch 5: 100%|██████████| 86/86 [00:01<00:00, 54.05it/s, v_num=zqqr, train_loss_step=0.436, val_loss=0.348, train_loss_epoch=0.349]"
     ]
    },
    {
     "name": "stderr",
     "output_type": "stream",
     "text": [
      "Metric val_loss improved by 0.005 >= min_delta = 0.0. New best score: 0.348\n"
     ]
    },
    {
     "name": "stdout",
     "output_type": "stream",
     "text": [
      "Epoch 6: 100%|██████████| 86/86 [00:01<00:00, 54.34it/s, v_num=zqqr, train_loss_step=0.356, val_loss=0.343, train_loss_epoch=0.340]"
     ]
    },
    {
     "name": "stderr",
     "output_type": "stream",
     "text": [
      "Metric val_loss improved by 0.005 >= min_delta = 0.0. New best score: 0.343\n"
     ]
    },
    {
     "name": "stdout",
     "output_type": "stream",
     "text": [
      "Epoch 7: 100%|██████████| 86/86 [00:01<00:00, 53.96it/s, v_num=zqqr, train_loss_step=0.303, val_loss=0.335, train_loss_epoch=0.343]"
     ]
    },
    {
     "name": "stderr",
     "output_type": "stream",
     "text": [
      "Metric val_loss improved by 0.008 >= min_delta = 0.0. New best score: 0.335\n"
     ]
    },
    {
     "name": "stdout",
     "output_type": "stream",
     "text": [
      "Epoch 8: 100%|██████████| 86/86 [00:01<00:00, 53.62it/s, v_num=zqqr, train_loss_step=0.272, val_loss=0.334, train_loss_epoch=0.327]"
     ]
    },
    {
     "name": "stderr",
     "output_type": "stream",
     "text": [
      "Metric val_loss improved by 0.001 >= min_delta = 0.0. New best score: 0.334\n"
     ]
    },
    {
     "name": "stdout",
     "output_type": "stream",
     "text": [
      "Epoch 10: 100%|██████████| 86/86 [00:01<00:00, 54.70it/s, v_num=zqqr, train_loss_step=0.378, val_loss=0.326, train_loss_epoch=0.318]"
     ]
    },
    {
     "name": "stderr",
     "output_type": "stream",
     "text": [
      "Metric val_loss improved by 0.009 >= min_delta = 0.0. New best score: 0.326\n"
     ]
    },
    {
     "name": "stdout",
     "output_type": "stream",
     "text": [
      "Epoch 12: 100%|██████████| 86/86 [00:01<00:00, 55.71it/s, v_num=zqqr, train_loss_step=0.332, val_loss=0.317, train_loss_epoch=0.307]"
     ]
    },
    {
     "name": "stderr",
     "output_type": "stream",
     "text": [
      "Metric val_loss improved by 0.009 >= min_delta = 0.0. New best score: 0.317\n"
     ]
    },
    {
     "name": "stdout",
     "output_type": "stream",
     "text": [
      "Epoch 13: 100%|██████████| 86/86 [00:01<00:00, 54.60it/s, v_num=zqqr, train_loss_step=0.209, val_loss=0.300, train_loss_epoch=0.304]"
     ]
    },
    {
     "name": "stderr",
     "output_type": "stream",
     "text": [
      "Metric val_loss improved by 0.017 >= min_delta = 0.0. New best score: 0.300\n"
     ]
    },
    {
     "name": "stdout",
     "output_type": "stream",
     "text": [
      "Epoch 14: 100%|██████████| 86/86 [00:01<00:00, 54.42it/s, v_num=zqqr, train_loss_step=0.294, val_loss=0.299, train_loss_epoch=0.300]"
     ]
    },
    {
     "name": "stderr",
     "output_type": "stream",
     "text": [
      "Metric val_loss improved by 0.001 >= min_delta = 0.0. New best score: 0.299\n"
     ]
    },
    {
     "name": "stdout",
     "output_type": "stream",
     "text": [
      "Epoch 16: 100%|██████████| 86/86 [00:01<00:00, 54.68it/s, v_num=zqqr, train_loss_step=0.311, val_loss=0.292, train_loss_epoch=0.292]"
     ]
    },
    {
     "name": "stderr",
     "output_type": "stream",
     "text": [
      "Metric val_loss improved by 0.007 >= min_delta = 0.0. New best score: 0.292\n"
     ]
    },
    {
     "name": "stdout",
     "output_type": "stream",
     "text": [
      "Epoch 18: 100%|██████████| 86/86 [00:01<00:00, 54.66it/s, v_num=zqqr, train_loss_step=0.411, val_loss=0.283, train_loss_epoch=0.281]"
     ]
    },
    {
     "name": "stderr",
     "output_type": "stream",
     "text": [
      "Metric val_loss improved by 0.009 >= min_delta = 0.0. New best score: 0.283\n"
     ]
    },
    {
     "name": "stdout",
     "output_type": "stream",
     "text": [
      "Epoch 19: 100%|██████████| 86/86 [00:01<00:00, 54.06it/s, v_num=zqqr, train_loss_step=0.315, val_loss=0.264, train_loss_epoch=0.277]"
     ]
    },
    {
     "name": "stderr",
     "output_type": "stream",
     "text": [
      "Metric val_loss improved by 0.018 >= min_delta = 0.0. New best score: 0.264\n"
     ]
    },
    {
     "name": "stdout",
     "output_type": "stream",
     "text": [
      "Epoch 23: 100%|██████████| 86/86 [00:01<00:00, 55.03it/s, v_num=zqqr, train_loss_step=0.295, val_loss=0.254, train_loss_epoch=0.266]"
     ]
    },
    {
     "name": "stderr",
     "output_type": "stream",
     "text": [
      "Metric val_loss improved by 0.011 >= min_delta = 0.0. New best score: 0.254\n"
     ]
    },
    {
     "name": "stdout",
     "output_type": "stream",
     "text": [
      "Epoch 25: 100%|██████████| 86/86 [00:01<00:00, 55.52it/s, v_num=zqqr, train_loss_step=0.314, val_loss=0.253, train_loss_epoch=0.262]"
     ]
    },
    {
     "name": "stderr",
     "output_type": "stream",
     "text": [
      "Metric val_loss improved by 0.001 >= min_delta = 0.0. New best score: 0.253\n"
     ]
    },
    {
     "name": "stdout",
     "output_type": "stream",
     "text": [
      "Epoch 27: 100%|██████████| 86/86 [00:01<00:00, 54.94it/s, v_num=zqqr, train_loss_step=0.273, val_loss=0.251, train_loss_epoch=0.254]"
     ]
    },
    {
     "name": "stderr",
     "output_type": "stream",
     "text": [
      "Metric val_loss improved by 0.001 >= min_delta = 0.0. New best score: 0.251\n"
     ]
    },
    {
     "name": "stdout",
     "output_type": "stream",
     "text": [
      "Epoch 29: 100%|██████████| 86/86 [00:01<00:00, 54.75it/s, v_num=zqqr, train_loss_step=0.236, val_loss=0.238, train_loss_epoch=0.250]"
     ]
    },
    {
     "name": "stderr",
     "output_type": "stream",
     "text": [
      "Metric val_loss improved by 0.013 >= min_delta = 0.0. New best score: 0.238\n"
     ]
    },
    {
     "name": "stdout",
     "output_type": "stream",
     "text": [
      "Epoch 30: 100%|██████████| 86/86 [00:01<00:00, 54.35it/s, v_num=zqqr, train_loss_step=0.273, val_loss=0.234, train_loss_epoch=0.249]"
     ]
    },
    {
     "name": "stderr",
     "output_type": "stream",
     "text": [
      "Metric val_loss improved by 0.004 >= min_delta = 0.0. New best score: 0.234\n"
     ]
    },
    {
     "name": "stdout",
     "output_type": "stream",
     "text": [
      "Epoch 33: 100%|██████████| 86/86 [00:01<00:00, 54.68it/s, v_num=zqqr, train_loss_step=0.170, val_loss=0.231, train_loss_epoch=0.244]"
     ]
    },
    {
     "name": "stderr",
     "output_type": "stream",
     "text": [
      "Metric val_loss improved by 0.003 >= min_delta = 0.0. New best score: 0.231\n"
     ]
    },
    {
     "name": "stdout",
     "output_type": "stream",
     "text": [
      "Epoch 36: 100%|██████████| 86/86 [00:01<00:00, 55.71it/s, v_num=zqqr, train_loss_step=0.266, val_loss=0.230, train_loss_epoch=0.241]"
     ]
    },
    {
     "name": "stderr",
     "output_type": "stream",
     "text": [
      "Metric val_loss improved by 0.002 >= min_delta = 0.0. New best score: 0.230\n"
     ]
    },
    {
     "name": "stdout",
     "output_type": "stream",
     "text": [
      "Epoch 38: 100%|██████████| 86/86 [00:01<00:00, 54.76it/s, v_num=zqqr, train_loss_step=0.324, val_loss=0.229, train_loss_epoch=0.235]"
     ]
    },
    {
     "name": "stderr",
     "output_type": "stream",
     "text": [
      "Metric val_loss improved by 0.000 >= min_delta = 0.0. New best score: 0.229\n"
     ]
    },
    {
     "name": "stdout",
     "output_type": "stream",
     "text": [
      "Epoch 39: 100%|██████████| 86/86 [00:01<00:00, 54.21it/s, v_num=zqqr, train_loss_step=0.281, val_loss=0.228, train_loss_epoch=0.232]"
     ]
    },
    {
     "name": "stderr",
     "output_type": "stream",
     "text": [
      "Metric val_loss improved by 0.001 >= min_delta = 0.0. New best score: 0.228\n"
     ]
    },
    {
     "name": "stdout",
     "output_type": "stream",
     "text": [
      "Epoch 41: 100%|██████████| 86/86 [00:01<00:00, 55.27it/s, v_num=zqqr, train_loss_step=0.180, val_loss=0.221, train_loss_epoch=0.229] "
     ]
    },
    {
     "name": "stderr",
     "output_type": "stream",
     "text": [
      "Metric val_loss improved by 0.007 >= min_delta = 0.0. New best score: 0.221\n"
     ]
    },
    {
     "name": "stdout",
     "output_type": "stream",
     "text": [
      "Epoch 43: 100%|██████████| 86/86 [00:01<00:00, 53.98it/s, v_num=zqqr, train_loss_step=0.282, val_loss=0.212, train_loss_epoch=0.230]"
     ]
    },
    {
     "name": "stderr",
     "output_type": "stream",
     "text": [
      "Metric val_loss improved by 0.009 >= min_delta = 0.0. New best score: 0.212\n"
     ]
    },
    {
     "name": "stdout",
     "output_type": "stream",
     "text": [
      "Epoch 55: 100%|██████████| 86/86 [00:01<00:00, 54.72it/s, v_num=zqqr, train_loss_step=0.225, val_loss=0.207, train_loss_epoch=0.213]"
     ]
    },
    {
     "name": "stderr",
     "output_type": "stream",
     "text": [
      "Metric val_loss improved by 0.005 >= min_delta = 0.0. New best score: 0.207\n"
     ]
    },
    {
     "name": "stdout",
     "output_type": "stream",
     "text": [
      "Epoch 58: 100%|██████████| 86/86 [00:01<00:00, 55.19it/s, v_num=zqqr, train_loss_step=0.212, val_loss=0.205, train_loss_epoch=0.207]"
     ]
    },
    {
     "name": "stderr",
     "output_type": "stream",
     "text": [
      "Metric val_loss improved by 0.002 >= min_delta = 0.0. New best score: 0.205\n"
     ]
    },
    {
     "name": "stdout",
     "output_type": "stream",
     "text": [
      "Epoch 65: 100%|██████████| 86/86 [00:01<00:00, 54.96it/s, v_num=zqqr, train_loss_step=0.230, val_loss=0.202, train_loss_epoch=0.200]"
     ]
    },
    {
     "name": "stderr",
     "output_type": "stream",
     "text": [
      "Metric val_loss improved by 0.003 >= min_delta = 0.0. New best score: 0.202\n"
     ]
    },
    {
     "name": "stdout",
     "output_type": "stream",
     "text": [
      "Epoch 66: 100%|██████████| 86/86 [00:01<00:00, 54.96it/s, v_num=zqqr, train_loss_step=0.170, val_loss=0.201, train_loss_epoch=0.199]"
     ]
    },
    {
     "name": "stderr",
     "output_type": "stream",
     "text": [
      "Metric val_loss improved by 0.001 >= min_delta = 0.0. New best score: 0.201\n"
     ]
    },
    {
     "name": "stdout",
     "output_type": "stream",
     "text": [
      "Epoch 70: 100%|██████████| 86/86 [00:01<00:00, 54.99it/s, v_num=zqqr, train_loss_step=0.240, val_loss=0.200, train_loss_epoch=0.190] "
     ]
    },
    {
     "name": "stderr",
     "output_type": "stream",
     "text": [
      "Metric val_loss improved by 0.001 >= min_delta = 0.0. New best score: 0.200\n"
     ]
    },
    {
     "name": "stdout",
     "output_type": "stream",
     "text": [
      "Epoch 77: 100%|██████████| 86/86 [00:01<00:00, 54.99it/s, v_num=zqqr, train_loss_step=0.229, val_loss=0.194, train_loss_epoch=0.188]"
     ]
    },
    {
     "name": "stderr",
     "output_type": "stream",
     "text": [
      "Metric val_loss improved by 0.006 >= min_delta = 0.0. New best score: 0.194\n"
     ]
    },
    {
     "name": "stdout",
     "output_type": "stream",
     "text": [
      "Epoch 81: 100%|██████████| 86/86 [00:01<00:00, 54.33it/s, v_num=zqqr, train_loss_step=0.238, val_loss=0.192, train_loss_epoch=0.185] "
     ]
    },
    {
     "name": "stderr",
     "output_type": "stream",
     "text": [
      "Metric val_loss improved by 0.002 >= min_delta = 0.0. New best score: 0.192\n"
     ]
    },
    {
     "name": "stdout",
     "output_type": "stream",
     "text": [
      "Epoch 91: 100%|██████████| 86/86 [00:01<00:00, 54.58it/s, v_num=zqqr, train_loss_step=0.171, val_loss=0.190, train_loss_epoch=0.176] "
     ]
    },
    {
     "name": "stderr",
     "output_type": "stream",
     "text": [
      "Metric val_loss improved by 0.001 >= min_delta = 0.0. New best score: 0.190\n"
     ]
    },
    {
     "name": "stdout",
     "output_type": "stream",
     "text": [
      "Epoch 92: 100%|██████████| 86/86 [00:01<00:00, 55.00it/s, v_num=zqqr, train_loss_step=0.148, val_loss=0.189, train_loss_epoch=0.176]"
     ]
    },
    {
     "name": "stderr",
     "output_type": "stream",
     "text": [
      "Metric val_loss improved by 0.001 >= min_delta = 0.0. New best score: 0.189\n"
     ]
    },
    {
     "name": "stdout",
     "output_type": "stream",
     "text": [
      "Epoch 98: 100%|██████████| 86/86 [00:01<00:00, 55.63it/s, v_num=zqqr, train_loss_step=0.185, val_loss=0.188, train_loss_epoch=0.176] "
     ]
    },
    {
     "name": "stderr",
     "output_type": "stream",
     "text": [
      "Metric val_loss improved by 0.001 >= min_delta = 0.0. New best score: 0.188\n"
     ]
    },
    {
     "name": "stdout",
     "output_type": "stream",
     "text": [
      "Epoch 100: 100%|██████████| 86/86 [00:01<00:00, 54.50it/s, v_num=zqqr, train_loss_step=0.188, val_loss=0.187, train_loss_epoch=0.169]"
     ]
    },
    {
     "name": "stderr",
     "output_type": "stream",
     "text": [
      "Metric val_loss improved by 0.001 >= min_delta = 0.0. New best score: 0.187\n"
     ]
    },
    {
     "name": "stdout",
     "output_type": "stream",
     "text": [
      "Epoch 105: 100%|██████████| 86/86 [00:01<00:00, 54.72it/s, v_num=zqqr, train_loss_step=0.124, val_loss=0.186, train_loss_epoch=0.163] "
     ]
    },
    {
     "name": "stderr",
     "output_type": "stream",
     "text": [
      "Metric val_loss improved by 0.001 >= min_delta = 0.0. New best score: 0.186\n"
     ]
    },
    {
     "name": "stdout",
     "output_type": "stream",
     "text": [
      "Epoch 129: 100%|██████████| 86/86 [00:01<00:00, 54.76it/s, v_num=zqqr, train_loss_step=0.130, val_loss=0.185, train_loss_epoch=0.150] "
     ]
    },
    {
     "name": "stderr",
     "output_type": "stream",
     "text": [
      "Metric val_loss improved by 0.001 >= min_delta = 0.0. New best score: 0.185\n"
     ]
    },
    {
     "name": "stdout",
     "output_type": "stream",
     "text": [
      "Epoch 130: 100%|██████████| 86/86 [00:01<00:00, 55.33it/s, v_num=zqqr, train_loss_step=0.135, val_loss=0.181, train_loss_epoch=0.151] "
     ]
    },
    {
     "name": "stderr",
     "output_type": "stream",
     "text": [
      "Metric val_loss improved by 0.004 >= min_delta = 0.0. New best score: 0.181\n"
     ]
    },
    {
     "name": "stdout",
     "output_type": "stream",
     "text": [
      "Epoch 131: 100%|██████████| 86/86 [00:01<00:00, 54.88it/s, v_num=zqqr, train_loss_step=0.118, val_loss=0.179, train_loss_epoch=0.156] "
     ]
    },
    {
     "name": "stderr",
     "output_type": "stream",
     "text": [
      "Metric val_loss improved by 0.002 >= min_delta = 0.0. New best score: 0.179\n"
     ]
    },
    {
     "name": "stdout",
     "output_type": "stream",
     "text": [
      "Epoch 144: 100%|██████████| 86/86 [00:01<00:00, 54.38it/s, v_num=zqqr, train_loss_step=0.136, val_loss=0.178, train_loss_epoch=0.145] "
     ]
    },
    {
     "name": "stderr",
     "output_type": "stream",
     "text": [
      "Metric val_loss improved by 0.001 >= min_delta = 0.0. New best score: 0.178\n"
     ]
    },
    {
     "name": "stdout",
     "output_type": "stream",
     "text": [
      "Epoch 164: 100%|██████████| 86/86 [00:01<00:00, 54.98it/s, v_num=zqqr, train_loss_step=0.115, val_loss=0.176, train_loss_epoch=0.142] "
     ]
    },
    {
     "name": "stderr",
     "output_type": "stream",
     "text": [
      "Metric val_loss improved by 0.002 >= min_delta = 0.0. New best score: 0.176\n"
     ]
    },
    {
     "name": "stdout",
     "output_type": "stream",
     "text": [
      "Epoch 166: 100%|██████████| 86/86 [00:01<00:00, 55.78it/s, v_num=zqqr, train_loss_step=0.114, val_loss=0.174, train_loss_epoch=0.137] "
     ]
    },
    {
     "name": "stderr",
     "output_type": "stream",
     "text": [
      "Metric val_loss improved by 0.002 >= min_delta = 0.0. New best score: 0.174\n"
     ]
    },
    {
     "name": "stdout",
     "output_type": "stream",
     "text": [
      "Epoch 266: 100%|██████████| 86/86 [00:01<00:00, 54.63it/s, v_num=zqqr, train_loss_step=0.141, val_loss=0.181, train_loss_epoch=0.116] "
     ]
    },
    {
     "name": "stderr",
     "output_type": "stream",
     "text": [
      "Monitored metric val_loss did not improve in the last 100 records. Best score: 0.174. Signaling Trainer to stop.\n"
     ]
    },
    {
     "name": "stdout",
     "output_type": "stream",
     "text": [
      "Epoch 266: 100%|██████████| 86/86 [00:01<00:00, 54.44it/s, v_num=zqqr, train_loss_step=0.141, val_loss=0.181, train_loss_epoch=0.116]\n"
     ]
    }
   ],
   "source": [
    "trainer.fit(model, datamodule=data_module)"
   ]
  },
  {
   "cell_type": "code",
   "execution_count": null,
   "metadata": {},
   "outputs": [],
   "source": [
    "model_path = f'./saved_models_v1/best-checkpoint-A.ckpt'\n",
    "model = LSTM.load_from_checkpoint(model_path)\n",
    "device = torch.device('cuda' if torch.cuda.is_available() else 'cpu')\n",
    "model = model.to(device)  # 將模型移動到 GPU（如果可用）\n",
    "model.eval()  # 切換模型到評估模式"
   ]
  }
 ],
 "metadata": {
  "kernelspec": {
   "display_name": "wsd",
   "language": "python",
   "name": "python3"
  },
  "language_info": {
   "codemirror_mode": {
    "name": "ipython",
    "version": 3
   },
   "file_extension": ".py",
   "mimetype": "text/x-python",
   "name": "python",
   "nbconvert_exporter": "python",
   "pygments_lexer": "ipython3",
   "version": "3.9.19"
  }
 },
 "nbformat": 4,
 "nbformat_minor": 2
}
