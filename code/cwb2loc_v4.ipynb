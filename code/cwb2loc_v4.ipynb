{
 "cells": [
  {
   "cell_type": "code",
   "execution_count": 1,
   "metadata": {},
   "outputs": [
    {
     "name": "stderr",
     "output_type": "stream",
     "text": [
      "/home/davidteng/anaconda3/envs/wsd/lib/python3.9/site-packages/tqdm/auto.py:21: TqdmWarning: IProgress not found. Please update jupyter and ipywidgets. See https://ipywidgets.readthedocs.io/en/stable/user_install.html\n",
      "  from .autonotebook import tqdm as notebook_tqdm\n"
     ]
    }
   ],
   "source": [
    "import json, torch\n",
    "import lightning  as L\n",
    "from torch.utils.data import Dataset, DataLoader\n",
    "from transformers import AutoTokenizer\n",
    "from torch.nn import functional as F\n",
    "import csv\n",
    "from collections import defaultdict\n",
    "import torch.nn as nn\n",
    "import torch.optim as optim\n",
    "from sklearn.preprocessing import StandardScaler\n",
    "import numpy as np\n",
    "import pickle\n",
    "from scipy.interpolate import interp1d\n",
    "import random"
   ]
  },
  {
   "cell_type": "code",
   "execution_count": 2,
   "metadata": {},
   "outputs": [
    {
     "name": "stdout",
     "output_type": "stream",
     "text": [
      "Using GPU: True\n",
      "cuda:0\n"
     ]
    }
   ],
   "source": [
    "print(f\"Using GPU: {torch.cuda.is_available()}\")\n",
    "device = torch.device(\"cuda:0\" if torch.cuda.is_available() else \"cpu\")\n",
    "print(device)\n",
    "import os\n",
    "os.environ[\"TOKENIZERS_PARALLELISM\"] = \"false\""
   ]
  },
  {
   "cell_type": "markdown",
   "metadata": {},
   "source": [
    "#### load training data"
   ]
  },
  {
   "cell_type": "code",
   "execution_count": 3,
   "metadata": {},
   "outputs": [
    {
     "name": "stdout",
     "output_type": "stream",
     "text": [
      "0.02\n"
     ]
    }
   ],
   "source": [
    "train_data_paths = [f\"../36_TrainingData/L{loc}_Train.csv\" for loc in range(1, 17+1)]\n",
    "add_ids = [2,4,7,8,9,10,12]\n",
    "add_train_data_paths = [f\"../36_TrainingData_Additional_V2/L{loc}_Train_2.csv\" for loc in add_ids]\n",
    "\n",
    "train_data_dict = defaultdict(lambda: defaultdict(lambda: defaultdict(lambda: defaultdict(lambda: defaultdict(list)))))\n",
    "\n",
    "for csv_path in train_data_paths:\n",
    "    with open(csv_path, 'r', encoding='utf-8') as csv_file:\n",
    "        reader = csv.reader(csv_file)\n",
    "        header = next(reader)  # 跳過標題列\n",
    "        for row in reader:\n",
    "            # 解析數據並存入字典\n",
    "            loc = row[0]\n",
    "            date = row[1][:10]\n",
    "            month = date[5:7]\n",
    "            day = date[8:10]\n",
    "            time = row[1][11:16]\n",
    "            hour = time[:2]\n",
    "            minute = time[-2:]\n",
    "            train_data_dict[int(loc)][int(month)][int(day)][int(hour)][int(minute)] = float(row[-1])\n",
    "for csv_path in add_train_data_paths:\n",
    "    with open(csv_path, 'r', encoding='utf-8') as csv_file:\n",
    "        reader = csv.reader(csv_file)\n",
    "        header = next(reader)  # 跳過標題列\n",
    "        for row in reader:\n",
    "            # 解析數據並存入字典\n",
    "            loc = row[0]\n",
    "            date = row[1][:10]\n",
    "            month = date[5:7]\n",
    "            day = date[8:10]\n",
    "            time = row[1][11:16]\n",
    "            hour = time[:2]\n",
    "            minute = time[-2:]\n",
    "            train_data_dict[int(loc)][int(month)][int(day)][int(hour)][int(minute)] = float(row[-1])\n",
    "print((train_data_dict[1][1][1][17][1]))"
   ]
  },
  {
   "cell_type": "markdown",
   "metadata": {},
   "source": [
    "#### load cwb data"
   ]
  },
  {
   "cell_type": "code",
   "execution_count": 4,
   "metadata": {},
   "outputs": [
    {
     "name": "stdout",
     "output_type": "stream",
     "text": [
      "None\n",
      "[1.0030271917571303, 1.002980498632662, 1.0029273676005712, 1.002868087846028, 1.002802948554203, 1.0027322389102673, 1.0026562480993912, 1.0025752653067452, 1.0024895797175004, 1.0023994805168275, 1.0023052568898967, 1.002207198021879, 1.0021055930979448, 1.0020007313032653, 1.0018929018230105, 1.0017823938423516, 1.001669496546459, 1.0015544991205034, 1.0014376907496556, 1.001319360619086, 1.0011997979139653, 1.0010792918194642, 1.0009581315207536, 1.0008366062030039, 1.000715005051386, 1.00059361725107, 1.0004727319872275, 1.0003526384450283, 1.0002336258096438, 1.0001159832662438, 0.9999999999999999, 0.9998859327217098, 0.9997739082446844, 0.999664020907861, 0.9995563650501782, 0.9994510350105738, 0.9993481251279862, 0.9992477297413528, 0.9991499431896118, 0.9990548598117015, 0.9989625739465601, 0.998873179933125, 0.9987867721103345, 0.9987034448171268, 0.99862329239244, 0.9985464091752118, 0.9984728895043804, 0.9984028277188841, 0.9983363181576603, 0.9982734551596478, 0.9982143330637839, 0.9981590462090074, 0.9981076889342556, 0.9980603555784668, 0.9980171404805795, 0.9979781379795309, 0.9979434424142595, 0.9979131481237035, 0.9978873494468005, 0.9978661407224886]\n"
     ]
    }
   ],
   "source": [
    "from collections import defaultdict\n",
    "import numpy as np\n",
    "import csv\n",
    "from scipy.interpolate import interp1d\n",
    "\n",
    "# 定义月份和特征\n",
    "months = ['01','02','03','04','05','06','07','08', '09', '10']\n",
    "features = ['rain', 'raintime', 'solarpower', 'suntime', 'temp', 'uv']\n",
    "\n",
    "# 初始化 cwb_data_dict，四层嵌套：特征 -> 月份 -> 天数 -> 时间索引\n",
    "# 时间索引初始为小时（0-23），插值后为分钟（0-1439）\n",
    "cwb_data_dict = defaultdict(lambda: defaultdict(lambda: defaultdict(lambda: defaultdict(float))))\n",
    "\n",
    "# 读取气象数据\n",
    "for month in months:\n",
    "    for feature in features:\n",
    "        csv_path = f'../cwbdata/{month}/{feature}-{month}.csv'\n",
    "        try:\n",
    "            with open(csv_path, 'r', encoding='utf-8') as csv_file:\n",
    "                reader = csv.reader(csv_file)\n",
    "                for row in reader:\n",
    "                    if row[0].isdigit():\n",
    "                        day = int(row[0])\n",
    "                        for hour_index, value in enumerate(row[1:], start=0):\n",
    "                            if hour_index < 24:\n",
    "                                try:\n",
    "                                    cwb_data_dict[feature][int(month)][day][hour_index] = float(value)\n",
    "                                except (ValueError, TypeError):\n",
    "                                    cwb_data_dict[feature][int(month)][day][hour_index] = None  # 标记为无效值\n",
    "        except FileNotFoundError:\n",
    "            print(f\"文件未找到: {csv_path}\")\n",
    "\n",
    "# 初始化插值后的数据字典\n",
    "cwb_data_interp_dict = defaultdict(lambda: defaultdict(lambda: defaultdict(lambda: defaultdict(list))))\n",
    "\n",
    "def interpolate_minute_data(hourly_values):\n",
    "    \"\"\"\n",
    "    对一天的24小时数据进行每分钟插值，返回1440分钟的浮点数列表。\n",
    "    使用三次样条插值，并确保插值后的值不为负。\n",
    "    \"\"\"\n",
    "    # 已知的分钟位置（每小时的第30分钟）\n",
    "    known_minutes = np.array([h * 60 + 30 for h in range(24)])\n",
    "    known_values = np.array(hourly_values)\n",
    "    \n",
    "    # 创建所有分钟的索引\n",
    "    all_minutes = np.arange(1440)\n",
    "    \n",
    "    # 处理缺失值后进行插值\n",
    "    # 使用三次样条插值\n",
    "    try:\n",
    "        # 创建插值函数\n",
    "        spline = interp1d(known_minutes, known_values, kind='cubic', fill_value=\"extrapolate\")\n",
    "        interpolated = spline(all_minutes)\n",
    "    except Exception as e:\n",
    "        print(f\"插值失败: {e}\")\n",
    "        interpolated = np.zeros(1440)\n",
    "    \n",
    "    # 确保插值后的值不为负\n",
    "    interpolated = np.clip(interpolated, a_min=0, a_max=None)\n",
    "    \n",
    "    return interpolated.tolist()\n",
    "\n",
    "# 处理每个特征、每个月、每天的数据\n",
    "for feature in features:\n",
    "    for month in range(1, 11):  # months '01' to '10' correspond to 1 to 10\n",
    "        for day in cwb_data_dict[feature][month]:\n",
    "            # 获取24小时的值\n",
    "            hourly_values = [cwb_data_dict[feature][month][day].get(hour, None) for hour in range(24)]\n",
    "            \n",
    "            # 填充 None 值\n",
    "            for hour in range(24):\n",
    "                if hourly_values[hour] is None:\n",
    "                    # 查找前一个有效值\n",
    "                    prev = None\n",
    "                    for h in range(hour - 1, -1, -1):\n",
    "                        if hourly_values[h] is not None:\n",
    "                            prev = hourly_values[h]\n",
    "                            break\n",
    "                    # 查找后一个有效值\n",
    "                    next_val = None\n",
    "                    for h in range(hour + 1, 24):\n",
    "                        if hourly_values[h] is not None:\n",
    "                            next_val = hourly_values[h]\n",
    "                            break\n",
    "                    # 计算平均值\n",
    "                    if prev is not None and next_val is not None:\n",
    "                        hourly_values[hour] = (prev + next_val) / 2\n",
    "                    elif prev is not None:\n",
    "                        hourly_values[hour] = prev\n",
    "                    elif next_val is not None:\n",
    "                        hourly_values[hour] = next_val\n",
    "                    else:\n",
    "                        hourly_values[hour] = 0.0  # 无有效值，填充0.0\n",
    "            \n",
    "            # 进行插值\n",
    "            interpolated_minutes = interpolate_minute_data(hourly_values)\n",
    "            \n",
    "            # 将1440分钟的数据分成24个小时，每小时60分钟\n",
    "            for hour in range(24):\n",
    "                start_min = hour * 60\n",
    "                end_min = start_min + 60\n",
    "                cwb_data_interp_dict[feature][month][day][hour] = interpolated_minutes[start_min:end_min]\n",
    "                # cwb_data_interp_dict[feature][month][day][hour] = [cwb_data_dict[feature][month][day][hour]] * 60\n",
    "\n",
    "# 确保插值后的数据没有 None\n",
    "for feature in features:\n",
    "    for month in range(1, 11):\n",
    "        for day in cwb_data_interp_dict[feature][month]:\n",
    "            for hour in range(24):\n",
    "                minute_data = cwb_data_interp_dict[feature][month][day][hour]\n",
    "                if any([x is None for x in minute_data]):\n",
    "                    # 进一步处理可能的 None（理论上已处理完毕）\n",
    "                    cwb_data_interp_dict[feature][month][day][hour] = [0.0 if x is None else x for x in minute_data]\n",
    "\n",
    "# 打印一个示例\n",
    "print(cwb_data_dict['suntime'][1][1][1])  # 1月1日的1点的rain数据，60个浮点数\n",
    "print(cwb_data_interp_dict['suntime'][1][2][11])  # 1月1日的1点的rain数据，60个浮点数\n"
   ]
  },
  {
   "cell_type": "code",
   "execution_count": 5,
   "metadata": {},
   "outputs": [
    {
     "data": {
      "image/png": "[encoded data removed]",
      "text/plain": [
       "<Figure size 1600x800 with 1 Axes>"
      ]
     },
     "metadata": {},
     "output_type": "display_data"
    }
   ],
   "source": [
    "import matplotlib.pyplot as plt\n",
    "\n",
    "# 选择一个示例日期和特征\n",
    "sample_feature = 'suntime'  # 特征名称\n",
    "sample_month = 1         # 月份\n",
    "sample_day = 2           # 日期\n",
    "\n",
    "# 获取原始小时值（0:30到23:30的值）\n",
    "original_hours = [h * 60 + 30 for h in range(24)]\n",
    "original_values = [cwb_data_dict[sample_feature][sample_month][sample_day].get(h, None) for h in range(24)]\n",
    "\n",
    "# 获取插值后的分钟值\n",
    "interpolated_minutes = []\n",
    "for hour in range(24):\n",
    "    interpolated_minutes.extend(cwb_data_interp_dict[sample_feature][sample_month][sample_day][hour])\n",
    "\n",
    "# 创建分钟时间轴\n",
    "minutes = np.arange(1440)\n",
    "\n",
    "# 绘制插值结果\n",
    "plt.figure(figsize=(16, 8))\n",
    "plt.plot(original_hours, original_values, 'o', label='Original Data (Hourly)', markersize=8)\n",
    "plt.plot(minutes, interpolated_minutes, '-', label='Interpolated Data (Per Minute)', linewidth=1)\n",
    "plt.title(f'Interpolation for {sample_feature} on {sample_month}/{sample_day}', fontsize=16)\n",
    "plt.xlabel('Minute of Day', fontsize=12)\n",
    "plt.ylabel(f'{sample_feature} Value', fontsize=12)\n",
    "plt.legend(fontsize=12)\n",
    "plt.grid(alpha=0.3)\n",
    "plt.show()\n"
   ]
  },
  {
   "cell_type": "markdown",
   "metadata": {},
   "source": [
    "#### preprocess data"
   ]
  },
  {
   "cell_type": "code",
   "execution_count": null,
   "metadata": {},
   "outputs": [],
   "source": [
    "from sklearn.preprocessing import OneHotEncoder\n",
    "from sklearn.preprocessing import StandardScaler\n",
    "import numpy as np\n",
    "import pickle\n",
    "import torch\n",
    "from torch.utils.data import Dataset\n",
    "\n",
    "class Cwb2LocDataset(Dataset):\n",
    "    def __init__(self, train_data_dict, cwb_data_interp_dict, features, num_locs):\n",
    "        self.x = []  # 存储连续特征\n",
    "        self.loc = []  # 存储 loc 编码\n",
    "        self.y = []  # 存储目标值\n",
    "\n",
    "        # 初始化 One-Hot 编码器\n",
    "        self.loc_encoder = OneHotEncoder(categories=[list(range(1, num_locs + 1))], sparse_output=False)\n",
    "        self.loc_encoder.fit(np.array(range(1, num_locs + 1)).reshape(-1, 1))\n",
    "\n",
    "        def extract_features(cwb_data_interp_dict, features, location, month, day, hour, minute):\n",
    "            try:\n",
    "                newx = [cwb_data_interp_dict[feature][month][day][hour][minute] for feature in features]\n",
    "            except Exception as e:\n",
    "                print(f\"Error at {location}-{month}-{day} {hour}:{minute}: {e}\")\n",
    "                newx = [0.0] * len(features)\n",
    "            return newx\n",
    "\n",
    "        # 构造特征\n",
    "        for location in train_data_dict:\n",
    "            for month in train_data_dict[location]:\n",
    "                for day in train_data_dict[location][month]:\n",
    "                    for hour in train_data_dict[location][month][day]:\n",
    "                        for minute in train_data_dict[location][month][day][hour]:\n",
    "                            # 提取连续特征\n",
    "                            continuous_features = []\n",
    "                            for min_offset in range(minute - 2, minute + 3):\n",
    "                                if 0 <= min_offset <= 59:\n",
    "                                    continuous_features += extract_features(cwb_data_interp_dict, features, location, month, day, hour, min_offset)\n",
    "                                elif min_offset < 0:\n",
    "                                    try:\n",
    "                                        continuous_features += extract_features(cwb_data_interp_dict, features, location, month, day, hour - 1, min_offset + 60)\n",
    "                                    except Exception as e:\n",
    "                                        continuous_features += [0.0] * len(features)\n",
    "                                elif min_offset > 59:\n",
    "                                    try:\n",
    "                                        continuous_features += extract_features(cwb_data_interp_dict, features, location, month, day, hour + 1, min_offset - 60)\n",
    "                                    except Exception as e:\n",
    "                                        continuous_features += [0.0] * len(features)\n",
    "                            \n",
    "                            # 如果特征数量正确\n",
    "                            if len(continuous_features) == len(features) * 5:\n",
    "                                self.x.append(continuous_features)\n",
    "                                self.loc.append(location)\n",
    "                                self.y.append(train_data_dict[location][month][day][hour][minute])\n",
    "        \n",
    "        # 转为 NumPy 数组\n",
    "        self.x = np.array(self.x, dtype=np.float32)\n",
    "        self.loc = np.array(self.loc).reshape(-1, 1)\n",
    "        self.y = np.array(self.y, dtype=np.float32).reshape(-1, 1)\n",
    "\n",
    "        # One-Hot 编码 loc\n",
    "        self.loc = self.loc_encoder.transform(self.loc)\n",
    "\n",
    "        # 标准化连续特征和目标\n",
    "        self.x_scaler = StandardScaler()\n",
    "        self.y_scaler = StandardScaler()\n",
    "        self.x = self.x_scaler.fit_transform(self.x)\n",
    "        self.y = self.y_scaler.fit_transform(self.y)\n",
    "\n",
    "        # 保存标准化器和编码器\n",
    "        with open(f'./scalar_v4/x_scaler-{ID}.pkl', 'wb') as f:\n",
    "            pickle.dump(self.x_scaler, f)\n",
    "        with open(f'./scalar_v4/y_scaler-{ID}.pkl', 'wb') as f:\n",
    "            pickle.dump(self.y_scaler, f)\n",
    "        with open(f'./scalar_v4/loc_encoder-{ID}.pkl', 'wb') as f:\n",
    "            pickle.dump(self.loc_encoder, f)\n",
    "\n",
    "    def __getitem__(self, index):\n",
    "        # 将连续特征和 loc 编码合并为一个张量\n",
    "        x_combined = np.concatenate([self.x[index], self.loc[index]])\n",
    "        return torch.tensor(x_combined, dtype=torch.float32), torch.tensor(self.y[index], dtype=torch.float32)\n",
    "\n",
    "    def __len__(self):\n",
    "        return len(self.x)\n"
   ]
  },
  {
   "cell_type": "code",
   "execution_count": 7,
   "metadata": {},
   "outputs": [],
   "source": [
    "# test = Cwb2LocDataset(\n",
    "#     train_data_dict,\n",
    "#     cwb_data_interp_dict,\n",
    "#     features=features,\n",
    "#     num_locs=17\n",
    "# )\n",
    "# print((test[0]))"
   ]
  },
  {
   "cell_type": "markdown",
   "metadata": {},
   "source": [
    "#### cut data"
   ]
  },
  {
   "cell_type": "code",
   "execution_count": 8,
   "metadata": {},
   "outputs": [],
   "source": [
    "class Cwb2LocDataModule(L.LightningDataModule):\n",
    "    def __init__(self, train_data_dict, cwb_data_dict, features, batch_size=16, loc = 17, train_split=0.9):\n",
    "        super().__init__()\n",
    "        self.train_data_dict = train_data_dict\n",
    "        self.cwb_data_dict = cwb_data_dict\n",
    "        self.batch_size = batch_size\n",
    "        self.train_split = train_split\n",
    "        self.features = features\n",
    "        self.locnum = loc\n",
    "\n",
    "    def setup(self, stage=None):\n",
    "        dataset = Cwb2LocDataset(self.train_data_dict, self.cwb_data_dict, self.features, self.locnum)\n",
    "        train_size = int(len(dataset) * self.train_split)\n",
    "        val_size = len(dataset) - train_size\n",
    "        \n",
    "        # 设置随机种子\n",
    "        torch.manual_seed(42)  # 确保 PyTorch 随机性可重复\n",
    "        random.seed(42)        # 确保 Python 随机性可重复\n",
    "        np.random.seed(42)     # 确保 NumPy 随机性可重复\n",
    "        \n",
    "        self.train_dataset, self.val_dataset = torch.utils.data.random_split(dataset, [train_size, val_size])\n",
    "\n",
    "    def train_dataloader(self):\n",
    "        return DataLoader(self.train_dataset, batch_size=self.batch_size, shuffle=True)\n",
    "\n",
    "    def val_dataloader(self):\n",
    "        return DataLoader(self.val_dataset, batch_size=self.batch_size)"
   ]
  },
  {
   "cell_type": "code",
   "execution_count": 9,
   "metadata": {},
   "outputs": [],
   "source": [
    "# test_datamodule = Cwb2LocDataModule(train_data_dict, cwb_data_interp_dict, features)\n",
    "# test_datamodule.setup()\n",
    "# train_loader = test_datamodule.train_dataloader()\n",
    "# val_loader = test_datamodule.val_dataloader()\n",
    "\n",
    "# print(f\"Train batches: {len(train_loader)}\")\n",
    "# print(f\"Validation batches: {len(val_loader)}\")\n",
    "\n",
    "# # 測試加載數據\n",
    "# for batch in train_loader:\n",
    "#     x, y = batch\n",
    "#     print(f\"Train batch features shape: {x.shape}\")\n",
    "#     print(f\"Train batch labels shape: {y.shape}\")\n",
    "#     break\n",
    "\n",
    "# for batch in val_loader:\n",
    "#     x, y = batch\n",
    "#     print(f\"Validation batch features shape: {x.shape}\")\n",
    "#     print(f\"Validation batch labels shape: {y.shape}\")\n",
    "#     break"
   ]
  },
  {
   "cell_type": "code",
   "execution_count": 10,
   "metadata": {},
   "outputs": [],
   "source": [
    "class Cwb2LocModel(L.LightningModule):\n",
    "    def __init__(self, input_dim=47, hidden_dim=128, output_dim=1, learning_rate=1e-3):\n",
    "        \"\"\"\n",
    "        MLP 模型\n",
    "        - input_dim: 输入特征的维度\n",
    "        - hidden_dim: 隐藏层神经元数量\n",
    "        - output_dim: 输出维度（目标维度）\n",
    "        - learning_rate: 学习率\n",
    "        \"\"\"\n",
    "        super(Cwb2LocModel, self).__init__()\n",
    "        self.save_hyperparameters()\n",
    "\n",
    "        # 定义全连接层\n",
    "        self.fc1 = nn.Linear(input_dim, hidden_dim)\n",
    "        self.fc2 = nn.Linear(hidden_dim, hidden_dim // 2)\n",
    "        self.fc3 = nn.Linear(hidden_dim // 2, output_dim)\n",
    "\n",
    "        # 激活函数\n",
    "        self.relu = nn.ReLU()\n",
    "\n",
    "        # 损失函数\n",
    "        self.criterion = nn.L1Loss()  # 可以改为 MSELoss 或其他损失函数\n",
    "\n",
    "    def forward(self, x):\n",
    "        # 前向传播\n",
    "        x = self.relu(self.fc1(x))\n",
    "        x = self.relu(self.fc2(x))\n",
    "        x = self.fc3(x)\n",
    "        return x\n",
    "\n",
    "    def training_step(self, batch, batch_idx):\n",
    "        x, y = batch\n",
    "        y_hat = self.forward(x)\n",
    "        loss = self.criterion(y_hat, y)\n",
    "        self.log('train_loss', loss, on_step=True, on_epoch=True, prog_bar=True, logger=True)\n",
    "        return loss\n",
    "\n",
    "    def validation_step(self, batch, batch_idx):\n",
    "        x, y = batch\n",
    "        y_hat = self.forward(x)\n",
    "        loss = self.criterion(y_hat, y)\n",
    "        self.log('val_loss', loss, on_step=False, on_epoch=True, prog_bar=True, logger=True)\n",
    "        return loss\n",
    "\n",
    "    def configure_optimizers(self):\n",
    "        optimizer = optim.AdamW(\n",
    "            self.parameters(),\n",
    "            lr=self.hparams.learning_rate,  # 初始学习率\n",
    "            weight_decay=1e-2               # 权重衰减\n",
    "        )\n",
    "        \n",
    "        # 学习率调度器\n",
    "        scheduler = optim.lr_scheduler.ReduceLROnPlateau(\n",
    "            optimizer,\n",
    "            mode='min',\n",
    "            factor=0.5,\n",
    "            patience=2,\n",
    "            threshold=1e-4,\n",
    "            cooldown=3,\n",
    "            min_lr=1e-6,\n",
    "            verbose=True\n",
    "        )\n",
    "        \n",
    "        return {\n",
    "            \"optimizer\": optimizer,\n",
    "            \"lr_scheduler\": {\n",
    "                \"scheduler\": scheduler,\n",
    "                \"monitor\": \"val_loss\",\n",
    "                \"frequency\": 1\n",
    "            }\n",
    "        }\n"
   ]
  },
  {
   "cell_type": "code",
   "execution_count": 11,
   "metadata": {},
   "outputs": [],
   "source": [
    "batch_size = 256\n",
    "learning_rate=1e-3\n",
    "# loc = 2\n",
    "hidden_dim = 128\n",
    "ID = 'A'\n",
    "data_module = Cwb2LocDataModule(train_data_dict, cwb_data_interp_dict, features, batch_size)\n",
    "model = Cwb2LocModel(\n",
    "    input_dim=47,\n",
    "    hidden_dim=hidden_dim,\n",
    "    output_dim=1,\n",
    "    learning_rate=learning_rate\n",
    ")\n",
    "wandb_name = f'{ID}-f6*5_loc-one-hot_b{batch_size}_h{hidden_dim}_lr{learning_rate}_mae_p32_3fc_指數插值_RELU'\n",
    "# dirpath=f'./saved_models/{loc}/{wandb_name}'\n",
    "# dirpath=f'./saved_models/{loc}'\n",
    "dirpath=f'./saved_models_v4'"
   ]
  },
  {
   "cell_type": "code",
   "execution_count": 12,
   "metadata": {},
   "outputs": [],
   "source": [
    "from lightning.pytorch.loggers import WandbLogger\n",
    "from lightning.pytorch.callbacks import LearningRateMonitor, ModelCheckpoint, EarlyStopping\n",
    "logger = WandbLogger(\n",
    "    project='aicup_power_v4', \n",
    "    name=wandb_name,\n",
    "    save_dir=None,\n",
    "    offline=False,\n",
    "    log_model=False,  # 不保存模型\n",
    "    save_code=False   # 不保存代碼快照\n",
    ")\n",
    "callbacks = [\n",
    "    LearningRateMonitor(),\n",
    "    ModelCheckpoint(\n",
    "        monitor='val_loss',\n",
    "        mode='min',\n",
    "        auto_insert_metric_name=False,\n",
    "        dirpath=dirpath,\n",
    "        filename=f'best-checkpoint-{ID}',\n",
    "        save_top_k=1,\n",
    "    ),\n",
    "    EarlyStopping(\n",
    "        monitor='val_loss',   # 監控的指標\n",
    "        patience=100,           # 如果 3 個 epoch 驗證損失沒有改善，則停止訓練\n",
    "        verbose=True,\n",
    "        mode='min'            # 損失越小越好\n",
    "    )\n",
    "]"
   ]
  },
  {
   "cell_type": "code",
   "execution_count": 13,
   "metadata": {},
   "outputs": [
    {
     "name": "stderr",
     "output_type": "stream",
     "text": [
      "Trainer will use only 1 of 2 GPUs because it is running inside an interactive / notebook environment. You may try to set `Trainer(devices=2)` but please note that multi-GPU inside interactive / notebook environments is considered experimental and unstable. Your mileage may vary.\n",
      "GPU available: True (cuda), used: True\n",
      "TPU available: False, using: 0 TPU cores\n",
      "HPU available: False, using: 0 HPUs\n",
      "`Trainer(val_check_interval=1.0)` was configured so validation will run at the end of the training epoch..\n"
     ]
    }
   ],
   "source": [
    "trainer = L.Trainer(\n",
    "    precision=32,\n",
    "    gradient_clip_val=1.0,\n",
    "    accumulate_grad_batches=1,\n",
    "    max_epochs=10000,\n",
    "    val_check_interval=1.0,\n",
    "    logger=logger,\n",
    "    callbacks=callbacks,\n",
    "    enable_progress_bar=True\n",
    ")"
   ]
  },
  {
   "cell_type": "code",
   "execution_count": null,
   "metadata": {},
   "outputs": [
    {
     "name": "stderr",
     "output_type": "stream",
     "text": [
      "You are using a CUDA device ('NVIDIA GeForce RTX 3090') that has Tensor Cores. To properly utilize them, you should set `torch.set_float32_matmul_precision('medium' | 'high')` which will trade-off precision for performance. For more details, read https://pytorch.org/docs/stable/generated/torch.set_float32_matmul_precision.html#torch.set_float32_matmul_precision\n",
      "\u001b[34m\u001b[1mwandb\u001b[0m: Using wandb-core as the SDK backend. Please refer to https://wandb.me/wandb-core for more information.\n",
      "\u001b[34m\u001b[1mwandb\u001b[0m: Currently logged in as: \u001b[33mdavid___teng\u001b[0m (\u001b[33mdavid___teng-national-central-university\u001b[0m). Use \u001b[1m`wandb login --relogin`\u001b[0m to force relogin\n"
     ]
    },
    {
     "data": {
      "text/html": [
       "Tracking run with wandb version 0.18.3"
      ],
      "text/plain": [
       "<IPython.core.display.HTML object>"
      ]
     },
     "metadata": {},
     "output_type": "display_data"
    },
    {
     "data": {
      "text/html": [
       "Run data is saved locally in <code>/home/davidteng/aicup/electric/code/wandb/run-20241127_030333-kor12aqh</code>"
      ],
      "text/plain": [
       "<IPython.core.display.HTML object>"
      ]
     },
     "metadata": {},
     "output_type": "display_data"
    },
    {
     "data": {
      "text/html": [
       "Syncing run <strong><a href='https://wandb.ai/david___teng-national-central-university/aicup_power_v4/runs/kor12aqh' target=\"_blank\">A-f6*5_loc-one-hot_b256_h128_lr0.001_mae_p32_3fc_指數插值_RELU</a></strong> to <a href='https://wandb.ai/david___teng-national-central-university/aicup_power_v4' target=\"_blank\">Weights & Biases</a> (<a href='https://wandb.me/run' target=\"_blank\">docs</a>)<br/>"
      ],
      "text/plain": [
       "<IPython.core.display.HTML object>"
      ]
     },
     "metadata": {},
     "output_type": "display_data"
    },
    {
     "data": {
      "text/html": [
       " View project at <a href='https://wandb.ai/david___teng-national-central-university/aicup_power_v4' target=\"_blank\">https://wandb.ai/david___teng-national-central-university/aicup_power_v4</a>"
      ],
      "text/plain": [
       "<IPython.core.display.HTML object>"
      ]
     },
     "metadata": {},
     "output_type": "display_data"
    },
    {
     "data": {
      "text/html": [
       " View run at <a href='https://wandb.ai/david___teng-national-central-university/aicup_power_v4/runs/kor12aqh' target=\"_blank\">https://wandb.ai/david___teng-national-central-university/aicup_power_v4/runs/kor12aqh</a>"
      ],
      "text/plain": [
       "<IPython.core.display.HTML object>"
      ]
     },
     "metadata": {},
     "output_type": "display_data"
    },
    {
     "name": "stderr",
     "output_type": "stream",
     "text": [
      "LOCAL_RANK: 0 - CUDA_VISIBLE_DEVICES: [0,1]\n",
      "/home/davidteng/anaconda3/envs/wsd/lib/python3.9/site-packages/torch/optim/lr_scheduler.py:60: UserWarning: The verbose parameter is deprecated. Please use get_last_lr() to access the learning rate.\n",
      "  warnings.warn(\n",
      "\n",
      "  | Name      | Type   | Params | Mode \n",
      "---------------------------------------------\n",
      "0 | fc1       | Linear | 6.1 K  | train\n",
      "1 | fc2       | Linear | 8.3 K  | train\n",
      "2 | fc3       | Linear | 65     | train\n",
      "3 | relu      | ReLU   | 0      | train\n",
      "4 | criterion | L1Loss | 0      | train\n",
      "---------------------------------------------\n",
      "14.5 K    Trainable params\n",
      "0         Non-trainable params\n",
      "14.5 K    Total params\n",
      "0.058     Total estimated model params size (MB)\n",
      "5         Modules in train mode\n",
      "0         Modules in eval mode\n"
     ]
    },
    {
     "name": "stdout",
     "output_type": "stream",
     "text": [
      "                                                                           "
     ]
    },
    {
     "name": "stderr",
     "output_type": "stream",
     "text": [
      "/home/davidteng/anaconda3/envs/wsd/lib/python3.9/site-packages/lightning/pytorch/trainer/connectors/data_connector.py:424: The 'val_dataloader' does not have many workers which may be a bottleneck. Consider increasing the value of the `num_workers` argument` to `num_workers=27` in the `DataLoader` to improve performance.\n",
      "/home/davidteng/anaconda3/envs/wsd/lib/python3.9/site-packages/lightning/pytorch/trainer/connectors/data_connector.py:424: The 'train_dataloader' does not have many workers which may be a bottleneck. Consider increasing the value of the `num_workers` argument` to `num_workers=27` in the `DataLoader` to improve performance.\n"
     ]
    },
    {
     "name": "stdout",
     "output_type": "stream",
     "text": [
      "Epoch 0: 100%|██████████| 4829/4829 [00:57<00:00, 84.22it/s, v_num=2aqh, train_loss_step=0.296, val_loss=0.255, train_loss_epoch=0.269]"
     ]
    },
    {
     "name": "stderr",
     "output_type": "stream",
     "text": [
      "Metric val_loss improved. New best score: 0.255\n"
     ]
    },
    {
     "name": "stdout",
     "output_type": "stream",
     "text": [
      "Epoch 1: 100%|██████████| 4829/4829 [01:00<00:00, 79.80it/s, v_num=2aqh, train_loss_step=0.203, val_loss=0.238, train_loss_epoch=0.240]"
     ]
    },
    {
     "name": "stderr",
     "output_type": "stream",
     "text": [
      "Metric val_loss improved by 0.017 >= min_delta = 0.0. New best score: 0.238\n"
     ]
    },
    {
     "name": "stdout",
     "output_type": "stream",
     "text": [
      "Epoch 2: 100%|██████████| 4829/4829 [00:57<00:00, 84.33it/s, v_num=2aqh, train_loss_step=0.205, val_loss=0.220, train_loss_epoch=0.226]"
     ]
    },
    {
     "name": "stderr",
     "output_type": "stream",
     "text": [
      "Metric val_loss improved by 0.018 >= min_delta = 0.0. New best score: 0.220\n"
     ]
    },
    {
     "name": "stdout",
     "output_type": "stream",
     "text": [
      "Epoch 3: 100%|██████████| 4829/4829 [00:55<00:00, 86.59it/s, v_num=2aqh, train_loss_step=0.059, val_loss=0.215, train_loss_epoch=0.217] "
     ]
    },
    {
     "name": "stderr",
     "output_type": "stream",
     "text": [
      "Metric val_loss improved by 0.005 >= min_delta = 0.0. New best score: 0.215\n"
     ]
    },
    {
     "name": "stdout",
     "output_type": "stream",
     "text": [
      "Epoch 4: 100%|██████████| 4829/4829 [00:55<00:00, 87.04it/s, v_num=2aqh, train_loss_step=0.214, val_loss=0.210, train_loss_epoch=0.212]"
     ]
    },
    {
     "name": "stderr",
     "output_type": "stream",
     "text": [
      "Metric val_loss improved by 0.005 >= min_delta = 0.0. New best score: 0.210\n"
     ]
    },
    {
     "name": "stdout",
     "output_type": "stream",
     "text": [
      "Epoch 5: 100%|██████████| 4829/4829 [00:55<00:00, 86.40it/s, v_num=2aqh, train_loss_step=0.0561, val_loss=0.207, train_loss_epoch=0.209]"
     ]
    },
    {
     "name": "stderr",
     "output_type": "stream",
     "text": [
      "Metric val_loss improved by 0.002 >= min_delta = 0.0. New best score: 0.207\n"
     ]
    },
    {
     "name": "stdout",
     "output_type": "stream",
     "text": [
      "Epoch 6: 100%|██████████| 4829/4829 [00:58<00:00, 82.97it/s, v_num=2aqh, train_loss_step=0.348, val_loss=0.205, train_loss_epoch=0.205] "
     ]
    },
    {
     "name": "stderr",
     "output_type": "stream",
     "text": [
      "Metric val_loss improved by 0.003 >= min_delta = 0.0. New best score: 0.205\n"
     ]
    },
    {
     "name": "stdout",
     "output_type": "stream",
     "text": [
      "Epoch 9: 100%|██████████| 4829/4829 [00:55<00:00, 86.61it/s, v_num=2aqh, train_loss_step=0.0927, val_loss=0.196, train_loss_epoch=0.198]"
     ]
    },
    {
     "name": "stderr",
     "output_type": "stream",
     "text": [
      "Metric val_loss improved by 0.008 >= min_delta = 0.0. New best score: 0.196\n"
     ]
    },
    {
     "name": "stdout",
     "output_type": "stream",
     "text": [
      "Epoch 11: 100%|██████████| 4829/4829 [00:58<00:00, 83.21it/s, v_num=2aqh, train_loss_step=0.271, val_loss=0.191, train_loss_epoch=0.196]"
     ]
    },
    {
     "name": "stderr",
     "output_type": "stream",
     "text": [
      "Metric val_loss improved by 0.005 >= min_delta = 0.0. New best score: 0.191\n"
     ]
    },
    {
     "name": "stdout",
     "output_type": "stream",
     "text": [
      "Epoch 13: 100%|██████████| 4829/4829 [00:59<00:00, 80.95it/s, v_num=2aqh, train_loss_step=0.479, val_loss=0.190, train_loss_epoch=0.194] "
     ]
    },
    {
     "name": "stderr",
     "output_type": "stream",
     "text": [
      "Metric val_loss improved by 0.001 >= min_delta = 0.0. New best score: 0.190\n"
     ]
    },
    {
     "name": "stdout",
     "output_type": "stream",
     "text": [
      "Epoch 16: 100%|██████████| 4829/4829 [00:56<00:00, 85.75it/s, v_num=2aqh, train_loss_step=0.301, val_loss=0.189, train_loss_epoch=0.191] "
     ]
    },
    {
     "name": "stderr",
     "output_type": "stream",
     "text": [
      "Metric val_loss improved by 0.002 >= min_delta = 0.0. New best score: 0.189\n"
     ]
    },
    {
     "name": "stdout",
     "output_type": "stream",
     "text": [
      "Epoch 18: 100%|██████████| 4829/4829 [00:57<00:00, 84.57it/s, v_num=2aqh, train_loss_step=0.165, val_loss=0.186, train_loss_epoch=0.190]  "
     ]
    },
    {
     "name": "stderr",
     "output_type": "stream",
     "text": [
      "Metric val_loss improved by 0.002 >= min_delta = 0.0. New best score: 0.186\n"
     ]
    },
    {
     "name": "stdout",
     "output_type": "stream",
     "text": [
      "Epoch 22: 100%|██████████| 4829/4829 [00:52<00:00, 92.33it/s, v_num=2aqh, train_loss_step=0.230, val_loss=0.178, train_loss_epoch=0.179]  "
     ]
    },
    {
     "name": "stderr",
     "output_type": "stream",
     "text": [
      "Metric val_loss improved by 0.008 >= min_delta = 0.0. New best score: 0.178\n"
     ]
    },
    {
     "name": "stdout",
     "output_type": "stream",
     "text": [
      "Epoch 23: 100%|██████████| 4829/4829 [00:58<00:00, 83.17it/s, v_num=2aqh, train_loss_step=0.0764, val_loss=0.176, train_loss_epoch=0.178]"
     ]
    },
    {
     "name": "stderr",
     "output_type": "stream",
     "text": [
      "Metric val_loss improved by 0.002 >= min_delta = 0.0. New best score: 0.176\n"
     ]
    },
    {
     "name": "stdout",
     "output_type": "stream",
     "text": [
      "Epoch 29: 100%|██████████| 4829/4829 [00:56<00:00, 84.97it/s, v_num=2aqh, train_loss_step=0.190, val_loss=0.174, train_loss_epoch=0.171]  "
     ]
    },
    {
     "name": "stderr",
     "output_type": "stream",
     "text": [
      "Metric val_loss improved by 0.002 >= min_delta = 0.0. New best score: 0.174\n"
     ]
    },
    {
     "name": "stdout",
     "output_type": "stream",
     "text": [
      "Epoch 30: 100%|██████████| 4829/4829 [00:56<00:00, 84.81it/s, v_num=2aqh, train_loss_step=0.379, val_loss=0.173, train_loss_epoch=0.170] "
     ]
    },
    {
     "name": "stderr",
     "output_type": "stream",
     "text": [
      "Metric val_loss improved by 0.001 >= min_delta = 0.0. New best score: 0.173\n"
     ]
    },
    {
     "name": "stdout",
     "output_type": "stream",
     "text": [
      "Epoch 31: 100%|██████████| 4829/4829 [00:52<00:00, 91.87it/s, v_num=2aqh, train_loss_step=0.346, val_loss=0.170, train_loss_epoch=0.170]  "
     ]
    },
    {
     "name": "stderr",
     "output_type": "stream",
     "text": [
      "Metric val_loss improved by 0.003 >= min_delta = 0.0. New best score: 0.170\n"
     ]
    },
    {
     "name": "stdout",
     "output_type": "stream",
     "text": [
      "Epoch 35: 100%|██████████| 4829/4829 [00:56<00:00, 85.56it/s, v_num=2aqh, train_loss_step=0.199, val_loss=0.168, train_loss_epoch=0.166] "
     ]
    },
    {
     "name": "stderr",
     "output_type": "stream",
     "text": [
      "Metric val_loss improved by 0.002 >= min_delta = 0.0. New best score: 0.168\n"
     ]
    },
    {
     "name": "stdout",
     "output_type": "stream",
     "text": [
      "Epoch 36: 100%|██████████| 4829/4829 [00:54<00:00, 88.06it/s, v_num=2aqh, train_loss_step=0.166, val_loss=0.168, train_loss_epoch=0.166] "
     ]
    },
    {
     "name": "stderr",
     "output_type": "stream",
     "text": [
      "Metric val_loss improved by 0.001 >= min_delta = 0.0. New best score: 0.168\n"
     ]
    },
    {
     "name": "stdout",
     "output_type": "stream",
     "text": [
      "Epoch 38: 100%|██████████| 4829/4829 [00:58<00:00, 82.12it/s, v_num=2aqh, train_loss_step=0.107, val_loss=0.167, train_loss_epoch=0.166] "
     ]
    },
    {
     "name": "stderr",
     "output_type": "stream",
     "text": [
      "Metric val_loss improved by 0.001 >= min_delta = 0.0. New best score: 0.167\n"
     ]
    },
    {
     "name": "stdout",
     "output_type": "stream",
     "text": [
      "Epoch 40:  29%|██▉       | 1406/4829 [00:15<00:37, 90.88it/s, v_num=2aqh, train_loss_step=0.183, val_loss=0.168, train_loss_epoch=0.165] "
     ]
    },
    {
     "name": "stderr",
     "output_type": "stream",
     "text": [
      "\n",
      "Detected KeyboardInterrupt, attempting graceful shutdown ...\n"
     ]
    },
    {
     "ename": "NameError",
     "evalue": "name 'exit' is not defined",
     "output_type": "error",
     "traceback": [
      "\u001b[0;31m---------------------------------------------------------------------------\u001b[0m",
      "\u001b[0;31mKeyboardInterrupt\u001b[0m                         Traceback (most recent call last)",
      "File \u001b[0;32m~/anaconda3/envs/wsd/lib/python3.9/site-packages/lightning/pytorch/trainer/call.py:47\u001b[0m, in \u001b[0;36m_call_and_handle_interrupt\u001b[0;34m(trainer, trainer_fn, *args, **kwargs)\u001b[0m\n\u001b[1;32m     46\u001b[0m         \u001b[38;5;28;01mreturn\u001b[39;00m trainer\u001b[38;5;241m.\u001b[39mstrategy\u001b[38;5;241m.\u001b[39mlauncher\u001b[38;5;241m.\u001b[39mlaunch(trainer_fn, \u001b[38;5;241m*\u001b[39margs, trainer\u001b[38;5;241m=\u001b[39mtrainer, \u001b[38;5;241m*\u001b[39m\u001b[38;5;241m*\u001b[39mkwargs)\n\u001b[0;32m---> 47\u001b[0m     \u001b[38;5;28;01mreturn\u001b[39;00m \u001b[43mtrainer_fn\u001b[49m\u001b[43m(\u001b[49m\u001b[38;5;241;43m*\u001b[39;49m\u001b[43margs\u001b[49m\u001b[43m,\u001b[49m\u001b[43m \u001b[49m\u001b[38;5;241;43m*\u001b[39;49m\u001b[38;5;241;43m*\u001b[39;49m\u001b[43mkwargs\u001b[49m\u001b[43m)\u001b[49m\n\u001b[1;32m     49\u001b[0m \u001b[38;5;28;01mexcept\u001b[39;00m _TunerExitException:\n",
      "File \u001b[0;32m~/anaconda3/envs/wsd/lib/python3.9/site-packages/lightning/pytorch/trainer/trainer.py:574\u001b[0m, in \u001b[0;36mTrainer._fit_impl\u001b[0;34m(self, model, train_dataloaders, val_dataloaders, datamodule, ckpt_path)\u001b[0m\n\u001b[1;32m    568\u001b[0m ckpt_path \u001b[38;5;241m=\u001b[39m \u001b[38;5;28mself\u001b[39m\u001b[38;5;241m.\u001b[39m_checkpoint_connector\u001b[38;5;241m.\u001b[39m_select_ckpt_path(\n\u001b[1;32m    569\u001b[0m     \u001b[38;5;28mself\u001b[39m\u001b[38;5;241m.\u001b[39mstate\u001b[38;5;241m.\u001b[39mfn,\n\u001b[1;32m    570\u001b[0m     ckpt_path,\n\u001b[1;32m    571\u001b[0m     model_provided\u001b[38;5;241m=\u001b[39m\u001b[38;5;28;01mTrue\u001b[39;00m,\n\u001b[1;32m    572\u001b[0m     model_connected\u001b[38;5;241m=\u001b[39m\u001b[38;5;28mself\u001b[39m\u001b[38;5;241m.\u001b[39mlightning_module \u001b[38;5;129;01mis\u001b[39;00m \u001b[38;5;129;01mnot\u001b[39;00m \u001b[38;5;28;01mNone\u001b[39;00m,\n\u001b[1;32m    573\u001b[0m )\n\u001b[0;32m--> 574\u001b[0m \u001b[38;5;28;43mself\u001b[39;49m\u001b[38;5;241;43m.\u001b[39;49m\u001b[43m_run\u001b[49m\u001b[43m(\u001b[49m\u001b[43mmodel\u001b[49m\u001b[43m,\u001b[49m\u001b[43m \u001b[49m\u001b[43mckpt_path\u001b[49m\u001b[38;5;241;43m=\u001b[39;49m\u001b[43mckpt_path\u001b[49m\u001b[43m)\u001b[49m\n\u001b[1;32m    576\u001b[0m \u001b[38;5;28;01massert\u001b[39;00m \u001b[38;5;28mself\u001b[39m\u001b[38;5;241m.\u001b[39mstate\u001b[38;5;241m.\u001b[39mstopped\n",
      "File \u001b[0;32m~/anaconda3/envs/wsd/lib/python3.9/site-packages/lightning/pytorch/trainer/trainer.py:981\u001b[0m, in \u001b[0;36mTrainer._run\u001b[0;34m(self, model, ckpt_path)\u001b[0m\n\u001b[1;32m    978\u001b[0m \u001b[38;5;66;03m# ----------------------------\u001b[39;00m\n\u001b[1;32m    979\u001b[0m \u001b[38;5;66;03m# RUN THE TRAINER\u001b[39;00m\n\u001b[1;32m    980\u001b[0m \u001b[38;5;66;03m# ----------------------------\u001b[39;00m\n\u001b[0;32m--> 981\u001b[0m results \u001b[38;5;241m=\u001b[39m \u001b[38;5;28;43mself\u001b[39;49m\u001b[38;5;241;43m.\u001b[39;49m\u001b[43m_run_stage\u001b[49m\u001b[43m(\u001b[49m\u001b[43m)\u001b[49m\n\u001b[1;32m    983\u001b[0m \u001b[38;5;66;03m# ----------------------------\u001b[39;00m\n\u001b[1;32m    984\u001b[0m \u001b[38;5;66;03m# POST-Training CLEAN UP\u001b[39;00m\n\u001b[1;32m    985\u001b[0m \u001b[38;5;66;03m# ----------------------------\u001b[39;00m\n",
      "File \u001b[0;32m~/anaconda3/envs/wsd/lib/python3.9/site-packages/lightning/pytorch/trainer/trainer.py:1025\u001b[0m, in \u001b[0;36mTrainer._run_stage\u001b[0;34m(self)\u001b[0m\n\u001b[1;32m   1024\u001b[0m \u001b[38;5;28;01mwith\u001b[39;00m torch\u001b[38;5;241m.\u001b[39mautograd\u001b[38;5;241m.\u001b[39mset_detect_anomaly(\u001b[38;5;28mself\u001b[39m\u001b[38;5;241m.\u001b[39m_detect_anomaly):\n\u001b[0;32m-> 1025\u001b[0m     \u001b[38;5;28;43mself\u001b[39;49m\u001b[38;5;241;43m.\u001b[39;49m\u001b[43mfit_loop\u001b[49m\u001b[38;5;241;43m.\u001b[39;49m\u001b[43mrun\u001b[49m\u001b[43m(\u001b[49m\u001b[43m)\u001b[49m\n\u001b[1;32m   1026\u001b[0m \u001b[38;5;28;01mreturn\u001b[39;00m \u001b[38;5;28;01mNone\u001b[39;00m\n",
      "File \u001b[0;32m~/anaconda3/envs/wsd/lib/python3.9/site-packages/lightning/pytorch/loops/fit_loop.py:205\u001b[0m, in \u001b[0;36m_FitLoop.run\u001b[0;34m(self)\u001b[0m\n\u001b[1;32m    204\u001b[0m \u001b[38;5;28mself\u001b[39m\u001b[38;5;241m.\u001b[39mon_advance_start()\n\u001b[0;32m--> 205\u001b[0m \u001b[38;5;28;43mself\u001b[39;49m\u001b[38;5;241;43m.\u001b[39;49m\u001b[43madvance\u001b[49m\u001b[43m(\u001b[49m\u001b[43m)\u001b[49m\n\u001b[1;32m    206\u001b[0m \u001b[38;5;28mself\u001b[39m\u001b[38;5;241m.\u001b[39mon_advance_end()\n",
      "File \u001b[0;32m~/anaconda3/envs/wsd/lib/python3.9/site-packages/lightning/pytorch/loops/fit_loop.py:363\u001b[0m, in \u001b[0;36m_FitLoop.advance\u001b[0;34m(self)\u001b[0m\n\u001b[1;32m    362\u001b[0m \u001b[38;5;28;01massert\u001b[39;00m \u001b[38;5;28mself\u001b[39m\u001b[38;5;241m.\u001b[39m_data_fetcher \u001b[38;5;129;01mis\u001b[39;00m \u001b[38;5;129;01mnot\u001b[39;00m \u001b[38;5;28;01mNone\u001b[39;00m\n\u001b[0;32m--> 363\u001b[0m \u001b[38;5;28;43mself\u001b[39;49m\u001b[38;5;241;43m.\u001b[39;49m\u001b[43mepoch_loop\u001b[49m\u001b[38;5;241;43m.\u001b[39;49m\u001b[43mrun\u001b[49m\u001b[43m(\u001b[49m\u001b[38;5;28;43mself\u001b[39;49m\u001b[38;5;241;43m.\u001b[39;49m\u001b[43m_data_fetcher\u001b[49m\u001b[43m)\u001b[49m\n",
      "File \u001b[0;32m~/anaconda3/envs/wsd/lib/python3.9/site-packages/lightning/pytorch/loops/training_epoch_loop.py:140\u001b[0m, in \u001b[0;36m_TrainingEpochLoop.run\u001b[0;34m(self, data_fetcher)\u001b[0m\n\u001b[1;32m    139\u001b[0m \u001b[38;5;28;01mtry\u001b[39;00m:\n\u001b[0;32m--> 140\u001b[0m     \u001b[38;5;28;43mself\u001b[39;49m\u001b[38;5;241;43m.\u001b[39;49m\u001b[43madvance\u001b[49m\u001b[43m(\u001b[49m\u001b[43mdata_fetcher\u001b[49m\u001b[43m)\u001b[49m\n\u001b[1;32m    141\u001b[0m     \u001b[38;5;28mself\u001b[39m\u001b[38;5;241m.\u001b[39mon_advance_end(data_fetcher)\n",
      "File \u001b[0;32m~/anaconda3/envs/wsd/lib/python3.9/site-packages/lightning/pytorch/loops/training_epoch_loop.py:212\u001b[0m, in \u001b[0;36m_TrainingEpochLoop.advance\u001b[0;34m(self, data_fetcher)\u001b[0m\n\u001b[1;32m    211\u001b[0m dataloader_iter \u001b[38;5;241m=\u001b[39m \u001b[38;5;28;01mNone\u001b[39;00m\n\u001b[0;32m--> 212\u001b[0m batch, _, __ \u001b[38;5;241m=\u001b[39m \u001b[38;5;28;43mnext\u001b[39;49m\u001b[43m(\u001b[49m\u001b[43mdata_fetcher\u001b[49m\u001b[43m)\u001b[49m\n\u001b[1;32m    213\u001b[0m \u001b[38;5;66;03m# TODO: we should instead use the batch_idx returned by the fetcher, however, that will require saving the\u001b[39;00m\n\u001b[1;32m    214\u001b[0m \u001b[38;5;66;03m# fetcher state so that the batch_idx is correct after restarting\u001b[39;00m\n",
      "File \u001b[0;32m~/anaconda3/envs/wsd/lib/python3.9/site-packages/lightning/pytorch/loops/fetchers.py:133\u001b[0m, in \u001b[0;36m_PrefetchDataFetcher.__next__\u001b[0;34m(self)\u001b[0m\n\u001b[1;32m    131\u001b[0m \u001b[38;5;28;01melif\u001b[39;00m \u001b[38;5;129;01mnot\u001b[39;00m \u001b[38;5;28mself\u001b[39m\u001b[38;5;241m.\u001b[39mdone:\n\u001b[1;32m    132\u001b[0m     \u001b[38;5;66;03m# this will run only when no pre-fetching was done.\u001b[39;00m\n\u001b[0;32m--> 133\u001b[0m     batch \u001b[38;5;241m=\u001b[39m \u001b[38;5;28;43msuper\u001b[39;49m\u001b[43m(\u001b[49m\u001b[43m)\u001b[49m\u001b[38;5;241;43m.\u001b[39;49m\u001b[38;5;21;43m__next__\u001b[39;49m\u001b[43m(\u001b[49m\u001b[43m)\u001b[49m\n\u001b[1;32m    134\u001b[0m \u001b[38;5;28;01melse\u001b[39;00m:\n\u001b[1;32m    135\u001b[0m     \u001b[38;5;66;03m# the iterator is empty\u001b[39;00m\n",
      "File \u001b[0;32m~/anaconda3/envs/wsd/lib/python3.9/site-packages/lightning/pytorch/loops/fetchers.py:60\u001b[0m, in \u001b[0;36m_DataFetcher.__next__\u001b[0;34m(self)\u001b[0m\n\u001b[1;32m     59\u001b[0m \u001b[38;5;28;01mtry\u001b[39;00m:\n\u001b[0;32m---> 60\u001b[0m     batch \u001b[38;5;241m=\u001b[39m \u001b[38;5;28;43mnext\u001b[39;49m\u001b[43m(\u001b[49m\u001b[38;5;28;43mself\u001b[39;49m\u001b[38;5;241;43m.\u001b[39;49m\u001b[43miterator\u001b[49m\u001b[43m)\u001b[49m\n\u001b[1;32m     61\u001b[0m \u001b[38;5;28;01mexcept\u001b[39;00m \u001b[38;5;167;01mStopIteration\u001b[39;00m:\n",
      "File \u001b[0;32m~/anaconda3/envs/wsd/lib/python3.9/site-packages/lightning/pytorch/utilities/combined_loader.py:341\u001b[0m, in \u001b[0;36mCombinedLoader.__next__\u001b[0;34m(self)\u001b[0m\n\u001b[1;32m    340\u001b[0m \u001b[38;5;28;01massert\u001b[39;00m \u001b[38;5;28mself\u001b[39m\u001b[38;5;241m.\u001b[39m_iterator \u001b[38;5;129;01mis\u001b[39;00m \u001b[38;5;129;01mnot\u001b[39;00m \u001b[38;5;28;01mNone\u001b[39;00m\n\u001b[0;32m--> 341\u001b[0m out \u001b[38;5;241m=\u001b[39m \u001b[38;5;28;43mnext\u001b[39;49m\u001b[43m(\u001b[49m\u001b[38;5;28;43mself\u001b[39;49m\u001b[38;5;241;43m.\u001b[39;49m\u001b[43m_iterator\u001b[49m\u001b[43m)\u001b[49m\n\u001b[1;32m    342\u001b[0m \u001b[38;5;28;01mif\u001b[39;00m \u001b[38;5;28misinstance\u001b[39m(\u001b[38;5;28mself\u001b[39m\u001b[38;5;241m.\u001b[39m_iterator, _Sequential):\n",
      "File \u001b[0;32m~/anaconda3/envs/wsd/lib/python3.9/site-packages/lightning/pytorch/utilities/combined_loader.py:78\u001b[0m, in \u001b[0;36m_MaxSizeCycle.__next__\u001b[0;34m(self)\u001b[0m\n\u001b[1;32m     77\u001b[0m \u001b[38;5;28;01mtry\u001b[39;00m:\n\u001b[0;32m---> 78\u001b[0m     out[i] \u001b[38;5;241m=\u001b[39m \u001b[38;5;28;43mnext\u001b[39;49m\u001b[43m(\u001b[49m\u001b[38;5;28;43mself\u001b[39;49m\u001b[38;5;241;43m.\u001b[39;49m\u001b[43miterators\u001b[49m\u001b[43m[\u001b[49m\u001b[43mi\u001b[49m\u001b[43m]\u001b[49m\u001b[43m)\u001b[49m\n\u001b[1;32m     79\u001b[0m \u001b[38;5;28;01mexcept\u001b[39;00m \u001b[38;5;167;01mStopIteration\u001b[39;00m:\n",
      "File \u001b[0;32m~/anaconda3/envs/wsd/lib/python3.9/site-packages/torch/utils/data/dataloader.py:630\u001b[0m, in \u001b[0;36m_BaseDataLoaderIter.__next__\u001b[0;34m(self)\u001b[0m\n\u001b[1;32m    629\u001b[0m     \u001b[38;5;28mself\u001b[39m\u001b[38;5;241m.\u001b[39m_reset()  \u001b[38;5;66;03m# type: ignore[call-arg]\u001b[39;00m\n\u001b[0;32m--> 630\u001b[0m data \u001b[38;5;241m=\u001b[39m \u001b[38;5;28;43mself\u001b[39;49m\u001b[38;5;241;43m.\u001b[39;49m\u001b[43m_next_data\u001b[49m\u001b[43m(\u001b[49m\u001b[43m)\u001b[49m\n\u001b[1;32m    631\u001b[0m \u001b[38;5;28mself\u001b[39m\u001b[38;5;241m.\u001b[39m_num_yielded \u001b[38;5;241m+\u001b[39m\u001b[38;5;241m=\u001b[39m \u001b[38;5;241m1\u001b[39m\n",
      "File \u001b[0;32m~/anaconda3/envs/wsd/lib/python3.9/site-packages/torch/utils/data/dataloader.py:673\u001b[0m, in \u001b[0;36m_SingleProcessDataLoaderIter._next_data\u001b[0;34m(self)\u001b[0m\n\u001b[1;32m    672\u001b[0m index \u001b[38;5;241m=\u001b[39m \u001b[38;5;28mself\u001b[39m\u001b[38;5;241m.\u001b[39m_next_index()  \u001b[38;5;66;03m# may raise StopIteration\u001b[39;00m\n\u001b[0;32m--> 673\u001b[0m data \u001b[38;5;241m=\u001b[39m \u001b[38;5;28;43mself\u001b[39;49m\u001b[38;5;241;43m.\u001b[39;49m\u001b[43m_dataset_fetcher\u001b[49m\u001b[38;5;241;43m.\u001b[39;49m\u001b[43mfetch\u001b[49m\u001b[43m(\u001b[49m\u001b[43mindex\u001b[49m\u001b[43m)\u001b[49m  \u001b[38;5;66;03m# may raise StopIteration\u001b[39;00m\n\u001b[1;32m    674\u001b[0m \u001b[38;5;28;01mif\u001b[39;00m \u001b[38;5;28mself\u001b[39m\u001b[38;5;241m.\u001b[39m_pin_memory:\n",
      "File \u001b[0;32m~/anaconda3/envs/wsd/lib/python3.9/site-packages/torch/utils/data/_utils/fetch.py:50\u001b[0m, in \u001b[0;36m_MapDatasetFetcher.fetch\u001b[0;34m(self, possibly_batched_index)\u001b[0m\n\u001b[1;32m     49\u001b[0m \u001b[38;5;28;01mif\u001b[39;00m \u001b[38;5;28mhasattr\u001b[39m(\u001b[38;5;28mself\u001b[39m\u001b[38;5;241m.\u001b[39mdataset, \u001b[38;5;124m\"\u001b[39m\u001b[38;5;124m__getitems__\u001b[39m\u001b[38;5;124m\"\u001b[39m) \u001b[38;5;129;01mand\u001b[39;00m \u001b[38;5;28mself\u001b[39m\u001b[38;5;241m.\u001b[39mdataset\u001b[38;5;241m.\u001b[39m__getitems__:\n\u001b[0;32m---> 50\u001b[0m     data \u001b[38;5;241m=\u001b[39m \u001b[38;5;28;43mself\u001b[39;49m\u001b[38;5;241;43m.\u001b[39;49m\u001b[43mdataset\u001b[49m\u001b[38;5;241;43m.\u001b[39;49m\u001b[43m__getitems__\u001b[49m\u001b[43m(\u001b[49m\u001b[43mpossibly_batched_index\u001b[49m\u001b[43m)\u001b[49m\n\u001b[1;32m     51\u001b[0m \u001b[38;5;28;01melse\u001b[39;00m:\n",
      "File \u001b[0;32m~/anaconda3/envs/wsd/lib/python3.9/site-packages/torch/utils/data/dataset.py:420\u001b[0m, in \u001b[0;36mSubset.__getitems__\u001b[0;34m(self, indices)\u001b[0m\n\u001b[1;32m    419\u001b[0m \u001b[38;5;28;01melse\u001b[39;00m:\n\u001b[0;32m--> 420\u001b[0m     \u001b[38;5;28;01mreturn\u001b[39;00m [\u001b[38;5;28mself\u001b[39m\u001b[38;5;241m.\u001b[39mdataset[\u001b[38;5;28mself\u001b[39m\u001b[38;5;241m.\u001b[39mindices[idx]] \u001b[38;5;28;01mfor\u001b[39;00m idx \u001b[38;5;129;01min\u001b[39;00m indices]\n",
      "File \u001b[0;32m~/anaconda3/envs/wsd/lib/python3.9/site-packages/torch/utils/data/dataset.py:420\u001b[0m, in \u001b[0;36m<listcomp>\u001b[0;34m(.0)\u001b[0m\n\u001b[1;32m    419\u001b[0m \u001b[38;5;28;01melse\u001b[39;00m:\n\u001b[0;32m--> 420\u001b[0m     \u001b[38;5;28;01mreturn\u001b[39;00m [\u001b[38;5;28;43mself\u001b[39;49m\u001b[38;5;241;43m.\u001b[39;49m\u001b[43mdataset\u001b[49m\u001b[43m[\u001b[49m\u001b[38;5;28;43mself\u001b[39;49m\u001b[38;5;241;43m.\u001b[39;49m\u001b[43mindices\u001b[49m\u001b[43m[\u001b[49m\u001b[43midx\u001b[49m\u001b[43m]\u001b[49m\u001b[43m]\u001b[49m \u001b[38;5;28;01mfor\u001b[39;00m idx \u001b[38;5;129;01min\u001b[39;00m indices]\n",
      "Cell \u001b[0;32mIn[6], line 79\u001b[0m, in \u001b[0;36mCwb2LocDataset.__getitem__\u001b[0;34m(self, index)\u001b[0m\n\u001b[1;32m     78\u001b[0m x_combined \u001b[38;5;241m=\u001b[39m np\u001b[38;5;241m.\u001b[39mconcatenate([\u001b[38;5;28mself\u001b[39m\u001b[38;5;241m.\u001b[39mx[index], \u001b[38;5;28mself\u001b[39m\u001b[38;5;241m.\u001b[39mloc[index]])\n\u001b[0;32m---> 79\u001b[0m \u001b[38;5;28;01mreturn\u001b[39;00m torch\u001b[38;5;241m.\u001b[39mtensor(x_combined, dtype\u001b[38;5;241m=\u001b[39mtorch\u001b[38;5;241m.\u001b[39mfloat32), \u001b[43mtorch\u001b[49m\u001b[38;5;241;43m.\u001b[39;49m\u001b[43mtensor\u001b[49m\u001b[43m(\u001b[49m\u001b[38;5;28;43mself\u001b[39;49m\u001b[38;5;241;43m.\u001b[39;49m\u001b[43my\u001b[49m\u001b[43m[\u001b[49m\u001b[43mindex\u001b[49m\u001b[43m]\u001b[49m\u001b[43m,\u001b[49m\u001b[43m \u001b[49m\u001b[43mdtype\u001b[49m\u001b[38;5;241;43m=\u001b[39;49m\u001b[43mtorch\u001b[49m\u001b[38;5;241;43m.\u001b[39;49m\u001b[43mfloat32\u001b[49m\u001b[43m)\u001b[49m\n",
      "\u001b[0;31mKeyboardInterrupt\u001b[0m: ",
      "\nDuring handling of the above exception, another exception occurred:\n",
      "\u001b[0;31mNameError\u001b[0m                                 Traceback (most recent call last)",
      "Cell \u001b[0;32mIn[14], line 1\u001b[0m\n\u001b[0;32m----> 1\u001b[0m \u001b[43mtrainer\u001b[49m\u001b[38;5;241;43m.\u001b[39;49m\u001b[43mfit\u001b[49m\u001b[43m(\u001b[49m\u001b[43mmodel\u001b[49m\u001b[43m,\u001b[49m\u001b[43m \u001b[49m\u001b[43mdatamodule\u001b[49m\u001b[38;5;241;43m=\u001b[39;49m\u001b[43mdata_module\u001b[49m\u001b[43m)\u001b[49m\n",
      "File \u001b[0;32m~/anaconda3/envs/wsd/lib/python3.9/site-packages/lightning/pytorch/trainer/trainer.py:538\u001b[0m, in \u001b[0;36mTrainer.fit\u001b[0;34m(self, model, train_dataloaders, val_dataloaders, datamodule, ckpt_path)\u001b[0m\n\u001b[1;32m    536\u001b[0m \u001b[38;5;28mself\u001b[39m\u001b[38;5;241m.\u001b[39mstate\u001b[38;5;241m.\u001b[39mstatus \u001b[38;5;241m=\u001b[39m TrainerStatus\u001b[38;5;241m.\u001b[39mRUNNING\n\u001b[1;32m    537\u001b[0m \u001b[38;5;28mself\u001b[39m\u001b[38;5;241m.\u001b[39mtraining \u001b[38;5;241m=\u001b[39m \u001b[38;5;28;01mTrue\u001b[39;00m\n\u001b[0;32m--> 538\u001b[0m \u001b[43mcall\u001b[49m\u001b[38;5;241;43m.\u001b[39;49m\u001b[43m_call_and_handle_interrupt\u001b[49m\u001b[43m(\u001b[49m\n\u001b[1;32m    539\u001b[0m \u001b[43m    \u001b[49m\u001b[38;5;28;43mself\u001b[39;49m\u001b[43m,\u001b[49m\u001b[43m \u001b[49m\u001b[38;5;28;43mself\u001b[39;49m\u001b[38;5;241;43m.\u001b[39;49m\u001b[43m_fit_impl\u001b[49m\u001b[43m,\u001b[49m\u001b[43m \u001b[49m\u001b[43mmodel\u001b[49m\u001b[43m,\u001b[49m\u001b[43m \u001b[49m\u001b[43mtrain_dataloaders\u001b[49m\u001b[43m,\u001b[49m\u001b[43m \u001b[49m\u001b[43mval_dataloaders\u001b[49m\u001b[43m,\u001b[49m\u001b[43m \u001b[49m\u001b[43mdatamodule\u001b[49m\u001b[43m,\u001b[49m\u001b[43m \u001b[49m\u001b[43mckpt_path\u001b[49m\n\u001b[1;32m    540\u001b[0m \u001b[43m\u001b[49m\u001b[43m)\u001b[49m\n",
      "File \u001b[0;32m~/anaconda3/envs/wsd/lib/python3.9/site-packages/lightning/pytorch/trainer/call.py:64\u001b[0m, in \u001b[0;36m_call_and_handle_interrupt\u001b[0;34m(trainer, trainer_fn, *args, **kwargs)\u001b[0m\n\u001b[1;32m     62\u001b[0m     \u001b[38;5;28;01mif\u001b[39;00m \u001b[38;5;28misinstance\u001b[39m(launcher, _SubprocessScriptLauncher):\n\u001b[1;32m     63\u001b[0m         launcher\u001b[38;5;241m.\u001b[39mkill(_get_sigkill_signal())\n\u001b[0;32m---> 64\u001b[0m     \u001b[43mexit\u001b[49m(\u001b[38;5;241m1\u001b[39m)\n\u001b[1;32m     66\u001b[0m \u001b[38;5;28;01mexcept\u001b[39;00m \u001b[38;5;167;01mBaseException\u001b[39;00m \u001b[38;5;28;01mas\u001b[39;00m exception:\n\u001b[1;32m     67\u001b[0m     _interrupt(trainer, exception)\n",
      "\u001b[0;31mNameError\u001b[0m: name 'exit' is not defined"
     ]
    },
    {
     "ename": "",
     "evalue": "",
     "output_type": "error",
     "traceback": [
      "\u001b[1;31mThe Kernel crashed while executing code in the current cell or a previous cell. \n",
      "\u001b[1;31mPlease review the code in the cell(s) to identify a possible cause of the failure. \n",
      "\u001b[1;31mClick <a href='https://aka.ms/vscodeJupyterKernelCrash'>here</a> for more info. \n",
      "\u001b[1;31mView Jupyter <a href='command:jupyter.viewOutput'>log</a> for further details."
     ]
    }
   ],
   "source": [
    "trainer.fit(model, datamodule=data_module)"
   ]
  }
 ],
 "metadata": {
  "kernelspec": {
   "display_name": "wsd",
   "language": "python",
   "name": "python3"
  },
  "language_info": {
   "codemirror_mode": {
    "name": "ipython",
    "version": 3
   },
   "file_extension": ".py",
   "mimetype": "text/x-python",
   "name": "python",
   "nbconvert_exporter": "python",
   "pygments_lexer": "ipython3",
   "version": "3.9.19"
  }
 },
 "nbformat": 4,
 "nbformat_minor": 2
}
