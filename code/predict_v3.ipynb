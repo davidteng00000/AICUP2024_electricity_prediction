{
 "cells": [
  {
   "cell_type": "code",
   "execution_count": 1,
   "metadata": {},
   "outputs": [
    {
     "name": "stderr",
     "output_type": "stream",
     "text": [
      "/home/davidteng/anaconda3/envs/wsd/lib/python3.9/site-packages/tqdm/auto.py:21: TqdmWarning: IProgress not found. Please update jupyter and ipywidgets. See https://ipywidgets.readthedocs.io/en/stable/user_install.html\n",
      "  from .autonotebook import tqdm as notebook_tqdm\n"
     ]
    }
   ],
   "source": [
    "import json, torch\n",
    "import lightning  as L\n",
    "from torch.utils.data import Dataset, DataLoader\n",
    "from transformers import AutoTokenizer\n",
    "from torch.nn import functional as F\n",
    "import csv\n",
    "from collections import defaultdict\n",
    "import torch.nn as nn\n",
    "import torch.optim as optim\n",
    "from sklearn.preprocessing import StandardScaler\n",
    "import numpy as np\n",
    "import pickle\n",
    "import pandas as pd\n",
    "import pprint"
   ]
  },
  {
   "cell_type": "markdown",
   "metadata": {},
   "source": [
    "#### load cwb data"
   ]
  },
  {
   "cell_type": "code",
   "execution_count": 2,
   "metadata": {},
   "outputs": [
    {
     "name": "stdout",
     "output_type": "stream",
     "text": [
      "[0.0, 0.0, 0.0, 0.0, 0.0, 0.0, 0.0, 0.0, 0.0, 0.0, 0.0, 0.0, 0.0, 0.0, 0.0, 0.0, 0.0, 0.0, 0.0, 0.0, 0.0, 0.0, 0.0, 0.0, 0.0, 0.0, 0.0, 0.0, 0.0, 0.0, 0.0, 0.0, 0.0, 0.0, 0.0, 0.0, 0.0, 0.0, 0.0, 0.0, 0.0, 0.0, 0.0, 0.0, 0.0, 0.0, 0.0, 0.0, 0.0, 0.0, 0.0, 0.0, 0.0, 0.0, 0.0, 0.0, 0.0, 0.0, 0.0, 0.0]\n"
     ]
    }
   ],
   "source": [
    "from collections import defaultdict\n",
    "import numpy as np\n",
    "import csv\n",
    "from scipy.interpolate import interp1d\n",
    "\n",
    "# 定义月份和特征\n",
    "months = ['01','02','03','04','05','06','07','08', '09', '10']\n",
    "features = ['rain', 'raintime', 'solarpower', 'suntime', 'temp', 'uv']\n",
    "\n",
    "# 初始化 cwb_data_dict，四层嵌套：特征 -> 月份 -> 天数 -> 时间索引\n",
    "# 时间索引初始为小时（0-23），插值后为分钟（0-1439）\n",
    "cwb_data_dict = defaultdict(lambda: defaultdict(lambda: defaultdict(lambda: defaultdict(float))))\n",
    "\n",
    "# 读取气象数据\n",
    "for month in months:\n",
    "    for feature in features:\n",
    "        csv_path = f'../cwbdata/{month}/{feature}-{month}.csv'\n",
    "        try:\n",
    "            with open(csv_path, 'r', encoding='utf-8') as csv_file:\n",
    "                reader = csv.reader(csv_file)\n",
    "                for row in reader:\n",
    "                    if row[0].isdigit():\n",
    "                        day = int(row[0])\n",
    "                        for hour_index, value in enumerate(row[1:], start=0):\n",
    "                            if hour_index < 24:\n",
    "                                try:\n",
    "                                    cwb_data_dict[feature][int(month)][day][hour_index] = float(value)\n",
    "                                except (ValueError, TypeError):\n",
    "                                    cwb_data_dict[feature][int(month)][day][hour_index] = None  # 标记为无效值\n",
    "        except FileNotFoundError:\n",
    "            print(f\"文件未找到: {csv_path}\")\n",
    "\n",
    "# 初始化插值后的数据字典\n",
    "cwb_data_interp_dict = defaultdict(lambda: defaultdict(lambda: defaultdict(lambda: defaultdict(list))))\n",
    "\n",
    "def interpolate_minute_data(hourly_values):\n",
    "    \"\"\"\n",
    "    对一天的24小时数据进行每分钟插值，返回1440分钟的浮点数列表。\n",
    "    使用三次样条插值，并确保插值后的值不为负。\n",
    "    \"\"\"\n",
    "    # 已知的分钟位置（每小时的第30分钟）\n",
    "    known_minutes = np.array([h * 60 + 30 for h in range(24)])\n",
    "    known_values = np.array(hourly_values)\n",
    "    \n",
    "    # 创建所有分钟的索引\n",
    "    all_minutes = np.arange(1440)\n",
    "    \n",
    "    # 处理缺失值后进行插值\n",
    "    # 使用三次样条插值\n",
    "    try:\n",
    "        # 创建插值函数\n",
    "        spline = interp1d(known_minutes, known_values, kind='cubic', fill_value=\"extrapolate\")\n",
    "        interpolated = spline(all_minutes)\n",
    "    except Exception as e:\n",
    "        print(f\"插值失败: {e}\")\n",
    "        interpolated = np.zeros(1440)\n",
    "    \n",
    "    # 确保插值后的值不为负\n",
    "    interpolated = np.clip(interpolated, a_min=0, a_max=None)\n",
    "    \n",
    "    return interpolated.tolist()\n",
    "\n",
    "# 处理每个特征、每个月、每天的数据\n",
    "for feature in features:\n",
    "    for month in range(1, 11):  # months '01' to '10' correspond to 1 to 10\n",
    "        for day in cwb_data_dict[feature][month]:\n",
    "            # 获取24小时的值\n",
    "            hourly_values = [cwb_data_dict[feature][month][day].get(hour, None) for hour in range(24)]\n",
    "            \n",
    "            # 填充 None 值\n",
    "            for hour in range(24):\n",
    "                if hourly_values[hour] is None:\n",
    "                    # 查找前一个有效值\n",
    "                    prev = None\n",
    "                    for h in range(hour - 1, -1, -1):\n",
    "                        if hourly_values[h] is not None:\n",
    "                            prev = hourly_values[h]\n",
    "                            break\n",
    "                    # 查找后一个有效值\n",
    "                    next_val = None\n",
    "                    for h in range(hour + 1, 24):\n",
    "                        if hourly_values[h] is not None:\n",
    "                            next_val = hourly_values[h]\n",
    "                            break\n",
    "                    # 计算平均值\n",
    "                    if prev is not None and next_val is not None:\n",
    "                        hourly_values[hour] = (prev + next_val) / 2\n",
    "                    elif prev is not None:\n",
    "                        hourly_values[hour] = prev\n",
    "                    elif next_val is not None:\n",
    "                        hourly_values[hour] = next_val\n",
    "                    else:\n",
    "                        hourly_values[hour] = 0.0  # 无有效值，填充0.0\n",
    "            \n",
    "            # 进行插值\n",
    "            interpolated_minutes = interpolate_minute_data(hourly_values)\n",
    "            \n",
    "            # 将1440分钟的数据分成24个小时，每小时60分钟\n",
    "            for hour in range(24):\n",
    "                start_min = hour * 60\n",
    "                end_min = start_min + 60\n",
    "                cwb_data_interp_dict[feature][month][day][hour] = interpolated_minutes[start_min:end_min]\n",
    "\n",
    "# 确保插值后的数据没有 None\n",
    "for feature in features:\n",
    "    for month in range(1, 11):\n",
    "        for day in cwb_data_interp_dict[feature][month]:\n",
    "            for hour in range(24):\n",
    "                minute_data = cwb_data_interp_dict[feature][month][day][hour]\n",
    "                if any([x is None for x in minute_data]):\n",
    "                    # 进一步处理可能的 None（理论上已处理完毕）\n",
    "                    cwb_data_interp_dict[feature][month][day][hour] = [0.0 if x is None else x for x in minute_data]\n",
    "\n",
    "# 打印一个示例\n",
    "print(cwb_data_interp_dict['rain'][1][1][1])  # 1月1日的1点的rain数据，60个浮点数\n"
   ]
  },
  {
   "cell_type": "code",
   "execution_count": 3,
   "metadata": {},
   "outputs": [],
   "source": [
    "class Cwb2LocModel(L.LightningModule):\n",
    "    def __init__(self, input_dim=7, hidden_dim=128, num_layers=2, output_dim=1, learning_rate=1e-3, delta=1.0):\n",
    "        super(Cwb2LocModel, self).__init__()\n",
    "        self.save_hyperparameters()\n",
    "\n",
    "        self.hidden_dim = hidden_dim\n",
    "        self.num_layers = num_layers\n",
    "        self.delta = delta  # 動態設置 delta\n",
    "\n",
    "        # 定義 LSTM 層\n",
    "        self.lstm = nn.LSTM(input_dim, hidden_dim, num_layers, batch_first=True, dropout=0.15, bidirectional=True)\n",
    "\n",
    "        # 定義全連接層\n",
    "        self.fc1 = nn.Linear(hidden_dim * 2, hidden_dim // 4)\n",
    "        self.fc2 = nn.Linear(hidden_dim // 4, input_dim)\n",
    "        self.fc3 = nn.Linear(input_dim, 1)\n",
    "\n",
    "        # 定義損失函數（Huber Loss）\n",
    "        # self.criterion = nn.HuberLoss(delta=self.delta)\n",
    "        # self.criterion = nn.MSELoss()\n",
    "        self.criterion = nn.L1Loss()\n",
    "        # self.criterion = log_cosh_loss\n",
    "\n",
    "    def log_cosh_loss(y_pred, y_true):\n",
    "        loss = torch.mean(torch.log(torch.cosh(y_pred - y_true)))\n",
    "        return loss\n",
    "\n",
    "    def forward(self, x):\n",
    "        # 初始化隱藏狀態和細胞狀態\n",
    "        h0 = torch.zeros(self.num_layers * 2, x.size(0), self.hidden_dim).to(self.device)\n",
    "        c0 = torch.zeros(self.num_layers * 2, x.size(0), self.hidden_dim).to(self.device)\n",
    "        residual = x\n",
    "        \n",
    "        # 前向傳播 LSTM\n",
    "        out, _ = self.lstm(x, (h0, c0))\n",
    "\n",
    "        # 通過全連接層得到最終輸出\n",
    "        out = self.fc1(out)\n",
    "        # out = F.relu(out)\n",
    "        out = self.fc2(out)\n",
    "        out += residual\n",
    "        out = self.fc3(out)\n",
    "        \n",
    "        return out\n",
    "\n",
    "    def training_step(self, batch, batch_idx):\n",
    "        x, y = batch\n",
    "        y_hat = self.forward(x)\n",
    "        loss = self.criterion(y_hat, y)  # 使用 Huber Loss\n",
    "        self.log('train_loss', loss, on_step=True, on_epoch=True, prog_bar=True, logger=True)\n",
    "        return loss\n",
    "\n",
    "    def validation_step(self, batch, batch_idx):\n",
    "        x, y = batch\n",
    "        y_hat = self.forward(x)\n",
    "        loss = self.criterion(y_hat, y)  # 使用 Huber Loss\n",
    "        self.log('val_loss', loss, on_step=False, on_epoch=True, prog_bar=True, logger=True)\n",
    "        return loss\n",
    "\n",
    "    def configure_optimizers(self):\n",
    "        optimizer = optim.AdamW(\n",
    "            self.parameters(),\n",
    "            lr=self.hparams.learning_rate,  # 初始学习率\n",
    "            weight_decay=1e-2               # 权重衰减\n",
    "        )\n",
    "        \n",
    "        # 定义调度器\n",
    "        scheduler = optim.lr_scheduler.ReduceLROnPlateau(\n",
    "            optimizer,\n",
    "            mode='min',             # 目标是最小化验证损失\n",
    "            factor=0.8,             # 学习率每次调整的倍率\n",
    "            patience=20,            # 验证损失未改善的 epoch 数\n",
    "            threshold=1e-4,         # 改善的阈值\n",
    "            cooldown=5,             # 调整后等待的冷却时间\n",
    "            min_lr=1e-6,            # 学习率的下限\n",
    "            verbose=True            # 打印学习率变化信息\n",
    "        )\n",
    "        \n",
    "        return {\n",
    "            \"optimizer\": optimizer,\n",
    "            \"lr_scheduler\": {\n",
    "                \"scheduler\": scheduler,\n",
    "                \"monitor\": \"val_loss\",  # 监控的指标\n",
    "                \"frequency\": 1          # 每个 epoch 检查一次\n",
    "            }\n",
    "        }\n",
    "\n"
   ]
  },
  {
   "cell_type": "code",
   "execution_count": 4,
   "metadata": {},
   "outputs": [
    {
     "data": {
      "text/plain": [
       "Cwb2LocModel(\n",
       "  (lstm): LSTM(7, 128, num_layers=2, batch_first=True, dropout=0.15, bidirectional=True)\n",
       "  (fc1): Linear(in_features=256, out_features=32, bias=True)\n",
       "  (fc2): Linear(in_features=32, out_features=7, bias=True)\n",
       "  (fc3): Linear(in_features=7, out_features=1, bias=True)\n",
       "  (criterion): L1Loss()\n",
       ")"
      ]
     },
     "execution_count": 4,
     "metadata": {},
     "output_type": "execute_result"
    }
   ],
   "source": [
    "model_path = f'./saved_models_v3/best-checkpoint-K.ckpt'\n",
    "model = Cwb2LocModel.load_from_checkpoint(model_path)\n",
    "device = torch.device('cuda' if torch.cuda.is_available() else 'cpu')\n",
    "model = model.to(device)  # 將模型移動到 GPU（如果可用）\n",
    "model.eval()  # 切換模型到評估模式"
   ]
  },
  {
   "cell_type": "code",
   "execution_count": 5,
   "metadata": {},
   "outputs": [],
   "source": [
    "df = pd.read_csv('./up.csv')\n",
    "pred_date_list = []\n",
    "# pred_start_time = [9, 0]\n",
    "# pred_end_time = [16, 59]\n",
    "for seq_id in df['序號']:\n",
    "    seq_id = str(seq_id)\n",
    "    new = (int(seq_id[4:6]), int(seq_id[6:8]), int(seq_id[-2:]))\n",
    "    if new not in pred_date_list:\n",
    "        pred_date_list.append(new)\n",
    "# for s in pred_date_list:\n",
    "#     print(s)\n"
   ]
  },
  {
   "cell_type": "code",
   "execution_count": 6,
   "metadata": {},
   "outputs": [],
   "source": [
    "max_len = 65\n",
    "start_time = [6, 30]\n",
    "end_time = [17, 19]"
   ]
  },
  {
   "cell_type": "code",
   "execution_count": 7,
   "metadata": {},
   "outputs": [],
   "source": [
    "def extract_features(cwb_data_interp_dict, features, location, month, day, hour, minute):\n",
    "    try:\n",
    "        newx = [cwb_data_interp_dict[feature][month][day][hour][minute] for feature in features]\n",
    "        newx.append(int(location))  # 添加 location 作为特征\n",
    "        # newx.append(int(hour))\n",
    "        # newx.append(int(minute))\n",
    "    except Exception as e:\n",
    "        print(f\"Error at {location}-{month}-{day} {hour}:{minute}: {e}\")\n",
    "        newx = [0.0] * (len(features) + 1)\n",
    "    return newx\n",
    "def collate_date_data(month, day, location, features):\n",
    "    data = []\n",
    "    for hour in range(start_time[0], end_time[0] + 1):\n",
    "        minute_start = start_time[1] if hour == start_time[0] else 0\n",
    "        minute_end = end_time[1]+1 if hour == end_time[0] else 60\n",
    "\n",
    "        for start_minute in range(minute_start, minute_end, 10):  # 每10分钟一组\n",
    "            group_x = []\n",
    "\n",
    "            for minute in range(start_minute, start_minute + 10):\n",
    "                if minute >= minute_end:\n",
    "                    break\n",
    "                # 提取特征数据\n",
    "                newx = extract_features(cwb_data_interp_dict, features, location, month, day, hour, minute)\n",
    "                # 提取目标数据\n",
    "                group_x.append(newx)\n",
    "\n",
    "                # 计算该时间段的平均值\n",
    "            averaged_x = np.mean(group_x, axis=0).tolist()\n",
    "            data.append(averaged_x)\n",
    "    return data"
   ]
  },
  {
   "cell_type": "code",
   "execution_count": 8,
   "metadata": {},
   "outputs": [],
   "source": [
    "pred_date_data = []\n",
    "for month, day, loc in pred_date_list:\n",
    "    # print(month, day, loc)\n",
    "    pred_date_data.append(collate_date_data(month, day, loc, features))\n",
    "for _i, data in enumerate(pred_date_data):\n",
    "    if len(data) != 65:\n",
    "        print(_i)\n",
    "    for _j, features in enumerate(data):\n",
    "        if len(features) != 7:\n",
    "            print(_j)"
   ]
  },
  {
   "cell_type": "code",
   "execution_count": 9,
   "metadata": {},
   "outputs": [
    {
     "name": "stdout",
     "output_type": "stream",
     "text": [
      "[[0.0, 8.673617379884036e-20, 0.015478052584736978, 1.6940658945086008e-22, 16.923125800433947, 6.938893903907229e-19, 1.0], [0.0, 0.0, 0.031109410399882204, 0.0, 16.975148869162926, 0.0, 1.0], [0.0, 0.0, 0.05277921493486255, 0.0, 17.033501647059474, 0.0, 1.0], [0.0, 0.0, 0.08128552490994251, 0.0, 17.105537487389963, 0.0, 1.0], [0.0, 0.0, 0.11742639904538654, 0.0, 17.198609743420786, 0.0, 1.0], [0.0, 0.0, 0.16199989606145912, 0.0, 17.320071768418316, 0.0, 1.0], [0.00430594478335561, 0.004071879309196348, 0.21571210020939965, 9.798546002583937e-06, 17.476684088653563, 0.03854660983298317, 1.0], [0.01517903932110912, 0.014357686306301515, 0.27808932446492884, 3.454120350958409e-05, 17.6676029433828, 0.14835267556295495, 1.0], [0.02536159454044487, 0.023993525028094057, 0.3473418520556185, 5.771247967786761e-05, 17.883502022632193, 0.29240519020398176, 1.0], [0.031060499905936224, 0.029388470862522786, 0.4215425722491394, 7.068082674167334e-05, 18.11416943536074, 0.46535203370353634, 1.0], [0.028482644882156516, 0.026951599197536525, 0.4987643743131616, 6.481469693524022e-05, 18.349393290527445, 0.6618410860090915, 1.0], [0.013834918933679113, 0.01309198542108409, 0.5770801475153557, 3.148254249280714e-05, 18.57896169709132, 0.8765202270681198, 1.0], [0.0, 0.0, 0.654457921577664, 0.0, 18.792731594951782, 1.1037034041129123, 1.0], [0.0, 0.0, 0.7275206759996616, 0.0, 18.981442829528078, 1.3334211558439821, 1.0], [0.0, 0.0, 0.7913909925834038, 0.0, 19.136820123522856, 1.5509258972964624, 1.0], [0.0, 0.0, 0.8410348110935001, 0.0, 19.25069102116706, 1.7409712057457694, 1.0], [0.0, 0.0, 0.8714180712945593, 0.0, 19.31488306669163, 1.8883106584673204, 1.0], [0.0, 0.0, 0.8775067129511914, 0.0, 19.321223804327506, 1.9776978327365318, 1.0], [0.060911568161962734, 0.05760357984622684, 0.8549187134799434, 0.0001364761267071185, 19.262608281539293, 1.995702273715367, 1.0], [0.22719219341976857, 0.2142842907187641, 0.8076358419067944, 0.00048109687033249057, 19.145624581097465, 1.952187238098153, 1.0], [0.4241326308209484, 0.39811271714824903, 0.7489696405737283, 0.0008038311097267202, 18.99213530735044, 1.8830000169064651, 1.0], [0.626679441801977, 0.5840887811543551, 0.6932056833768598, 0.0009844568890268943, 18.825597729971015, 1.8267006433133859, 1.0], [0.8097791877993294, 0.7472124047567569, 0.6546295442123033, 0.0009027522523700999, 18.669469118631955, 1.8218491504919974, 1.0], [0.9483784302494808, 0.8624835099751277, 0.6475267969761738, 0.00043849524389342353, 18.547206743006058, 1.907005571615382, 1.0], [1.0188299805884788, 0.9064186079039483, 0.6851422245025605, 4.336808689942018e-20, 18.48121027889103, 2.117550001025619, 1.0], [1.0155248446913299, 0.8749877411034322, 0.7673702156324188, 0.0, 18.48031347571168, 2.4480729473189613, 1.0], [0.9529755562047029, 0.7858612822288678, 0.8792128525290892, 0.0, 18.538217350779068, 2.8476643128554544, 1.0], [0.84779534321907, 0.6589751258867985, 1.0041174553990597, 0.0, 18.64704305894889, 3.2606637210006872, 1.0], [0.7165974338249052, 0.5142651666837681, 1.1255313444488182, 0.0, 18.798911755076837, 3.631410795120245, 1.0], [0.5759950561126809, 0.37166729922631997, 1.2269018398848532, 0.0, 18.985944594018623, 3.904245158579716, 1.0], [0.4420497594841226, 0.2502844885379792, 1.292553013509814, 0.001900867227897074, 19.20033185289658, 4.026910222182153, 1.0], [0.32374662225935513, 0.15853557820084013, 1.3180551705635293, 0.00670081498114528, 19.435150451240993, 3.990810324477853, 1.0], [0.22217694991579542, 0.09292132060294638, 1.3115237409765808, 0.01119592305649621, 19.684466354348103, 3.8360533798198624, 1.0], [0.13760793532174218, 0.04869821529845018, 1.2823838700269008, 0.013711715619634843, 19.94244878423343, 3.607831972683863, 1.0], [0.0703067713454942, 0.021122761841503673, 1.2400607029924222, 0.01257371683624615, 20.20326696291253, 3.351338687545536, 1.0], [0.020540650855350364, 0.005451459786259108, 1.1939793851510787, 0.006107450872015117, 20.461090112400917, 3.111766108880562, 1.0], [0.0, 4.336808689942018e-20, 1.1533394714581826, 0.0, 20.71030605952264, 2.9323091102457632, 1.0], [0.0, 0.0, 1.1244468335949438, 0.0, 20.94810671006507, 2.830537606621476, 1.0], [0.0, 0.0, 1.1103794520831056, 0.0, 21.174811907754446, 2.7954369826799077, 1.0], [0.0, 0.0, 1.1138783144933369, 0.0, 21.391068054117376, 2.813008388263858, 1.0], [0.0, 0.0, 1.137684408396306, 0.0, 21.597521550680455, 2.869252973216125, 1.0], [0.0, 0.0, 1.1845387213626828, 0.0, 21.79481879897029, 2.9501718873795113, 1.0], [0.0030975646157550977, 0.0007855096854822235, 1.2565234756574546, 0.02685066506385194, 21.983225159012836, 3.0416658368347886, 1.0], [0.007401721914908677, 0.0018769985374427708, 1.3472708052418791, 0.09964049805088662, 22.15811831035057, 3.12834711940661, 1.0], [0.008370130963151447, 0.0021225768485566717, 1.4409868071724774, 0.18429557316270173, 22.309423746115588, 3.193390819090135, 1.0], [0.0070191527024139905, 0.0017799830239476223, 1.5208934969997512, 0.2686045617858609, 22.42649774929706, 3.219821974260706, 1.0], [0.004365148074626882, 0.0011069554687393134, 1.5702128902742032, 0.3403561353069278, 22.498696602884156, 3.190665623293664, 1.0], [0.0014244780217207034, 0.0003612325880554405, 1.5721670025463375, 0.38733896511246635, 22.515376589866058, 3.0889468045643524, 1.0], [0.0, 9.486769009248163e-21, 1.5112541259119987, 0.39825397281752956, 22.46701205442599, 2.89915254241508, 1.0], [0.0, 0.0, 1.388343556548649, 0.37350366012853553, 22.35841889112523, 2.624522989826157, 1.0], [0.0, 0.0, 1.2225663747825402, 0.32654359066325184, 22.210410931857275, 2.289217333552145, 1.0], [0.0, 0.0, 1.0349601975076592, 0.27219207220793035, 22.045472198694387, 1.9195787146933196, 1.0], [0.0, 0.0, 0.846562641617991, 0.22526741254882268, 21.886086713708828, 1.5419502743499582, 1.0], [0.0, 0.0, 0.6784113240075225, 0.20058791947218083, 21.754738498972866, 1.1826751536223368, 1.0], [0.00022239513644866648, 5.639705877192266e-05, 0.5504162706945502, 0.21191469366602994, 21.672351623283188, 0.8670364935048923, 1.0], [0.000531419734551424, 0.00013476243446975747, 0.4680237185635243, 0.2594478706942306, 21.639840384407744, 0.6067206435109856, 1.0], [0.0006009483831396191, 0.00015239416573590366, 0.42054561036402777, 0.3282603882583649, 21.635798267196037, 0.3982467911457315, 1.0], [0.0005039525120536646, 0.00012779703681653506, 0.39560946296961286, 0.40184589938241766, 21.63648845592538, 0.23655066696601607, 1.0], [0.0003134035511339726, 7.947583195782561e-05, 0.3808427932538322, 0.4636980570903737, 21.6181741348731, 0.11656800152872504, 1.0], [0.00010227293022095604, 2.5935335405949178e-05, 0.36387311809023837, 0.4973105144062176, 21.557118488316526, 0.033234525390744216, 1.0], [1.6940658945086007e-21, 0.0, 0.33297454130979987, 0.48724350251835064, 21.431050202441238, 4.336808689942018e-19, 1.0], [0.0, 0.0, 0.28471504141947535, 0.43173842190935713, 21.23649619161413, 0.0, 1.0], [0.0, 0.0, 0.2249143782057928, 0.34429795815514036, 20.990952712321526, 0.0, 1.0], [0.0, 0.0, 0.1603582006138893, 0.24001808026239863, 20.714105227604087, 0.0, 1.0], [0.0, 0.0, 0.09783215758890196, 0.13399475723783036, 20.42563920050247, 0.0, 1.0]]\n"
     ]
    }
   ],
   "source": [
    "print(pred_date_data[0])"
   ]
  },
  {
   "cell_type": "code",
   "execution_count": 10,
   "metadata": {},
   "outputs": [],
   "source": [
    "# 加載標準化器\n",
    "with open(f'./scalar_v3/x_scaler-K.pkl', 'rb') as f:\n",
    "    x_scaler = pickle.load(f)\n",
    "with open(f'./scalar_v3/y_scaler-K.pkl', 'rb') as f:\n",
    "    y_scaler = pickle.load(f)"
   ]
  },
  {
   "cell_type": "code",
   "execution_count": 11,
   "metadata": {},
   "outputs": [],
   "source": [
    "def get_single_day_output(x, x_scaler, y_scaler, device):\n",
    "    \"\"\"\n",
    "    输入一天的数据特征，进行标准化后传入模型进行预测，并进行逆标准化，返回预测结果。\n",
    "    \"\"\"\n",
    "    # 转为 NumPy 数组并标准化\n",
    "    x = np.array(x, dtype=np.float32)\n",
    "    x = x_scaler.transform(x.reshape(-1, x.shape[-1])).reshape(x.shape)\n",
    "\n",
    "    # 转为 PyTorch 张量，移动到指定设备\n",
    "    x_tensor = torch.tensor(x, dtype=torch.float32).to(device).unsqueeze(0)  # [batch=1, seq_len, features]\n",
    "\n",
    "    # 确保模型处于评估模式\n",
    "    with torch.no_grad():\n",
    "        # 模型预测\n",
    "        y_pred = model(x_tensor)  # [batch=1, seq_len, 1]\n",
    "        y_pred = y_pred.squeeze(0).cpu().numpy()  # [seq_len, 1]\n",
    "\n",
    "    # 逆标准化\n",
    "    y_pred = y_scaler.inverse_transform(y_pred)\n",
    "\n",
    "    return y_pred.flatten().tolist()[15:63]\n"
   ]
  },
  {
   "cell_type": "code",
   "execution_count": 12,
   "metadata": {},
   "outputs": [
    {
     "data": {
      "text/plain": [
       "[211.02493286132812,\n",
       " 218.13134765625,\n",
       " 241.40184020996094,\n",
       " 288.2320251464844,\n",
       " 341.4934997558594,\n",
       " 390.2449645996094,\n",
       " 443.22613525390625,\n",
       " 445.9549865722656,\n",
       " 706.7643432617188,\n",
       " 1390.35693359375,\n",
       " 1554.40087890625,\n",
       " 1288.4617919921875,\n",
       " 1290.257080078125,\n",
       " 1478.0499267578125,\n",
       " 1523.3363037109375,\n",
       " 1424.7462158203125,\n",
       " 1375.818603515625,\n",
       " 1544.378173828125,\n",
       " 1698.21923828125,\n",
       " 1407.446044921875,\n",
       " 971.3579711914062,\n",
       " 688.8563232421875,\n",
       " 786.385498046875,\n",
       " 1207.2633056640625,\n",
       " 1340.6878662109375,\n",
       " 1048.2659912109375,\n",
       " 787.2685546875,\n",
       " 667.917724609375,\n",
       " 611.1909790039062,\n",
       " 645.3889770507812,\n",
       " 760.9437255859375,\n",
       " 885.7608032226562,\n",
       " 837.2366943359375,\n",
       " 734.7747802734375,\n",
       " 596.3702392578125,\n",
       " 283.6555480957031,\n",
       " 136.95188903808594,\n",
       " 110.54925537109375,\n",
       " 98.02874755859375,\n",
       " 80.2694091796875,\n",
       " 64.62254333496094,\n",
       " 53.34751892089844,\n",
       " 44.79881286621094,\n",
       " 36.84880065917969,\n",
       " 27.951492309570312,\n",
       " 18.932540893554688,\n",
       " 11.508499145507812,\n",
       " 6.728195667266846]"
      ]
     },
     "execution_count": 12,
     "metadata": {},
     "output_type": "execute_result"
    }
   ],
   "source": [
    "get_single_day_output(pred_date_data[1], x_scaler, y_scaler, device)"
   ]
  },
  {
   "cell_type": "code",
   "execution_count": 13,
   "metadata": {},
   "outputs": [],
   "source": [
    "# 存储预测结果\n",
    "predictions = []\n",
    "\n",
    "# 遍历所有需要预测的数据\n",
    "for i, x in enumerate(pred_date_data):\n",
    "    try:\n",
    "        # 获取单天预测结果（返回 list）\n",
    "        y_pred = get_single_day_output(x, x_scaler, y_scaler, device)\n",
    "        y_pred = [max(0, val) for val in y_pred]\n",
    "        for y in y_pred:\n",
    "            predictions.append(y)\n",
    "    except Exception as e:\n",
    "        print(f\"Error in prediction for index {i}: {e}\")\n",
    "        predictions.append([0.0] * max_len)  # 用全零填补\n"
   ]
  },
  {
   "cell_type": "code",
   "execution_count": 14,
   "metadata": {},
   "outputs": [
    {
     "name": "stdout",
     "output_type": "stream",
     "text": [
      "220.3501739501953\n"
     ]
    }
   ],
   "source": [
    "print((predictions[0]))"
   ]
  },
  {
   "cell_type": "code",
   "execution_count": null,
   "metadata": {},
   "outputs": [],
   "source": []
  },
  {
   "cell_type": "code",
   "execution_count": 15,
   "metadata": {},
   "outputs": [
    {
     "name": "stdout",
     "output_type": "stream",
     "text": [
      "提交文件已生成: ./submission.csv\n"
     ]
    }
   ],
   "source": [
    "# 平均每段时间的预测值作为答案\n",
    "submission_data = []\n",
    "for seq_id, y in zip(df['序號'], predictions):\n",
    "    # 获取对应时间段的平均值\n",
    "    # seq_id = str(seq_id)\n",
    "    # time_index = int(seq_id[8:10])  # 提取时间索引\n",
    "    # pred_value = np.mean(y_pred[time_index])  # 平均值\n",
    "    submission_data.append([seq_id, y])\n",
    "\n",
    "# 转为 DataFrame\n",
    "submission_df = pd.DataFrame(submission_data, columns=['序號', '答案'])\n",
    "\n",
    "# 保存为 CSV 文件\n",
    "submission_df.to_csv('./upC-K.csv', index=False)\n",
    "print(\"提交文件已生成: ./submission.csv\")\n"
   ]
  }
 ],
 "metadata": {
  "kernelspec": {
   "display_name": "wsd",
   "language": "python",
   "name": "python3"
  },
  "language_info": {
   "codemirror_mode": {
    "name": "ipython",
    "version": 3
   },
   "file_extension": ".py",
   "mimetype": "text/x-python",
   "name": "python",
   "nbconvert_exporter": "python",
   "pygments_lexer": "ipython3",
   "version": "3.9.19"
  }
 },
 "nbformat": 4,
 "nbformat_minor": 2
}
