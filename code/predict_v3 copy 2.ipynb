{
 "cells": [
  {
   "cell_type": "code",
   "execution_count": 1,
   "metadata": {},
   "outputs": [
    {
     "name": "stderr",
     "output_type": "stream",
     "text": [
      "/home/davidteng/anaconda3/envs/wsd/lib/python3.9/site-packages/tqdm/auto.py:21: TqdmWarning: IProgress not found. Please update jupyter and ipywidgets. See https://ipywidgets.readthedocs.io/en/stable/user_install.html\n",
      "  from .autonotebook import tqdm as notebook_tqdm\n"
     ]
    }
   ],
   "source": [
    "import json, torch\n",
    "import lightning  as L\n",
    "from torch.utils.data import Dataset, DataLoader\n",
    "from transformers import AutoTokenizer\n",
    "from torch.nn import functional as F\n",
    "import csv\n",
    "from collections import defaultdict\n",
    "import torch.nn as nn\n",
    "import torch.optim as optim\n",
    "from sklearn.preprocessing import StandardScaler\n",
    "import numpy as np\n",
    "import pickle\n",
    "import pandas as pd\n",
    "import pprint"
   ]
  },
  {
   "cell_type": "markdown",
   "metadata": {},
   "source": [
    "#### load cwb data"
   ]
  },
  {
   "cell_type": "code",
   "execution_count": 2,
   "metadata": {},
   "outputs": [
    {
     "name": "stdout",
     "output_type": "stream",
     "text": [
      "[0.0, 0.0, 0.0, 0.0, 0.0, 0.0, 0.0, 0.0, 0.0, 0.0, 0.0, 0.0, 0.0, 0.0, 0.0, 0.0, 0.0, 0.0, 0.0, 0.0, 0.0, 0.0, 0.0, 0.0, 0.0, 0.0, 0.0, 0.0, 0.0, 0.0, 0.0, 0.0, 0.0, 0.0, 0.0, 0.0, 0.0, 0.0, 0.0, 0.0, 0.0, 0.0, 0.0, 0.0, 0.0, 0.0, 0.0, 0.0, 0.0, 0.0, 0.0, 0.0, 0.0, 0.0, 0.0, 0.0, 0.0, 0.0, 0.0, 0.0]\n"
     ]
    }
   ],
   "source": [
    "from collections import defaultdict\n",
    "import numpy as np\n",
    "import csv\n",
    "from scipy.interpolate import interp1d\n",
    "\n",
    "# 定义月份和特征\n",
    "months = ['01','02','03','04','05','06','07','08', '09', '10']\n",
    "features = ['rain', 'raintime', 'solarpower', 'suntime', 'temp', 'uv']\n",
    "\n",
    "# 初始化 cwb_data_dict，四层嵌套：特征 -> 月份 -> 天数 -> 时间索引\n",
    "# 时间索引初始为小时（0-23），插值后为分钟（0-1439）\n",
    "cwb_data_dict = defaultdict(lambda: defaultdict(lambda: defaultdict(lambda: defaultdict(float))))\n",
    "\n",
    "# 读取气象数据\n",
    "for month in months:\n",
    "    for feature in features:\n",
    "        csv_path = f'../cwbdata/{month}/{feature}-{month}.csv'\n",
    "        try:\n",
    "            with open(csv_path, 'r', encoding='utf-8') as csv_file:\n",
    "                reader = csv.reader(csv_file)\n",
    "                for row in reader:\n",
    "                    if row[0].isdigit():\n",
    "                        day = int(row[0])\n",
    "                        for hour_index, value in enumerate(row[1:], start=0):\n",
    "                            if hour_index < 24:\n",
    "                                try:\n",
    "                                    cwb_data_dict[feature][int(month)][day][hour_index] = float(value)\n",
    "                                except (ValueError, TypeError):\n",
    "                                    cwb_data_dict[feature][int(month)][day][hour_index] = None  # 标记为无效值\n",
    "        except FileNotFoundError:\n",
    "            print(f\"文件未找到: {csv_path}\")\n",
    "\n",
    "# 初始化插值后的数据字典\n",
    "cwb_data_interp_dict = defaultdict(lambda: defaultdict(lambda: defaultdict(lambda: defaultdict(list))))\n",
    "\n",
    "def interpolate_minute_data(hourly_values):\n",
    "    \"\"\"\n",
    "    对一天的24小时数据进行每分钟插值，返回1440分钟的浮点数列表。\n",
    "    使用三次样条插值，并确保插值后的值不为负。\n",
    "    \"\"\"\n",
    "    # 已知的分钟位置（每小时的第30分钟）\n",
    "    known_minutes = np.array([h * 60 + 30 for h in range(24)])\n",
    "    known_values = np.array(hourly_values)\n",
    "    \n",
    "    # 创建所有分钟的索引\n",
    "    all_minutes = np.arange(1440)\n",
    "    \n",
    "    # 处理缺失值后进行插值\n",
    "    # 使用三次样条插值\n",
    "    try:\n",
    "        # 创建插值函数\n",
    "        spline = interp1d(known_minutes, known_values, kind='cubic', fill_value=\"extrapolate\")\n",
    "        interpolated = spline(all_minutes)\n",
    "    except Exception as e:\n",
    "        print(f\"插值失败: {e}\")\n",
    "        interpolated = np.zeros(1440)\n",
    "    \n",
    "    # 确保插值后的值不为负\n",
    "    interpolated = np.clip(interpolated, a_min=0, a_max=None)\n",
    "    \n",
    "    return interpolated.tolist()\n",
    "\n",
    "# 处理每个特征、每个月、每天的数据\n",
    "for feature in features:\n",
    "    for month in range(1, 11):  # months '01' to '10' correspond to 1 to 10\n",
    "        for day in cwb_data_dict[feature][month]:\n",
    "            # 获取24小时的值\n",
    "            hourly_values = [cwb_data_dict[feature][month][day].get(hour, None) for hour in range(24)]\n",
    "            \n",
    "            # 填充 None 值\n",
    "            for hour in range(24):\n",
    "                if hourly_values[hour] is None:\n",
    "                    # 查找前一个有效值\n",
    "                    prev = None\n",
    "                    for h in range(hour - 1, -1, -1):\n",
    "                        if hourly_values[h] is not None:\n",
    "                            prev = hourly_values[h]\n",
    "                            break\n",
    "                    # 查找后一个有效值\n",
    "                    next_val = None\n",
    "                    for h in range(hour + 1, 24):\n",
    "                        if hourly_values[h] is not None:\n",
    "                            next_val = hourly_values[h]\n",
    "                            break\n",
    "                    # 计算平均值\n",
    "                    if prev is not None and next_val is not None:\n",
    "                        hourly_values[hour] = (prev + next_val) / 2\n",
    "                    elif prev is not None:\n",
    "                        hourly_values[hour] = prev\n",
    "                    elif next_val is not None:\n",
    "                        hourly_values[hour] = next_val\n",
    "                    else:\n",
    "                        hourly_values[hour] = 0.0  # 无有效值，填充0.0\n",
    "            \n",
    "            # 进行插值\n",
    "            interpolated_minutes = interpolate_minute_data(hourly_values)\n",
    "            \n",
    "            # 将1440分钟的数据分成24个小时，每小时60分钟\n",
    "            for hour in range(24):\n",
    "                start_min = hour * 60\n",
    "                end_min = start_min + 60\n",
    "                cwb_data_interp_dict[feature][month][day][hour] = [cwb_data_dict[feature][month][day][hour]] * 60\n",
    "                # cwb_data_interp_dict[feature][month][day][hour] = interpolated_minutes[start_min:end_min]\n",
    "\n",
    "# 确保插值后的数据没有 None\n",
    "for feature in features:\n",
    "    for month in range(1, 11):\n",
    "        for day in cwb_data_interp_dict[feature][month]:\n",
    "            for hour in range(24):\n",
    "                minute_data = cwb_data_interp_dict[feature][month][day][hour]\n",
    "                if any([x is None for x in minute_data]):\n",
    "                    # 进一步处理可能的 None（理论上已处理完毕）\n",
    "                    cwb_data_interp_dict[feature][month][day][hour] = [0.0 if x is None else x for x in minute_data]\n",
    "\n",
    "# 打印一个示例\n",
    "print(cwb_data_interp_dict['rain'][1][1][1])  # 1月1日的1点的rain数据，60个浮点数\n"
   ]
  },
  {
   "cell_type": "code",
   "execution_count": 3,
   "metadata": {},
   "outputs": [],
   "source": [
    "class Cwb2LocModel(L.LightningModule):\n",
    "    def __init__(self, input_dim=7, hidden_dim=128, num_layers=2, output_dim=1, learning_rate=1e-3, delta=1.0):\n",
    "        super(Cwb2LocModel, self).__init__()\n",
    "        self.save_hyperparameters()\n",
    "\n",
    "        self.hidden_dim = hidden_dim\n",
    "        self.num_layers = num_layers\n",
    "        self.delta = delta  # 動態設置 delta\n",
    "\n",
    "        # 定義 LSTM 層\n",
    "        self.lstm = nn.LSTM(input_dim, hidden_dim, num_layers, batch_first=True, dropout=0.15, bidirectional=True)\n",
    "\n",
    "        # 定義全連接層\n",
    "        self.fc1 = nn.Linear(hidden_dim * 2, hidden_dim // 4)\n",
    "        self.fc2 = nn.Linear(hidden_dim // 4, input_dim)\n",
    "        self.fc3 = nn.Linear(input_dim, 1)\n",
    "\n",
    "        # 定義損失函數（Huber Loss）\n",
    "        # self.criterion = nn.HuberLoss(delta=self.delta)\n",
    "        # self.criterion = nn.MSELoss()\n",
    "        self.criterion = nn.L1Loss()\n",
    "        # self.criterion = log_cosh_loss\n",
    "\n",
    "    def log_cosh_loss(y_pred, y_true):\n",
    "        loss = torch.mean(torch.log(torch.cosh(y_pred - y_true)))\n",
    "        return loss\n",
    "\n",
    "    def forward(self, x):\n",
    "        # 初始化隱藏狀態和細胞狀態\n",
    "        h0 = torch.zeros(self.num_layers * 2, x.size(0), self.hidden_dim).to(self.device)\n",
    "        c0 = torch.zeros(self.num_layers * 2, x.size(0), self.hidden_dim).to(self.device)\n",
    "        residual = x\n",
    "        \n",
    "        # 前向傳播 LSTM\n",
    "        out, _ = self.lstm(x, (h0, c0))\n",
    "\n",
    "        # 通過全連接層得到最終輸出\n",
    "        out = self.fc1(out)\n",
    "        # out = F.relu(out)\n",
    "        out = self.fc2(out)\n",
    "        out += residual\n",
    "        out = self.fc3(out)\n",
    "        \n",
    "        return out\n",
    "\n",
    "    def training_step(self, batch, batch_idx):\n",
    "        x, y = batch\n",
    "        y_hat = self.forward(x)\n",
    "        loss = self.criterion(y_hat, y)  # 使用 Huber Loss\n",
    "        self.log('train_loss', loss, on_step=True, on_epoch=True, prog_bar=True, logger=True)\n",
    "        return loss\n",
    "\n",
    "    def validation_step(self, batch, batch_idx):\n",
    "        x, y = batch\n",
    "        y_hat = self.forward(x)\n",
    "        loss = self.criterion(y_hat, y)  # 使用 Huber Loss\n",
    "        self.log('val_loss', loss, on_step=False, on_epoch=True, prog_bar=True, logger=True)\n",
    "        return loss\n",
    "\n",
    "    def configure_optimizers(self):\n",
    "        optimizer = optim.AdamW(\n",
    "            self.parameters(),\n",
    "            lr=self.hparams.learning_rate,  # 初始学习率\n",
    "            weight_decay=1e-2               # 权重衰减\n",
    "        )\n",
    "        \n",
    "        # 定义调度器\n",
    "        scheduler = optim.lr_scheduler.ReduceLROnPlateau(\n",
    "            optimizer,\n",
    "            mode='min',             # 目标是最小化验证损失\n",
    "            factor=0.8,             # 学习率每次调整的倍率\n",
    "            patience=10,            # 验证损失未改善的 epoch 数\n",
    "            threshold=1e-4,         # 改善的阈值\n",
    "            cooldown=5,             # 调整后等待的冷却时间\n",
    "            min_lr=1e-6,            # 学习率的下限\n",
    "            verbose=True            # 打印学习率变化信息\n",
    "        )\n",
    "        \n",
    "        return {\n",
    "            \"optimizer\": optimizer,\n",
    "            \"lr_scheduler\": {\n",
    "                \"scheduler\": scheduler,\n",
    "                \"monitor\": \"val_loss\",  # 监控的指标\n",
    "                \"frequency\": 1          # 每个 epoch 检查一次\n",
    "            }\n",
    "        }\n",
    "\n"
   ]
  },
  {
   "cell_type": "code",
   "execution_count": 4,
   "metadata": {},
   "outputs": [
    {
     "data": {
      "text/plain": [
       "Cwb2LocModel(\n",
       "  (lstm): LSTM(23, 128, num_layers=2, batch_first=True, dropout=0.15, bidirectional=True)\n",
       "  (fc1): Linear(in_features=256, out_features=32, bias=True)\n",
       "  (fc2): Linear(in_features=32, out_features=23, bias=True)\n",
       "  (fc3): Linear(in_features=23, out_features=1, bias=True)\n",
       "  (criterion): L1Loss()\n",
       ")"
      ]
     },
     "execution_count": 4,
     "metadata": {},
     "output_type": "execute_result"
    }
   ],
   "source": [
    "model_path = f'./saved_models_v3_3/best-checkpoint-AA3.ckpt'\n",
    "model = Cwb2LocModel.load_from_checkpoint(model_path)\n",
    "device = torch.device('cuda' if torch.cuda.is_available() else 'cpu')\n",
    "model = model.to(device)  # 將模型移動到 GPU（如果可用）\n",
    "model.eval()  # 切換模型到評估模式"
   ]
  },
  {
   "cell_type": "code",
   "execution_count": 5,
   "metadata": {},
   "outputs": [],
   "source": [
    "df = pd.read_csv('./up.csv')\n",
    "pred_date_list = []\n",
    "# pred_start_time = [9, 0]\n",
    "# pred_end_time = [16, 59]\n",
    "for seq_id in df['序號']:\n",
    "    seq_id = str(seq_id)\n",
    "    new = (int(seq_id[4:6]), int(seq_id[6:8]), int(seq_id[-2:]))\n",
    "    if new not in pred_date_list:\n",
    "        pred_date_list.append(new)\n",
    "# for s in pred_date_list:\n",
    "#     print(s)\n"
   ]
  },
  {
   "cell_type": "code",
   "execution_count": 6,
   "metadata": {},
   "outputs": [],
   "source": [
    "max_len = 65\n",
    "start_time = [6, 30]\n",
    "end_time = [17, 19]"
   ]
  },
  {
   "cell_type": "code",
   "execution_count": 7,
   "metadata": {},
   "outputs": [],
   "source": [
    "NUM_LOCS = 17"
   ]
  },
  {
   "cell_type": "code",
   "execution_count": 8,
   "metadata": {},
   "outputs": [],
   "source": [
    "def one_hot_encode(loc, num_classes):\n",
    "    one_hot = [0] * num_classes\n",
    "    one_hot[int(loc) - 1] = 1  # 位置编号从1开始\n",
    "    return one_hot\n",
    "\n",
    "def extract_features(cwb_data_interp_dict, features, location, month, day, hour, minute):\n",
    "    try:\n",
    "        newx = [cwb_data_interp_dict[feature][month][day][hour][minute] for feature in features]\n",
    "        # 添加位置的 One-Hot 编码\n",
    "        loc_one_hot = one_hot_encode(location, NUM_LOCS)\n",
    "        newx.extend(loc_one_hot)\n",
    "    except Exception as e:\n",
    "        print(f\"Error at {location}-{month}-{day} {hour}:{minute}: {e}\")\n",
    "        # 如果出错，返回长度为 len(features) + NUM_LOCS 的零向量\n",
    "        newx = [0.0] * (len(features) + NUM_LOCS)\n",
    "    return newx\n",
    "\n",
    "def collate_date_data(month, day, location, features):\n",
    "    data = []\n",
    "    for hour in range(start_time[0], end_time[0] + 1):\n",
    "        minute_start = start_time[1] if hour == start_time[0] else 0\n",
    "        minute_end = end_time[1]+1 if hour == end_time[0] else 60\n",
    "\n",
    "        for start_minute in range(minute_start, minute_end, 10):  # 每10分钟一组\n",
    "            group_x = []\n",
    "\n",
    "            for minute in range(start_minute, start_minute + 10):\n",
    "                if minute >= minute_end:\n",
    "                    break\n",
    "                # 提取特征数据\n",
    "                newx = extract_features(cwb_data_interp_dict, features, location, month, day, hour, minute)\n",
    "                # 提取目标数据\n",
    "                group_x.append(newx)\n",
    "\n",
    "                # 计算该时间段的平均值\n",
    "            averaged_x = np.mean(group_x, axis=0).tolist()\n",
    "            data.append(averaged_x)\n",
    "    return data"
   ]
  },
  {
   "cell_type": "code",
   "execution_count": 9,
   "metadata": {},
   "outputs": [],
   "source": [
    "pred_date_data = []\n",
    "for month, day, loc in pred_date_list:\n",
    "    # print(month, day, loc)\n",
    "    pred_date_data.append(collate_date_data(month, day, loc, features))\n",
    "for _i, data in enumerate(pred_date_data):\n",
    "    if len(data) != 65:\n",
    "        print(_i)\n",
    "    for _j, feature in enumerate(data):\n",
    "        if len(feature) != 23:\n",
    "            print(_j)"
   ]
  },
  {
   "cell_type": "code",
   "execution_count": 10,
   "metadata": {},
   "outputs": [
    {
     "name": "stdout",
     "output_type": "stream",
     "text": [
      "[[0.0, 0.0, 0.009999999999999998, 0.0, 16.900000000000002, 0.0, 1.0, 0.0, 0.0, 0.0, 0.0, 0.0, 0.0, 0.0, 0.0, 0.0, 0.0, 0.0, 0.0, 0.0, 0.0, 0.0, 0.0], [0.0, 0.0, 0.009999999999999998, 0.0, 16.900000000000002, 0.0, 1.0, 0.0, 0.0, 0.0, 0.0, 0.0, 0.0, 0.0, 0.0, 0.0, 0.0, 0.0, 0.0, 0.0, 0.0, 0.0, 0.0], [0.0, 0.0, 0.009999999999999998, 0.0, 16.900000000000002, 0.0, 1.0, 0.0, 0.0, 0.0, 0.0, 0.0, 0.0, 0.0, 0.0, 0.0, 0.0, 0.0, 0.0, 0.0, 0.0, 0.0, 0.0], [0.0, 0.0, 0.18999999999999997, 0.0, 17.400000000000002, 0.0, 1.0, 0.0, 0.0, 0.0, 0.0, 0.0, 0.0, 0.0, 0.0, 0.0, 0.0, 0.0, 0.0, 0.0, 0.0, 0.0, 0.0], [0.0, 0.0, 0.18999999999999997, 0.0, 17.400000000000002, 0.0, 1.0, 0.0, 0.0, 0.0, 0.0, 0.0, 0.0, 0.0, 0.0, 0.0, 0.0, 0.0, 0.0, 0.0, 0.0, 0.0, 0.0], [0.0, 0.0, 0.18999999999999997, 0.0, 17.400000000000002, 0.0, 1.0, 0.0, 0.0, 0.0, 0.0, 0.0, 0.0, 0.0, 0.0, 0.0, 0.0, 0.0, 0.0, 0.0, 0.0, 0.0, 0.0], [0.0, 0.0, 0.18999999999999997, 0.0, 17.400000000000002, 0.0, 1.0, 0.0, 0.0, 0.0, 0.0, 0.0, 0.0, 0.0, 0.0, 0.0, 0.0, 0.0, 0.0, 0.0, 0.0, 0.0, 0.0], [0.0, 0.0, 0.18999999999999997, 0.0, 17.400000000000002, 0.0, 1.0, 0.0, 0.0, 0.0, 0.0, 0.0, 0.0, 0.0, 0.0, 0.0, 0.0, 0.0, 0.0, 0.0, 0.0, 0.0, 0.0], [0.0, 0.0, 0.18999999999999997, 0.0, 17.400000000000002, 0.0, 1.0, 0.0, 0.0, 0.0, 0.0, 0.0, 0.0, 0.0, 0.0, 0.0, 0.0, 0.0, 0.0, 0.0, 0.0, 0.0, 0.0], [0.0, 0.0, 0.62, 0.0, 18.699999999999996, 1.0, 1.0, 0.0, 0.0, 0.0, 0.0, 0.0, 0.0, 0.0, 0.0, 0.0, 0.0, 0.0, 0.0, 0.0, 0.0, 0.0, 0.0], [0.0, 0.0, 0.62, 0.0, 18.699999999999996, 1.0, 1.0, 0.0, 0.0, 0.0, 0.0, 0.0, 0.0, 0.0, 0.0, 0.0, 0.0, 0.0, 0.0, 0.0, 0.0, 0.0, 0.0], [0.0, 0.0, 0.62, 0.0, 18.699999999999996, 1.0, 1.0, 0.0, 0.0, 0.0, 0.0, 0.0, 0.0, 0.0, 0.0, 0.0, 0.0, 0.0, 0.0, 0.0, 0.0, 0.0, 0.0], [0.0, 0.0, 0.62, 0.0, 18.699999999999996, 1.0, 1.0, 0.0, 0.0, 0.0, 0.0, 0.0, 0.0, 0.0, 0.0, 0.0, 0.0, 0.0, 0.0, 0.0, 0.0, 0.0, 0.0], [0.0, 0.0, 0.62, 0.0, 18.699999999999996, 1.0, 1.0, 0.0, 0.0, 0.0, 0.0, 0.0, 0.0, 0.0, 0.0, 0.0, 0.0, 0.0, 0.0, 0.0, 0.0, 0.0, 0.0], [0.0, 0.0, 0.62, 0.0, 18.699999999999996, 1.0, 1.0, 0.0, 0.0, 0.0, 0.0, 0.0, 0.0, 0.0, 0.0, 0.0, 0.0, 0.0, 0.0, 0.0, 0.0, 0.0, 0.0], [0.0, 0.0, 0.8699999999999999, 0.0, 19.300000000000004, 2.0, 1.0, 0.0, 0.0, 0.0, 0.0, 0.0, 0.0, 0.0, 0.0, 0.0, 0.0, 0.0, 0.0, 0.0, 0.0, 0.0, 0.0], [0.0, 0.0, 0.8699999999999999, 0.0, 19.300000000000004, 2.0, 1.0, 0.0, 0.0, 0.0, 0.0, 0.0, 0.0, 0.0, 0.0, 0.0, 0.0, 0.0, 0.0, 0.0, 0.0, 0.0, 0.0], [0.0, 0.0, 0.8699999999999999, 0.0, 19.300000000000004, 2.0, 1.0, 0.0, 0.0, 0.0, 0.0, 0.0, 0.0, 0.0, 0.0, 0.0, 0.0, 0.0, 0.0, 0.0, 0.0, 0.0, 0.0], [0.0, 0.0, 0.8699999999999999, 0.0, 19.300000000000004, 2.0, 1.0, 0.0, 0.0, 0.0, 0.0, 0.0, 0.0, 0.0, 0.0, 0.0, 0.0, 0.0, 0.0, 0.0, 0.0, 0.0, 0.0], [0.0, 0.0, 0.8699999999999999, 0.0, 19.300000000000004, 2.0, 1.0, 0.0, 0.0, 0.0, 0.0, 0.0, 0.0, 0.0, 0.0, 0.0, 0.0, 0.0, 0.0, 0.0, 0.0, 0.0, 0.0], [0.0, 0.0, 0.8699999999999999, 0.0, 19.300000000000004, 2.0, 1.0, 0.0, 0.0, 0.0, 0.0, 0.0, 0.0, 0.0, 0.0, 0.0, 0.0, 0.0, 0.0, 0.0, 0.0, 0.0, 0.0], [1.0, 0.9000000000000001, 0.66, 0.0, 18.5, 2.0, 1.0, 0.0, 0.0, 0.0, 0.0, 0.0, 0.0, 0.0, 0.0, 0.0, 0.0, 0.0, 0.0, 0.0, 0.0, 0.0, 0.0], [1.0, 0.9000000000000001, 0.66, 0.0, 18.5, 2.0, 1.0, 0.0, 0.0, 0.0, 0.0, 0.0, 0.0, 0.0, 0.0, 0.0, 0.0, 0.0, 0.0, 0.0, 0.0, 0.0, 0.0], [1.0, 0.9000000000000001, 0.66, 0.0, 18.5, 2.0, 1.0, 0.0, 0.0, 0.0, 0.0, 0.0, 0.0, 0.0, 0.0, 0.0, 0.0, 0.0, 0.0, 0.0, 0.0, 0.0, 0.0], [1.0, 0.9000000000000001, 0.66, 0.0, 18.5, 2.0, 1.0, 0.0, 0.0, 0.0, 0.0, 0.0, 0.0, 0.0, 0.0, 0.0, 0.0, 0.0, 0.0, 0.0, 0.0, 0.0, 0.0], [1.0, 0.9000000000000001, 0.66, 0.0, 18.5, 2.0, 1.0, 0.0, 0.0, 0.0, 0.0, 0.0, 0.0, 0.0, 0.0, 0.0, 0.0, 0.0, 0.0, 0.0, 0.0, 0.0, 0.0], [1.0, 0.9000000000000001, 0.66, 0.0, 18.5, 2.0, 1.0, 0.0, 0.0, 0.0, 0.0, 0.0, 0.0, 0.0, 0.0, 0.0, 0.0, 0.0, 0.0, 0.0, 0.0, 0.0, 0.0], [0.5, 0.29999999999999993, 1.2699999999999998, 0.0, 19.099999999999998, 4.0, 1.0, 0.0, 0.0, 0.0, 0.0, 0.0, 0.0, 0.0, 0.0, 0.0, 0.0, 0.0, 0.0, 0.0, 0.0, 0.0, 0.0], [0.5, 0.29999999999999993, 1.2699999999999998, 0.0, 19.099999999999998, 4.0, 1.0, 0.0, 0.0, 0.0, 0.0, 0.0, 0.0, 0.0, 0.0, 0.0, 0.0, 0.0, 0.0, 0.0, 0.0, 0.0, 0.0], [0.5, 0.29999999999999993, 1.2699999999999998, 0.0, 19.099999999999998, 4.0, 1.0, 0.0, 0.0, 0.0, 0.0, 0.0, 0.0, 0.0, 0.0, 0.0, 0.0, 0.0, 0.0, 0.0, 0.0, 0.0, 0.0], [0.5, 0.29999999999999993, 1.2699999999999998, 0.0, 19.099999999999998, 4.0, 1.0, 0.0, 0.0, 0.0, 0.0, 0.0, 0.0, 0.0, 0.0, 0.0, 0.0, 0.0, 0.0, 0.0, 0.0, 0.0, 0.0], [0.5, 0.29999999999999993, 1.2699999999999998, 0.0, 19.099999999999998, 4.0, 1.0, 0.0, 0.0, 0.0, 0.0, 0.0, 0.0, 0.0, 0.0, 0.0, 0.0, 0.0, 0.0, 0.0, 0.0, 0.0, 0.0], [0.5, 0.29999999999999993, 1.2699999999999998, 0.0, 19.099999999999998, 4.0, 1.0, 0.0, 0.0, 0.0, 0.0, 0.0, 0.0, 0.0, 0.0, 0.0, 0.0, 0.0, 0.0, 0.0, 0.0, 0.0, 0.0], [0.0, 0.0, 1.17, 0.0, 20.599999999999998, 3.0, 1.0, 0.0, 0.0, 0.0, 0.0, 0.0, 0.0, 0.0, 0.0, 0.0, 0.0, 0.0, 0.0, 0.0, 0.0, 0.0, 0.0], [0.0, 0.0, 1.17, 0.0, 20.599999999999998, 3.0, 1.0, 0.0, 0.0, 0.0, 0.0, 0.0, 0.0, 0.0, 0.0, 0.0, 0.0, 0.0, 0.0, 0.0, 0.0, 0.0, 0.0], [0.0, 0.0, 1.17, 0.0, 20.599999999999998, 3.0, 1.0, 0.0, 0.0, 0.0, 0.0, 0.0, 0.0, 0.0, 0.0, 0.0, 0.0, 0.0, 0.0, 0.0, 0.0, 0.0, 0.0], [0.0, 0.0, 1.17, 0.0, 20.599999999999998, 3.0, 1.0, 0.0, 0.0, 0.0, 0.0, 0.0, 0.0, 0.0, 0.0, 0.0, 0.0, 0.0, 0.0, 0.0, 0.0, 0.0, 0.0], [0.0, 0.0, 1.17, 0.0, 20.599999999999998, 3.0, 1.0, 0.0, 0.0, 0.0, 0.0, 0.0, 0.0, 0.0, 0.0, 0.0, 0.0, 0.0, 0.0, 0.0, 0.0, 0.0, 0.0], [0.0, 0.0, 1.17, 0.0, 20.599999999999998, 3.0, 1.0, 0.0, 0.0, 0.0, 0.0, 0.0, 0.0, 0.0, 0.0, 0.0, 0.0, 0.0, 0.0, 0.0, 0.0, 0.0, 0.0], [0.0, 0.0, 1.2200000000000002, 0.0, 21.900000000000002, 3.0, 1.0, 0.0, 0.0, 0.0, 0.0, 0.0, 0.0, 0.0, 0.0, 0.0, 0.0, 0.0, 0.0, 0.0, 0.0, 0.0, 0.0], [0.0, 0.0, 1.2200000000000002, 0.0, 21.900000000000002, 3.0, 1.0, 0.0, 0.0, 0.0, 0.0, 0.0, 0.0, 0.0, 0.0, 0.0, 0.0, 0.0, 0.0, 0.0, 0.0, 0.0, 0.0], [0.0, 0.0, 1.2200000000000002, 0.0, 21.900000000000002, 3.0, 1.0, 0.0, 0.0, 0.0, 0.0, 0.0, 0.0, 0.0, 0.0, 0.0, 0.0, 0.0, 0.0, 0.0, 0.0, 0.0, 0.0], [0.0, 0.0, 1.2200000000000002, 0.0, 21.900000000000002, 3.0, 1.0, 0.0, 0.0, 0.0, 0.0, 0.0, 0.0, 0.0, 0.0, 0.0, 0.0, 0.0, 0.0, 0.0, 0.0, 0.0, 0.0], [0.0, 0.0, 1.2200000000000002, 0.0, 21.900000000000002, 3.0, 1.0, 0.0, 0.0, 0.0, 0.0, 0.0, 0.0, 0.0, 0.0, 0.0, 0.0, 0.0, 0.0, 0.0, 0.0, 0.0, 0.0], [0.0, 0.0, 1.2200000000000002, 0.0, 21.900000000000002, 3.0, 1.0, 0.0, 0.0, 0.0, 0.0, 0.0, 0.0, 0.0, 0.0, 0.0, 0.0, 0.0, 0.0, 0.0, 0.0, 0.0, 0.0], [0.0, 0.0, 1.5500000000000003, 0.39999999999999997, 22.5, 3.0, 1.0, 0.0, 0.0, 0.0, 0.0, 0.0, 0.0, 0.0, 0.0, 0.0, 0.0, 0.0, 0.0, 0.0, 0.0, 0.0, 0.0], [0.0, 0.0, 1.5500000000000003, 0.39999999999999997, 22.5, 3.0, 1.0, 0.0, 0.0, 0.0, 0.0, 0.0, 0.0, 0.0, 0.0, 0.0, 0.0, 0.0, 0.0, 0.0, 0.0, 0.0, 0.0], [0.0, 0.0, 1.5500000000000003, 0.39999999999999997, 22.5, 3.0, 1.0, 0.0, 0.0, 0.0, 0.0, 0.0, 0.0, 0.0, 0.0, 0.0, 0.0, 0.0, 0.0, 0.0, 0.0, 0.0, 0.0], [0.0, 0.0, 1.5500000000000003, 0.39999999999999997, 22.5, 3.0, 1.0, 0.0, 0.0, 0.0, 0.0, 0.0, 0.0, 0.0, 0.0, 0.0, 0.0, 0.0, 0.0, 0.0, 0.0, 0.0, 0.0], [0.0, 0.0, 1.5500000000000003, 0.39999999999999997, 22.5, 3.0, 1.0, 0.0, 0.0, 0.0, 0.0, 0.0, 0.0, 0.0, 0.0, 0.0, 0.0, 0.0, 0.0, 0.0, 0.0, 0.0, 0.0], [0.0, 0.0, 1.5500000000000003, 0.39999999999999997, 22.5, 3.0, 1.0, 0.0, 0.0, 0.0, 0.0, 0.0, 0.0, 0.0, 0.0, 0.0, 0.0, 0.0, 0.0, 0.0, 0.0, 0.0, 0.0], [0.0, 0.0, 0.5999999999999999, 0.19999999999999998, 21.699999999999996, 1.0, 1.0, 0.0, 0.0, 0.0, 0.0, 0.0, 0.0, 0.0, 0.0, 0.0, 0.0, 0.0, 0.0, 0.0, 0.0, 0.0, 0.0], [0.0, 0.0, 0.5999999999999999, 0.19999999999999998, 21.699999999999996, 1.0, 1.0, 0.0, 0.0, 0.0, 0.0, 0.0, 0.0, 0.0, 0.0, 0.0, 0.0, 0.0, 0.0, 0.0, 0.0, 0.0, 0.0], [0.0, 0.0, 0.5999999999999999, 0.19999999999999998, 21.699999999999996, 1.0, 1.0, 0.0, 0.0, 0.0, 0.0, 0.0, 0.0, 0.0, 0.0, 0.0, 0.0, 0.0, 0.0, 0.0, 0.0, 0.0, 0.0], [0.0, 0.0, 0.5999999999999999, 0.19999999999999998, 21.699999999999996, 1.0, 1.0, 0.0, 0.0, 0.0, 0.0, 0.0, 0.0, 0.0, 0.0, 0.0, 0.0, 0.0, 0.0, 0.0, 0.0, 0.0, 0.0], [0.0, 0.0, 0.5999999999999999, 0.19999999999999998, 21.699999999999996, 1.0, 1.0, 0.0, 0.0, 0.0, 0.0, 0.0, 0.0, 0.0, 0.0, 0.0, 0.0, 0.0, 0.0, 0.0, 0.0, 0.0, 0.0], [0.0, 0.0, 0.5999999999999999, 0.19999999999999998, 21.699999999999996, 1.0, 1.0, 0.0, 0.0, 0.0, 0.0, 0.0, 0.0, 0.0, 0.0, 0.0, 0.0, 0.0, 0.0, 0.0, 0.0, 0.0, 0.0], [0.0, 0.0, 0.35000000000000003, 0.5, 21.5, 0.0, 1.0, 0.0, 0.0, 0.0, 0.0, 0.0, 0.0, 0.0, 0.0, 0.0, 0.0, 0.0, 0.0, 0.0, 0.0, 0.0, 0.0], [0.0, 0.0, 0.35000000000000003, 0.5, 21.5, 0.0, 1.0, 0.0, 0.0, 0.0, 0.0, 0.0, 0.0, 0.0, 0.0, 0.0, 0.0, 0.0, 0.0, 0.0, 0.0, 0.0, 0.0], [0.0, 0.0, 0.35000000000000003, 0.5, 21.5, 0.0, 1.0, 0.0, 0.0, 0.0, 0.0, 0.0, 0.0, 0.0, 0.0, 0.0, 0.0, 0.0, 0.0, 0.0, 0.0, 0.0, 0.0], [0.0, 0.0, 0.35000000000000003, 0.5, 21.5, 0.0, 1.0, 0.0, 0.0, 0.0, 0.0, 0.0, 0.0, 0.0, 0.0, 0.0, 0.0, 0.0, 0.0, 0.0, 0.0, 0.0, 0.0], [0.0, 0.0, 0.35000000000000003, 0.5, 21.5, 0.0, 1.0, 0.0, 0.0, 0.0, 0.0, 0.0, 0.0, 0.0, 0.0, 0.0, 0.0, 0.0, 0.0, 0.0, 0.0, 0.0, 0.0], [0.0, 0.0, 0.35000000000000003, 0.5, 21.5, 0.0, 1.0, 0.0, 0.0, 0.0, 0.0, 0.0, 0.0, 0.0, 0.0, 0.0, 0.0, 0.0, 0.0, 0.0, 0.0, 0.0, 0.0], [0.0, 0.0, 0.019999999999999997, 0.0, 20.0, 0.0, 1.0, 0.0, 0.0, 0.0, 0.0, 0.0, 0.0, 0.0, 0.0, 0.0, 0.0, 0.0, 0.0, 0.0, 0.0, 0.0, 0.0], [0.0, 0.0, 0.019999999999999997, 0.0, 20.0, 0.0, 1.0, 0.0, 0.0, 0.0, 0.0, 0.0, 0.0, 0.0, 0.0, 0.0, 0.0, 0.0, 0.0, 0.0, 0.0, 0.0, 0.0]]\n"
     ]
    }
   ],
   "source": [
    "print(pred_date_data[0])"
   ]
  },
  {
   "cell_type": "code",
   "execution_count": 11,
   "metadata": {},
   "outputs": [],
   "source": [
    "# 加載標準化器\n",
    "with open(f'./scalar_v3_3/x_scaler-AA3.pkl', 'rb') as f:\n",
    "    x_scaler = pickle.load(f)\n",
    "with open(f'./scalar_v3_3/y_scaler-AA3.pkl', 'rb') as f:\n",
    "    y_scaler = pickle.load(f)"
   ]
  },
  {
   "cell_type": "code",
   "execution_count": 14,
   "metadata": {},
   "outputs": [],
   "source": [
    "def get_single_day_output(x, x_scaler, y_scaler, device):\n",
    "    # 转为 NumPy 数组\n",
    "    x = np.array(x, dtype=np.float32)\n",
    "    # print(x.shape)\n",
    "    # 特征和位置的索引\n",
    "    feature_indices = list(range(len(features)))\n",
    "    # print(len(features))\n",
    "    loc_indices = list(range(len(features), len(features) + NUM_LOCS))\n",
    "    # print(NUM_LOCS)\n",
    "    # 对特征部分进行标准化，排除 loc 的 One-Hot 编码部分\n",
    "    x_features = x[:, feature_indices]\n",
    "    x_locs = x[:, loc_indices]\n",
    "\n",
    "    # 标准化特征部分\n",
    "    x_features_scaled = x_scaler.transform(x_features)\n",
    "\n",
    "    # 将标准化的特征和 One-Hot 编码的 loc 合并\n",
    "    x_scaled = np.hstack([x_features_scaled, x_locs])\n",
    "\n",
    "    # 转为 PyTorch 张量，移动到指定设备\n",
    "    x_tensor = torch.tensor(x_scaled, dtype=torch.float32).to(device).unsqueeze(0)  # [batch=1, seq_len, features]\n",
    "\n",
    "    # 确保模型处于评估模式\n",
    "    model.eval()\n",
    "    with torch.no_grad():\n",
    "        # 模型预测\n",
    "        y_pred = model(x_tensor)  # [batch=1, seq_len, 1]\n",
    "        y_pred = y_pred.squeeze(0).cpu().numpy()  # [seq_len, 1]\n",
    "\n",
    "    # 逆标准化\n",
    "    y_pred = y_scaler.inverse_transform(y_pred)\n",
    "\n",
    "    return y_pred.flatten().tolist()[15:63]\n"
   ]
  },
  {
   "cell_type": "code",
   "execution_count": 15,
   "metadata": {},
   "outputs": [
    {
     "data": {
      "text/plain": [
       "[78.16989135742188,\n",
       " 76.76528930664062,\n",
       " 76.80075073242188,\n",
       " 79.172607421875,\n",
       " 81.20252990722656,\n",
       " 83.11767578125,\n",
       " 83.87533569335938,\n",
       " 96.41915893554688,\n",
       " 107.638427734375,\n",
       " 123.76954650878906,\n",
       " 144.2232208251953,\n",
       " 164.23439025878906,\n",
       " 207.67727661132812,\n",
       " 236.7650909423828,\n",
       " 257.6512145996094,\n",
       " 265.92779541015625,\n",
       " 262.3405456542969,\n",
       " 249.70069885253906,\n",
       " 238.37843322753906,\n",
       " 223.99285888671875,\n",
       " 217.2252960205078,\n",
       " 216.6966552734375,\n",
       " 215.8753204345703,\n",
       " 224.6254119873047,\n",
       " 272.0615539550781,\n",
       " 328.7159729003906,\n",
       " 349.7405090332031,\n",
       " 318.72589111328125,\n",
       " 269.9266052246094,\n",
       " 292.77642822265625,\n",
       " 413.90325927734375,\n",
       " 507.63494873046875,\n",
       " 436.4362487792969,\n",
       " 238.01544189453125,\n",
       " 84.0609130859375,\n",
       " 35.39421081542969,\n",
       " 39.05577087402344,\n",
       " 39.68025207519531,\n",
       " 36.31230163574219,\n",
       " 30.430892944335938,\n",
       " 23.951492309570312,\n",
       " 17.788742065429688,\n",
       " 12.691696166992188,\n",
       " 9.411941528320312,\n",
       " 6.320358753204346,\n",
       " 4.579056262969971,\n",
       " 3.6509861946105957,\n",
       " 2.0196385383605957]"
      ]
     },
     "execution_count": 15,
     "metadata": {},
     "output_type": "execute_result"
    }
   ],
   "source": [
    "get_single_day_output(pred_date_data[0], x_scaler, y_scaler, device)"
   ]
  },
  {
   "cell_type": "code",
   "execution_count": 16,
   "metadata": {},
   "outputs": [],
   "source": [
    "# 存储预测结果\n",
    "predictions = []\n",
    "\n",
    "# 遍历所有需要预测的数据\n",
    "for i, x in enumerate(pred_date_data):\n",
    "    try:\n",
    "        # 获取单天预测结果（返回 list）\n",
    "        y_pred = get_single_day_output(x, x_scaler, y_scaler, device)\n",
    "        y_pred = [max(0, val) for val in y_pred]\n",
    "        for y in y_pred:\n",
    "            predictions.append(y)\n",
    "    except Exception as e:\n",
    "        print(f\"Error in prediction for index {i}: {e}\")\n",
    "        predictions.append([0.0] * max_len)  # 用全零填补\n"
   ]
  },
  {
   "cell_type": "code",
   "execution_count": 17,
   "metadata": {},
   "outputs": [
    {
     "name": "stdout",
     "output_type": "stream",
     "text": [
      "78.16989135742188\n"
     ]
    }
   ],
   "source": [
    "print((predictions[0]))"
   ]
  },
  {
   "cell_type": "code",
   "execution_count": null,
   "metadata": {},
   "outputs": [],
   "source": []
  },
  {
   "cell_type": "code",
   "execution_count": null,
   "metadata": {},
   "outputs": [
    {
     "name": "stdout",
     "output_type": "stream",
     "text": [
      "提交文件已生成: ./submission.csv\n"
     ]
    },
    {
     "ename": "",
     "evalue": "",
     "output_type": "error",
     "traceback": [
      "\u001b[1;31mThe Kernel crashed while executing code in the current cell or a previous cell. \n",
      "\u001b[1;31mPlease review the code in the cell(s) to identify a possible cause of the failure. \n",
      "\u001b[1;31mClick <a href='https://aka.ms/vscodeJupyterKernelCrash'>here</a> for more info. \n",
      "\u001b[1;31mView Jupyter <a href='command:jupyter.viewOutput'>log</a> for further details."
     ]
    }
   ],
   "source": [
    "# 平均每段时间的预测值作为答案\n",
    "submission_data = []\n",
    "for seq_id, y in zip(df['序號'], predictions):\n",
    "    # 获取对应时间段的平均值\n",
    "    # seq_id = str(seq_id)\n",
    "    # time_index = int(seq_id[8:10])  # 提取时间索引\n",
    "    # pred_value = np.mean(y_pred[time_index])  # 平均值\n",
    "    y_rounded = round(y, 2)\n",
    "    submission_data.append([seq_id, y_rounded])\n",
    "\n",
    "# 转为 DataFrame\n",
    "submission_df = pd.DataFrame(submission_data, columns=['序號', '答案'])\n",
    "\n",
    "# 保存为 CSV 文件\n",
    "submission_df.to_csv('./upC-AA3r.csv', index=False)\n",
    "print(\"提交文件已生成: ./submission.csv\")\n"
   ]
  }
 ],
 "metadata": {
  "kernelspec": {
   "display_name": "wsd",
   "language": "python",
   "name": "python3"
  },
  "language_info": {
   "codemirror_mode": {
    "name": "ipython",
    "version": 3
   },
   "file_extension": ".py",
   "mimetype": "text/x-python",
   "name": "python",
   "nbconvert_exporter": "python",
   "pygments_lexer": "ipython3",
   "version": "3.9.19"
  }
 },
 "nbformat": 4,
 "nbformat_minor": 2
}
